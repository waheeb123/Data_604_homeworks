{
  "cells": [
    {
      "cell_type": "markdown",
      "metadata": {
        "id": "view-in-github",
        "colab_type": "text"
      },
      "source": [
        "<a href=\"https://colab.research.google.com/github/waheeb123/Data_604_homeworks/blob/main/Copy_of_Copy_of_chap01.ipynb\" target=\"_parent\"><img src=\"https://colab.research.google.com/assets/colab-badge.svg\" alt=\"Open In Colab\"/></a>"
      ]
    },
    {
      "cell_type": "markdown",
      "metadata": {
        "id": "Qcrt07ZLHA2J"
      },
      "source": [
        "# Modeling and Simulation in Python\n",
        "Waheeb Algabri\n",
        "\n",
        "Chapter 1\n",
        "\n",
        "Copyright 2020 Allen Downey\n",
        "\n",
        "License: [Creative Commons Attribution 4.0 International](https://creativecommons.org/licenses/by/4.0)"
      ]
    },
    {
      "cell_type": "markdown",
      "metadata": {
        "id": "mgUR6ZHSHA2O"
      },
      "source": [
        "## Jupyter\n",
        "\n",
        "Welcome to *Modeling and Simulation*, welcome to Python, and welcome to Jupyter.\n",
        "\n",
        "This is a Jupyter notebook, which is a development environment where you can write and run Python code.  Each notebook is divided into cells.  Each cell contains either text (like this cell) or Python code.\n",
        "\n",
        "### Selecting and running cells\n",
        "\n",
        "To select a cell, click in the left margin next to the cell.  You should see a blue frame surrounding the selected cell.\n",
        "\n",
        "To edit a code cell, click inside the cell.  You should see a green frame around the selected cell, and you should see a cursor inside the cell.\n",
        "\n",
        "To edit a text cell, double-click inside the cell.  Again, you should see a green frame around the selected cell, and you should see a cursor inside the cell.\n",
        "\n",
        "To run a cell, hold down SHIFT and press ENTER.  \n",
        "\n",
        "* If you run a text cell, Jupyter formats the text and displays the result.\n",
        "\n",
        "* If you run a code cell, Jupyter runs the Python code in the cell and displays the result, if any.\n",
        "\n",
        "To try it out, edit this cell, change some of the text, and then press SHIFT-ENTER to format it."
      ]
    },
    {
      "cell_type": "markdown",
      "metadata": {
        "id": "daaQW-bzHA2O"
      },
      "source": [
        "### Adding and removing cells\n",
        "\n",
        "You can add and remove cells from a notebook using the buttons in the toolbar and the items in the menu, both of which you should see at the top of this notebook.\n",
        "\n",
        "Try the following exercises:\n",
        "\n",
        "1.  From the Insert menu select \"Insert cell below\" to add a cell below this one.  By default, you get a code cell, as you can see in the pulldown menu that says \"Code\".\n",
        "\n",
        "2.  In the new cell, add a print statement like `print('Hello')`, and run it.\n",
        "\n",
        "3.  Add another cell, select the new cell, and then click on the pulldown menu that says \"Code\" and select \"Markdown\".  This makes the new cell a text cell.\n",
        "\n",
        "4.  In the new cell, type some text, and then run it.\n",
        "\n",
        "5.  Use the arrow buttons in the toolbar to move cells up and down.\n",
        "\n",
        "6.  Use the cut, copy, and paste buttons to delete, add, and move cells.\n",
        "\n",
        "7.  As you make changes, Jupyter saves your notebook automatically, but if you want to make sure, you can press the save button, which looks like a floppy disk from the 1990s.\n",
        "\n",
        "8.  Finally, when you are done with a notebook, select \"Close and Halt\" from the File menu."
      ]
    },
    {
      "cell_type": "markdown",
      "metadata": {
        "id": "v0hWSV39HA2P"
      },
      "source": [
        "### Using the notebooks\n",
        "\n",
        "The notebooks for each chapter contain the code from the chapter along with additional examples, explanatory text, and exercises.  I recommend you \n",
        "\n",
        "1. Read the chapter first to understand the concepts and vocabulary, \n",
        "2. Run the notebook to review what you learned and see it in action, and then\n",
        "3. Attempt the exercises.\n",
        "\n",
        "If you try to work through the notebooks without reading the book, you're gonna have a bad time.  The notebooks contain some explanatory text, but it is probably not enough to make sense if you have not read the book.  If you are working through a notebook and you get stuck, you might want to re-read (or read!) the corresponding section of the book."
      ]
    },
    {
      "cell_type": "markdown",
      "metadata": {
        "id": "7ihznxiPHA2P"
      },
      "source": [
        "### Installing modules\n",
        "\n",
        "These notebooks use standard Python modules like NumPy and SciPy.  I assume you already have them installed in your environment.\n",
        "\n",
        "They also use two less common modules: Pint, which provides units, and modsim, which contains code I wrote specifically for this book.\n",
        "\n",
        "The following cells check whether you have these modules already and tries to install them if you don't."
      ]
    },
    {
      "cell_type": "code",
      "execution_count": null,
      "metadata": {
        "id": "uAHgd6RBHA2Q",
        "outputId": "865afe27-dfbf-4fb1-a9cd-2f46c6928663",
        "colab": {
          "base_uri": "https://localhost:8080/"
        }
      },
      "outputs": [
        {
          "output_type": "stream",
          "name": "stdout",
          "text": [
            "Looking in indexes: https://pypi.org/simple, https://us-python.pkg.dev/colab-wheels/public/simple/\n",
            "Collecting pint\n",
            "  Downloading Pint-0.22-py3-none-any.whl (294 kB)\n",
            "\u001b[2K     \u001b[90m━━━━━━━━━━━━━━━━━━━━━━━━━━━━━━━━━━━━━━━\u001b[0m \u001b[32m294.0/294.0 kB\u001b[0m \u001b[31m6.0 MB/s\u001b[0m eta \u001b[36m0:00:00\u001b[0m\n",
            "\u001b[?25hRequirement already satisfied: typing-extensions in /usr/local/lib/python3.10/dist-packages (from pint) (4.5.0)\n",
            "Installing collected packages: pint\n",
            "Successfully installed pint-0.22\n"
          ]
        }
      ],
      "source": [
        "try:\n",
        "    import pint\n",
        "except ImportError:\n",
        "    !pip install pint\n",
        "    import pint"
      ]
    },
    {
      "cell_type": "code",
      "execution_count": null,
      "metadata": {
        "id": "g9iHEiy2HA2R",
        "outputId": "a8890dbc-a20f-4bcd-e32b-6ce958a4e961",
        "colab": {
          "base_uri": "https://localhost:8080/"
        }
      },
      "outputs": [
        {
          "output_type": "stream",
          "name": "stdout",
          "text": [
            "Looking in indexes: https://pypi.org/simple, https://us-python.pkg.dev/colab-wheels/public/simple/\n",
            "Collecting modsimpy\n",
            "  Downloading modsimpy-1.1.3.tar.gz (19 kB)\n",
            "  Preparing metadata (setup.py) ... \u001b[?25l\u001b[?25hdone\n",
            "Building wheels for collected packages: modsimpy\n",
            "  Building wheel for modsimpy (setup.py) ... \u001b[?25l\u001b[?25hdone\n",
            "  Created wheel for modsimpy: filename=modsimpy-1.1.3-py3-none-any.whl size=20335 sha256=e4b3b37036dd801cde61fb0911c67f6bdcd16dce7fbcf9b601b86f7ccfc08757\n",
            "  Stored in directory: /root/.cache/pip/wheels/3a/21/22/b652cf3a4fc674c3377fdeb77da04bba02954a4ea5abe331be\n",
            "Successfully built modsimpy\n",
            "Installing collected packages: modsimpy\n",
            "Successfully installed modsimpy-1.1.3\n"
          ]
        }
      ],
      "source": [
        "try:\n",
        "    from modsim import *\n",
        "except ImportError:\n",
        "    !pip install modsimpy\n",
        "    from modsim import *"
      ]
    },
    {
      "cell_type": "markdown",
      "metadata": {
        "id": "mbLKGsyLHA2S"
      },
      "source": [
        "The first time you run this on a new installation of Python, it might produce a warning message in pink.  That's probably ok, but if you get a message that says `modsim.py depends on Python 3.7 features`, that means you have an older version of Python, and some features in `modsim.py` won't work correctly.\n",
        "\n",
        "If you need a newer version of Python, I recommend installing Anaconda.  You'll find more information in the preface of the book.\n",
        "\n",
        "You can find out what version of Python and Jupyter you have by running the following cells."
      ]
    },
    {
      "cell_type": "code",
      "execution_count": null,
      "metadata": {
        "id": "9HEpoBGDHA2S",
        "outputId": "ce03abfd-7e4a-4af1-e4e2-21fec7ab69f7",
        "colab": {
          "base_uri": "https://localhost:8080/"
        }
      },
      "outputs": [
        {
          "output_type": "stream",
          "name": "stdout",
          "text": [
            "Python 3.10.11\n"
          ]
        }
      ],
      "source": [
        "!python --version"
      ]
    },
    {
      "cell_type": "code",
      "execution_count": null,
      "metadata": {
        "id": "Vv-Rm0ewHA2S",
        "outputId": "50888937-d369-44e1-dfe0-704bdf5bb506",
        "colab": {
          "base_uri": "https://localhost:8080/"
        }
      },
      "outputs": [
        {
          "output_type": "stream",
          "name": "stdout",
          "text": [
            "6.4.8\n"
          ]
        }
      ],
      "source": [
        "!jupyter-notebook --version"
      ]
    },
    {
      "cell_type": "markdown",
      "metadata": {
        "id": "6_xy_PCVHA2T"
      },
      "source": [
        "### Configuring Jupyter\n",
        "\n",
        "The following cell:\n",
        "\n",
        "1.  Uses a Jupyter \"magic command\" to specify whether figures should appear in the notebook, or pop up in a new window.\n",
        "\n",
        "2.  Configures Jupyter to display some values that would otherwise be invisible.  \n",
        "\n",
        "Select the following cell and press SHIFT-ENTER to run it."
      ]
    },
    {
      "cell_type": "code",
      "execution_count": null,
      "metadata": {
        "id": "fQ31HEyGHA2T"
      },
      "outputs": [],
      "source": [
        "# Configure Jupyter so figures appear in the notebook\n",
        "%matplotlib inline\n",
        "\n",
        "# Configure Jupyter to display the assigned value after an assignment\n",
        "%config InteractiveShell.ast_node_interactivity='last_expr_or_assign'"
      ]
    },
    {
      "cell_type": "markdown",
      "metadata": {
        "id": "MtKw56m7HA2T"
      },
      "source": [
        "## The penny myth\n",
        "\n",
        "The following cells contain code from the beginning of Chapter 1.\n",
        "\n",
        "`modsim` defines `UNITS`, which contains variables representing pretty much every unit you've ever heard of.  It uses [Pint](https://pint.readthedocs.io/en/latest/), which is a Python library that provides tools for computing with units.\n",
        "\n",
        "The following lines create new variables named `meter` and `second`."
      ]
    },
    {
      "cell_type": "code",
      "execution_count": null,
      "metadata": {
        "id": "kgqjbTilHA2U",
        "outputId": "56f29235-ff47-42c1-fbf4-177dfcfdc928",
        "colab": {
          "base_uri": "https://localhost:8080/",
          "height": 34
        }
      },
      "outputs": [
        {
          "output_type": "execute_result",
          "data": {
            "text/plain": [
              "<Unit('meter')>"
            ],
            "text/html": [
              "meter"
            ],
            "text/latex": "$\\mathrm{meter}$"
          },
          "metadata": {},
          "execution_count": 6
        }
      ],
      "source": [
        "meter = UNITS.meter"
      ]
    },
    {
      "cell_type": "code",
      "execution_count": null,
      "metadata": {
        "id": "p4rxOyReHA2U",
        "outputId": "c359e1ed-c070-4a27-c1bc-94f37e1ea482",
        "colab": {
          "base_uri": "https://localhost:8080/",
          "height": 34
        }
      },
      "outputs": [
        {
          "output_type": "execute_result",
          "data": {
            "text/plain": [
              "<Unit('second')>"
            ],
            "text/html": [
              "second"
            ],
            "text/latex": "$\\mathrm{second}$"
          },
          "metadata": {},
          "execution_count": 7
        }
      ],
      "source": [
        "second = UNITS.second"
      ]
    },
    {
      "cell_type": "markdown",
      "metadata": {
        "id": "zOIX067OHA2U"
      },
      "source": [
        "To find out what other units are defined, type `UNITS.` (including the period) in the next cell and then press TAB.  You should see a pop-up menu with a list of units."
      ]
    },
    {
      "cell_type": "code",
      "execution_count": null,
      "metadata": {
        "id": "t0WGM1VOHA2V"
      },
      "outputs": [],
      "source": []
    },
    {
      "cell_type": "markdown",
      "metadata": {
        "id": "888OQIF-HA2V"
      },
      "source": [
        "Create a variable named `a` and give it the value of acceleration due to gravity."
      ]
    },
    {
      "cell_type": "code",
      "execution_count": null,
      "metadata": {
        "id": "YzIk5JsEHA2V",
        "outputId": "38dc589b-6413-47f1-8bf5-f10b0492a8de",
        "colab": {
          "base_uri": "https://localhost:8080/",
          "height": 38
        }
      },
      "outputs": [
        {
          "output_type": "execute_result",
          "data": {
            "text/plain": [
              "9.8 <Unit('meter / second ** 2')>"
            ],
            "text/html": [
              "9.8 meter/second<sup>2</sup>"
            ],
            "text/latex": "$9.8\\ \\frac{\\mathrm{meter}}{\\mathrm{second}^{2}}$"
          },
          "metadata": {},
          "execution_count": 8
        }
      ],
      "source": [
        "a = 9.8 * meter / second**2"
      ]
    },
    {
      "cell_type": "markdown",
      "metadata": {
        "id": "UOxAHPluHA2W"
      },
      "source": [
        "Create `t` and give it the value 4 seconds."
      ]
    },
    {
      "cell_type": "code",
      "execution_count": null,
      "metadata": {
        "id": "UfpgP7skHA2W",
        "outputId": "bf51f9b5-913c-4db5-91d6-d94019de7ceb",
        "colab": {
          "base_uri": "https://localhost:8080/",
          "height": 34
        }
      },
      "outputs": [
        {
          "output_type": "execute_result",
          "data": {
            "text/plain": [
              "4 <Unit('second')>"
            ],
            "text/html": [
              "4 second"
            ],
            "text/latex": "$4\\ \\mathrm{second}$"
          },
          "metadata": {},
          "execution_count": 9
        }
      ],
      "source": [
        "t = 4 * second"
      ]
    },
    {
      "cell_type": "markdown",
      "metadata": {
        "id": "uQzqf3ykHA2W"
      },
      "source": [
        "Compute the distance a penny would fall after `t` seconds with constant acceleration `a`.  Notice that the units of the result are correct."
      ]
    },
    {
      "cell_type": "code",
      "execution_count": null,
      "metadata": {
        "id": "gupJQvZaHA2W",
        "outputId": "5a27b10c-06f4-4bc8-a005-7cd8ca4460b7",
        "colab": {
          "base_uri": "https://localhost:8080/",
          "height": 34
        }
      },
      "outputs": [
        {
          "output_type": "execute_result",
          "data": {
            "text/plain": [
              "78.4 <Unit('meter')>"
            ],
            "text/html": [
              "78.4 meter"
            ],
            "text/latex": "$78.4\\ \\mathrm{meter}$"
          },
          "metadata": {},
          "execution_count": 10
        }
      ],
      "source": [
        "a * t**2 / 2"
      ]
    },
    {
      "cell_type": "markdown",
      "metadata": {
        "id": "CMTeC63mHA2X"
      },
      "source": [
        "**Exercise**: Compute the velocity of the penny after `t` seconds.  Check that the units of the result are correct."
      ]
    },
    {
      "cell_type": "code",
      "execution_count": null,
      "metadata": {
        "id": "CsQRfD2KHA2X",
        "outputId": "a3eea3b9-cde3-439a-b9c3-0661a61b0821",
        "colab": {
          "base_uri": "https://localhost:8080/",
          "height": 34
        }
      },
      "outputs": [
        {
          "output_type": "execute_result",
          "data": {
            "text/plain": [
              "39.2 <Unit('meter / second')>"
            ],
            "text/html": [
              "39.2 meter/second"
            ],
            "text/latex": "$39.2\\ \\frac{\\mathrm{meter}}{\\mathrm{second}}$"
          },
          "metadata": {},
          "execution_count": 11
        }
      ],
      "source": [
        "# Define the values\n",
        "a = 9.8 * meter / second**2\n",
        "t = 4 * second\n",
        "\n",
        "# Calculate the velocity\n",
        "velocity = a * t\n",
        "\n",
        "# Print the result\n",
        "velocity\n"
      ]
    },
    {
      "cell_type": "markdown",
      "metadata": {
        "id": "0ur2t1JwHA2X"
      },
      "source": [
        "**Exercise**: Why would it be nonsensical to add `a` and `t`? What happens if you try?"
      ]
    },
    {
      "cell_type": "code",
      "execution_count": null,
      "metadata": {
        "id": "qdYqMZ--HA2Y",
        "outputId": "50167d64-bc98-4eec-e697-7ffde6949537",
        "colab": {
          "base_uri": "https://localhost:8080/",
          "height": 324
        }
      },
      "outputs": [
        {
          "output_type": "error",
          "ename": "DimensionalityError",
          "evalue": "ignored",
          "traceback": [
            "\u001b[0;31m---------------------------------------------------------------------------\u001b[0m",
            "\u001b[0;31mDimensionalityError\u001b[0m                       Traceback (most recent call last)",
            "\u001b[0;32m<ipython-input-12-b26583fe30df>\u001b[0m in \u001b[0;36m<cell line: 1>\u001b[0;34m()\u001b[0m\n\u001b[0;32m----> 1\u001b[0;31m \u001b[0mresult\u001b[0m \u001b[0;34m=\u001b[0m \u001b[0ma\u001b[0m \u001b[0;34m+\u001b[0m \u001b[0mt\u001b[0m\u001b[0;34m\u001b[0m\u001b[0;34m\u001b[0m\u001b[0m\n\u001b[0m\u001b[1;32m      2\u001b[0m \u001b[0mprint\u001b[0m\u001b[0;34m(\u001b[0m\u001b[0mresult\u001b[0m\u001b[0;34m)\u001b[0m\u001b[0;34m\u001b[0m\u001b[0;34m\u001b[0m\u001b[0m\n",
            "\u001b[0;32m/usr/local/lib/python3.10/dist-packages/pint/facets/plain/quantity.py\u001b[0m in \u001b[0;36m__add__\u001b[0;34m(self, other)\u001b[0m\n\u001b[1;32m    827\u001b[0m             \u001b[0;32mreturn\u001b[0m \u001b[0mself\u001b[0m\u001b[0;34m.\u001b[0m\u001b[0mto_timedelta\u001b[0m\u001b[0;34m(\u001b[0m\u001b[0;34m)\u001b[0m \u001b[0;34m+\u001b[0m \u001b[0mother\u001b[0m\u001b[0;34m\u001b[0m\u001b[0;34m\u001b[0m\u001b[0m\n\u001b[1;32m    828\u001b[0m \u001b[0;34m\u001b[0m\u001b[0m\n\u001b[0;32m--> 829\u001b[0;31m         \u001b[0;32mreturn\u001b[0m \u001b[0mself\u001b[0m\u001b[0;34m.\u001b[0m\u001b[0m_add_sub\u001b[0m\u001b[0;34m(\u001b[0m\u001b[0mother\u001b[0m\u001b[0;34m,\u001b[0m \u001b[0moperator\u001b[0m\u001b[0;34m.\u001b[0m\u001b[0madd\u001b[0m\u001b[0;34m)\u001b[0m\u001b[0;34m\u001b[0m\u001b[0;34m\u001b[0m\u001b[0m\n\u001b[0m\u001b[1;32m    830\u001b[0m \u001b[0;34m\u001b[0m\u001b[0m\n\u001b[1;32m    831\u001b[0m     \u001b[0m__radd__\u001b[0m \u001b[0;34m=\u001b[0m \u001b[0m__add__\u001b[0m\u001b[0;34m\u001b[0m\u001b[0;34m\u001b[0m\u001b[0m\n",
            "\u001b[0;32m/usr/local/lib/python3.10/dist-packages/pint/facets/plain/quantity.py\u001b[0m in \u001b[0;36mwrapped\u001b[0;34m(self, *args, **kwargs)\u001b[0m\n\u001b[1;32m     98\u001b[0m         \u001b[0;32melif\u001b[0m \u001b[0misinstance\u001b[0m\u001b[0;34m(\u001b[0m\u001b[0mother\u001b[0m\u001b[0;34m,\u001b[0m \u001b[0mlist\u001b[0m\u001b[0;34m)\u001b[0m \u001b[0;32mand\u001b[0m \u001b[0mother\u001b[0m \u001b[0;32mand\u001b[0m \u001b[0misinstance\u001b[0m\u001b[0;34m(\u001b[0m\u001b[0mother\u001b[0m\u001b[0;34m[\u001b[0m\u001b[0;36m0\u001b[0m\u001b[0;34m]\u001b[0m\u001b[0;34m,\u001b[0m \u001b[0mtype\u001b[0m\u001b[0;34m(\u001b[0m\u001b[0mself\u001b[0m\u001b[0;34m)\u001b[0m\u001b[0;34m)\u001b[0m\u001b[0;34m:\u001b[0m\u001b[0;34m\u001b[0m\u001b[0;34m\u001b[0m\u001b[0m\n\u001b[1;32m     99\u001b[0m             \u001b[0;32mreturn\u001b[0m \u001b[0mNotImplemented\u001b[0m\u001b[0;34m\u001b[0m\u001b[0;34m\u001b[0m\u001b[0m\n\u001b[0;32m--> 100\u001b[0;31m         \u001b[0;32mreturn\u001b[0m \u001b[0mf\u001b[0m\u001b[0;34m(\u001b[0m\u001b[0mself\u001b[0m\u001b[0;34m,\u001b[0m \u001b[0;34m*\u001b[0m\u001b[0margs\u001b[0m\u001b[0;34m,\u001b[0m \u001b[0;34m**\u001b[0m\u001b[0mkwargs\u001b[0m\u001b[0;34m)\u001b[0m\u001b[0;34m\u001b[0m\u001b[0;34m\u001b[0m\u001b[0m\n\u001b[0m\u001b[1;32m    101\u001b[0m \u001b[0;34m\u001b[0m\u001b[0m\n\u001b[1;32m    102\u001b[0m     \u001b[0;32mreturn\u001b[0m \u001b[0mwrapped\u001b[0m\u001b[0;34m\u001b[0m\u001b[0;34m\u001b[0m\u001b[0m\n",
            "\u001b[0;32m/usr/local/lib/python3.10/dist-packages/pint/facets/plain/quantity.py\u001b[0m in \u001b[0;36m_add_sub\u001b[0;34m(self, other, op)\u001b[0m\n\u001b[1;32m    729\u001b[0m \u001b[0;34m\u001b[0m\u001b[0m\n\u001b[1;32m    730\u001b[0m         \u001b[0;32mif\u001b[0m \u001b[0;32mnot\u001b[0m \u001b[0mself\u001b[0m\u001b[0;34m.\u001b[0m\u001b[0mdimensionality\u001b[0m \u001b[0;34m==\u001b[0m \u001b[0mother\u001b[0m\u001b[0;34m.\u001b[0m\u001b[0mdimensionality\u001b[0m\u001b[0;34m:\u001b[0m\u001b[0;34m\u001b[0m\u001b[0;34m\u001b[0m\u001b[0m\n\u001b[0;32m--> 731\u001b[0;31m             raise DimensionalityError(\n\u001b[0m\u001b[1;32m    732\u001b[0m                 \u001b[0mself\u001b[0m\u001b[0;34m.\u001b[0m\u001b[0m_units\u001b[0m\u001b[0;34m,\u001b[0m \u001b[0mother\u001b[0m\u001b[0;34m.\u001b[0m\u001b[0m_units\u001b[0m\u001b[0;34m,\u001b[0m \u001b[0mself\u001b[0m\u001b[0;34m.\u001b[0m\u001b[0mdimensionality\u001b[0m\u001b[0;34m,\u001b[0m \u001b[0mother\u001b[0m\u001b[0;34m.\u001b[0m\u001b[0mdimensionality\u001b[0m\u001b[0;34m\u001b[0m\u001b[0;34m\u001b[0m\u001b[0m\n\u001b[1;32m    733\u001b[0m             )\n",
            "\u001b[0;31mDimensionalityError\u001b[0m: Cannot convert from 'meter / second ** 2' ([length] / [time] ** 2) to 'second' ([time])"
          ]
        }
      ],
      "source": [
        "result = a + t\n",
        "print(result)\n"
      ]
    },
    {
      "cell_type": "markdown",
      "metadata": {
        "id": "xbT_mHenHA2Y"
      },
      "source": [
        "The error messages you get from Python are big and scary, but if you read them carefully, they contain a lot of useful information.\n",
        "\n",
        "1.  Start from the bottom and read up.\n",
        "2.  The last line usually tells you what type of error happened, and sometimes additional information.\n",
        "3.  The previous lines are a \"traceback\" of what was happening when the error occurred.  The first section of the traceback shows the code you wrote.  The following sections are often from Python libraries.\n",
        "\n",
        "In this example, you should get a `DimensionalityError`, which is defined by Pint to indicate that you have violated a rules of dimensional analysis: you cannot add quantities with different dimensions.\n",
        "\n",
        "Before you go on, you might want to delete the erroneous code so the notebook can run without errors."
      ]
    },
    {
      "cell_type": "code",
      "source": [
        "# Define the values\n",
        "a = 9.8 * meter / second**2\n",
        "t = 4 * second\n",
        "\n",
        "# Calculate the velocity\n",
        "velocity = a * t\n",
        "\n",
        "# Print the result\n",
        "velocity\n"
      ],
      "metadata": {
        "id": "rEAzUvAyJwgF"
      },
      "execution_count": null,
      "outputs": []
    },
    {
      "cell_type": "markdown",
      "metadata": {
        "id": "o89pOUPqHA2Y"
      },
      "source": [
        "## Falling pennies\n",
        "\n",
        "Now let's solve the falling penny problem.\n",
        "\n",
        "Set `h` to the height of the Empire State Building:"
      ]
    },
    {
      "cell_type": "code",
      "execution_count": null,
      "metadata": {
        "id": "6EBp4F0IHA2Y"
      },
      "outputs": [],
      "source": [
        "h = 381 * meter"
      ]
    },
    {
      "cell_type": "markdown",
      "metadata": {
        "id": "7HHQE-USHA2Z"
      },
      "source": [
        "Compute the time it would take a penny to fall, assuming constant acceleration.\n",
        "\n",
        "$ a t^2 / 2 = h $\n",
        "\n",
        "$ t = \\sqrt{2 h / a}$"
      ]
    },
    {
      "cell_type": "code",
      "execution_count": null,
      "metadata": {
        "id": "MIOQxE8AHA2Z"
      },
      "outputs": [],
      "source": [
        "t = sqrt(2 * h / a)"
      ]
    },
    {
      "cell_type": "markdown",
      "metadata": {
        "id": "xG159TJ4HA2a"
      },
      "source": [
        "Given `t`, we can compute the velocity of the penny when it lands.\n",
        "\n",
        "$v = a t$"
      ]
    },
    {
      "cell_type": "code",
      "execution_count": null,
      "metadata": {
        "id": "7Bc_8gCQHA2b"
      },
      "outputs": [],
      "source": [
        "v = a * t"
      ]
    },
    {
      "cell_type": "markdown",
      "metadata": {
        "id": "6y7N40_rHA2c"
      },
      "source": [
        "We can convert from one set of units to another like this:"
      ]
    },
    {
      "cell_type": "code",
      "execution_count": null,
      "metadata": {
        "id": "raQyJC9dHA2c"
      },
      "outputs": [],
      "source": [
        "mile = UNITS.mile\n",
        "hour = UNITS.hour"
      ]
    },
    {
      "cell_type": "code",
      "execution_count": null,
      "metadata": {
        "id": "nD5a_WlGHA2d"
      },
      "outputs": [],
      "source": [
        "v.to(mile/hour)"
      ]
    },
    {
      "cell_type": "markdown",
      "metadata": {
        "id": "QaX1hhwUHA2e"
      },
      "source": [
        "**Exercise:** Suppose you bring a 10 foot pole to the top of the Empire State Building and use it to drop the penny from `h` plus 10 feet.\n",
        "\n",
        "Define a variable named `foot` that contains the unit `foot` provided by `UNITS`.  Define a variable named `pole_height` and give it the value 10 feet.\n",
        "\n",
        "What happens if you add `h`, which is in units of meters, to `pole_height`, which is in units of feet?  What happens if you write the addition the other way around?"
      ]
    },
    {
      "cell_type": "code",
      "execution_count": null,
      "metadata": {
        "id": "bhWRbU_mHA2e"
      },
      "outputs": [],
      "source": [
        "# Define the unit 'foot' from UNITS\n",
        "foot = UNITS.foot\n",
        "\n",
        "# Define the pole height\n",
        "pole_height = 10 * foot\n",
        "\n",
        "# Try to add h and pole_height\n",
        "result = h + pole_height\n",
        "print(result)\n"
      ]
    },
    {
      "cell_type": "code",
      "execution_count": null,
      "metadata": {
        "id": "iCSTb2jyHA2f"
      },
      "outputs": [],
      "source": [
        "# Define the unit 'foot' from UNITS\n",
        "foot = UNITS.foot\n",
        "\n",
        "# Define the pole height\n",
        "pole_height = 10 * foot\n",
        "\n",
        "# Define the height of the Empire State Building\n",
        "h = 381 * meter\n",
        "\n",
        "# Add pole_height to h\n",
        "result = pole_height + h\n",
        "print(result)\n"
      ]
    },
    {
      "cell_type": "markdown",
      "metadata": {
        "id": "gfiLduHxHA2f"
      },
      "source": [
        "**Exercise:** In reality, air resistance limits the velocity of the penny.  At about 18 m/s, the force of air resistance equals the force of gravity and the penny stops accelerating.\n",
        "\n",
        "As a simplification, let's assume that the acceleration of the penny is `a` until the penny reaches 18 m/s, and then 0 afterwards.  What is the total time for the penny to fall 381 m?\n",
        "\n",
        "You can break this question into three parts:\n",
        "\n",
        "1. How long until the penny reaches 18 m/s with constant acceleration `a`.\n",
        "2. How far would the penny fall during that time?\n",
        "3. How long to fall the remaining distance with constant velocity 18 m/s?\n",
        "\n",
        "Suggestion: Assign each intermediate result to a variable with a meaningful name.  And assign units to all quantities!"
      ]
    },
    {
      "cell_type": "code",
      "execution_count": null,
      "metadata": {
        "id": "8jxziLmEHA2g"
      },
      "outputs": [],
      "source": [
        "# Define the maximum velocity with air resistance\n",
        "max_velocity = 18 * meter / second\n",
        "\n",
        "# Part 1: Time to reach maximum velocity\n",
        "t1 = max_velocity / a"
      ]
    },
    {
      "cell_type": "code",
      "execution_count": null,
      "metadata": {
        "id": "mhoeo_S6HA2g"
      },
      "outputs": [],
      "source": [
        "# Part 2: Distance during the acceleration phase\n",
        "d1 = (1/2) * a * t1**2"
      ]
    },
    {
      "cell_type": "code",
      "execution_count": null,
      "metadata": {
        "id": "pX8Bx7rjHA2h"
      },
      "outputs": [],
      "source": [
        "# Part 3: Time to fall the remaining distance with constant velocity\n",
        "d_remaining = 381 * meter - d1\n",
        "t2 = d_remaining / max_velocity\n"
      ]
    },
    {
      "cell_type": "code",
      "execution_count": null,
      "metadata": {
        "id": "r2kuA5SrHA2h"
      },
      "outputs": [],
      "source": [
        "# Total time for the penny to fall 381 meters\n",
        "total_time = t1 + t2"
      ]
    },
    {
      "cell_type": "code",
      "execution_count": null,
      "metadata": {
        "id": "olIj35FBHA2h"
      },
      "outputs": [],
      "source": [
        "# Print the results\n",
        "t1, d1, t2, total_time"
      ]
    },
    {
      "cell_type": "markdown",
      "metadata": {
        "id": "AzuKM65dHA2h"
      },
      "source": [
        "### Restart and run all\n",
        "\n",
        "When you change the contents of a cell, you have to run it again for those changes to have an effect.  If you forget to do that, the results can be confusing, because the code you are looking at is not the code you ran.\n",
        "\n",
        "If you ever lose track of which cells have run, and in what order, you should go to the Kernel menu and select \"Restart & Run All\".  Restarting the kernel means that all of your variables get deleted, and running all the cells means all of your code will run again, in the right order.\n",
        "\n",
        "**Exercise:**  Select \"Restart & Run All\" now and confirm that it does what you want."
      ]
    },
    {
      "cell_type": "code",
      "execution_count": null,
      "metadata": {
        "id": "FlLrt4rcHA2i"
      },
      "outputs": [],
      "source": []
    }
  ],
  "metadata": {
    "kernelspec": {
      "display_name": "Python 3",
      "language": "python",
      "name": "python3"
    },
    "language_info": {
      "codemirror_mode": {
        "name": "ipython",
        "version": 3
      },
      "file_extension": ".py",
      "mimetype": "text/x-python",
      "name": "python",
      "nbconvert_exporter": "python",
      "pygments_lexer": "ipython3",
      "version": "3.7.5"
    },
    "colab": {
      "provenance": [],
      "include_colab_link": true
    }
  },
  "nbformat": 4,
  "nbformat_minor": 0
}