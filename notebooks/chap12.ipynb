{
  "cells": [
    {
      "cell_type": "markdown",
      "metadata": {
        "id": "bQ4YhNV8H_Tn"
      },
      "source": [
        "# Modeling and Simulation in Python\n",
        "\n",
        "Waheeb Algabri\n",
        "\n",
        "Chapter 12\n",
        "\n",
        "Copyright 2017 Allen Downey\n",
        "\n",
        "License: [Creative Commons Attribution 4.0 International](https://creativecommons.org/licenses/by/4.0)\n"
      ]
    },
    {
      "cell_type": "code",
      "source": [
        "try:\n",
        "    import pint\n",
        "except ImportError:\n",
        "    !pip install pint\n",
        "    import pint"
      ],
      "metadata": {
        "id": "BwqII1lhIKKa"
      },
      "execution_count": 55,
      "outputs": []
    },
    {
      "cell_type": "code",
      "source": [
        "try:\n",
        "    from modsim import *\n",
        "except ImportError:\n",
        "    !pip install modsimpy\n",
        "    from modsim import *"
      ],
      "metadata": {
        "id": "sji2DGumINOi"
      },
      "execution_count": 56,
      "outputs": []
    },
    {
      "cell_type": "code",
      "execution_count": 57,
      "metadata": {
        "id": "eTMuDg5RH_To"
      },
      "outputs": [],
      "source": [
        "# Configure Jupyter so figures appear in the notebook\n",
        "%matplotlib inline\n",
        "\n",
        "# Configure Jupyter to display the assigned value after an assignment\n",
        "%config InteractiveShell.ast_node_interactivity='last_expr_or_assign'\n",
        "\n",
        "# import functions from the modsim.py module\n",
        "from modsim import *"
      ]
    },
    {
      "cell_type": "markdown",
      "metadata": {
        "id": "yvU74LlHH_Tq"
      },
      "source": [
        "### Code\n",
        "\n",
        "Here's the code from the previous notebook that we'll need."
      ]
    },
    {
      "cell_type": "code",
      "execution_count": 58,
      "metadata": {
        "id": "4xn0iHjBH_Tq"
      },
      "outputs": [],
      "source": [
        "def make_system(beta, gamma):\n",
        "    \"\"\"Make a system object for the SIR model.\n",
        "\n",
        "    beta: contact rate in days\n",
        "    gamma: recovery rate in days\n",
        "\n",
        "    returns: System object\n",
        "    \"\"\"\n",
        "    init = State(S=89, I=1, R=0)\n",
        "    init /= sum(init)\n",
        "\n",
        "    t0 = 0\n",
        "    t_end = 7 * 14\n",
        "\n",
        "    return System(init=init, t0=t0, t_end=t_end,\n",
        "                  beta=beta, gamma=gamma)"
      ]
    },
    {
      "cell_type": "code",
      "execution_count": 59,
      "metadata": {
        "id": "pfhNzPWGH_Tr"
      },
      "outputs": [],
      "source": [
        "def update_func(state, t, system):\n",
        "    \"\"\"Update the SIR model.\n",
        "\n",
        "    state: State with variables S, I, R\n",
        "    t: time step\n",
        "    system: System with beta and gamma\n",
        "\n",
        "    returns: State object\n",
        "    \"\"\"\n",
        "    s, i, r = state\n",
        "\n",
        "    infected = system.beta * i * s\n",
        "    recovered = system.gamma * i\n",
        "\n",
        "    s -= infected\n",
        "    i += infected - recovered\n",
        "    r += recovered\n",
        "\n",
        "    return State(S=s, I=i, R=r)"
      ]
    },
    {
      "cell_type": "code",
      "execution_count": 60,
      "metadata": {
        "id": "NnDEr-ImH_Tr"
      },
      "outputs": [],
      "source": [
        "def run_simulation(system, update_func):\n",
        "    \"\"\"Runs a simulation of the system.\n",
        "\n",
        "    system: System object\n",
        "    update_func: function that updates state\n",
        "\n",
        "    returns: TimeFrame\n",
        "    \"\"\"\n",
        "    frame = TimeFrame(columns=system.init.index)\n",
        "    frame.row[system.t0] = system.init\n",
        "\n",
        "    for t in linrange(system.t0, system.t_end):\n",
        "        frame.row[t+1] = update_func(frame.row[t], t, system)\n",
        "\n",
        "    return frame"
      ]
    },
    {
      "cell_type": "markdown",
      "metadata": {
        "id": "vfPujVNlH_Ts"
      },
      "source": [
        "### Metrics"
      ]
    },
    {
      "cell_type": "markdown",
      "metadata": {
        "id": "mW6sw6WbH_Ts"
      },
      "source": [
        "Given the results, we can compute metrics that quantify whatever we are interested in, like the total number of sick students, for example."
      ]
    },
    {
      "cell_type": "code",
      "execution_count": 61,
      "metadata": {
        "id": "GxqHQZR1H_Tt"
      },
      "outputs": [],
      "source": [
        "def calc_total_infected(results):\n",
        "    \"\"\"Fraction of population infected during the simulation.\n",
        "\n",
        "    results: DataFrame with columns S, I, R\n",
        "\n",
        "    returns: fraction of population\n",
        "    \"\"\"\n",
        "    return get_first_value(results.S) - get_last_value(results.S)"
      ]
    },
    {
      "cell_type": "markdown",
      "metadata": {
        "id": "DMBaRV7kH_Tt"
      },
      "source": [
        "Here's an example.|"
      ]
    },
    {
      "cell_type": "code",
      "execution_count": 62,
      "metadata": {
        "id": "GKloHRi2H_Tu",
        "outputId": "0a10ed15-5647-4320-ffe3-59c5f626a11d",
        "colab": {
          "base_uri": "https://localhost:8080/"
        }
      },
      "outputs": [
        {
          "output_type": "stream",
          "name": "stdout",
          "text": [
            "0.333 0.25 0.46716293183605073\n"
          ]
        }
      ],
      "source": [
        "beta = 0.333\n",
        "gamma = 0.25\n",
        "system = make_system(beta, gamma)\n",
        "\n",
        "results = run_simulation(system, update_func)\n",
        "print(beta, gamma, calc_total_infected(results))"
      ]
    },
    {
      "cell_type": "markdown",
      "metadata": {
        "id": "s2FUjqnaH_Tu"
      },
      "source": [
        "**Exercise:** Write functions that take a `TimeFrame` object as a parameter and compute the other metrics mentioned in the book:\n",
        "\n",
        "1.  The fraction of students who are sick at the peak of the outbreak.\n",
        "\n",
        "2.  The day the outbreak peaks.\n",
        "\n",
        "3.  The fraction of students who are sick at the end of the semester.\n",
        "\n",
        "Note: Not all of these functions require the `System` object, but when you write a set of related functons, it is often convenient if they all take the same parameters.\n",
        "\n",
        "Hint:  If you have a `TimeSeries` called `I`, you can compute the largest value of the series like this:\n",
        "\n",
        "    I.max()\n",
        "\n",
        "And the index of the largest value like this:\n",
        "\n",
        "    I.idxmax()\n",
        "\n",
        "You can read about these functions in the `Series` [documentation](https://pandas.pydata.org/pandas-docs/stable/generated/pandas.Series.html)."
      ]
    },
    {
      "cell_type": "code",
      "execution_count": 63,
      "metadata": {
        "id": "bLClh5VcH_Tv",
        "outputId": "7ff97c9d-b803-4c52-9738-2dc8c102b2f6",
        "colab": {
          "base_uri": "https://localhost:8080/"
        }
      },
      "outputs": [
        {
          "output_type": "execute_result",
          "data": {
            "text/plain": [
              "0.043536202687592354"
            ]
          },
          "metadata": {},
          "execution_count": 63
        }
      ],
      "source": [
        "# The fraction of students who are sick at the peak of the outbreak.\n",
        "\n",
        "def fraction_sickatpeak(results):\n",
        "    return results.I.max()\n",
        "\n",
        "fraction_sickatpeak(results)"
      ]
    },
    {
      "cell_type": "code",
      "execution_count": 64,
      "metadata": {
        "id": "3-9by1yeH_Tw",
        "outputId": "6e436ded-404d-4d20-d79b-2021a914839a",
        "colab": {
          "base_uri": "https://localhost:8080/"
        }
      },
      "outputs": [
        {
          "output_type": "execute_result",
          "data": {
            "text/plain": [
              "30"
            ]
          },
          "metadata": {},
          "execution_count": 64
        }
      ],
      "source": [
        "# The day the outbreak peaks\n",
        "\n",
        "def day_peak(results):\n",
        "    return results.I.idxmax()\n",
        "\n",
        "day_peak(results)"
      ]
    },
    {
      "cell_type": "code",
      "execution_count": 65,
      "metadata": {
        "id": "PwZsPXpjH_Tw",
        "outputId": "b8fb3c9a-2457-4b25-9b0d-b2976d8dbcf1",
        "colab": {
          "base_uri": "https://localhost:8080/"
        }
      },
      "outputs": [
        {
          "output_type": "execute_result",
          "data": {
            "text/plain": [
              "0.0006741943156034474"
            ]
          },
          "metadata": {},
          "execution_count": 65
        }
      ],
      "source": [
        "# The fraction of students who are sick at the end of the semester.\n",
        "\n",
        "def sick_at_end(results):\n",
        "    return get_last_value(results.I)\n",
        "\n",
        "sick_at_end(results)"
      ]
    },
    {
      "cell_type": "markdown",
      "metadata": {
        "id": "KYcnfLqdH_Tw"
      },
      "source": [
        "### What if?"
      ]
    },
    {
      "cell_type": "markdown",
      "metadata": {
        "id": "WnkZgISBH_Tx"
      },
      "source": [
        "We can use this model to evaluate \"what if\" scenarios.  For example, this function models the effect of immunization by moving some fraction of the population from S to R before the simulation starts."
      ]
    },
    {
      "cell_type": "code",
      "execution_count": 66,
      "metadata": {
        "id": "pWX7FXFlH_Tx"
      },
      "outputs": [],
      "source": [
        "def add_immunization(system, fraction):\n",
        "    \"\"\"Immunize a fraction of the population.\n",
        "\n",
        "    Moves the given fraction from S to R.\n",
        "\n",
        "    system: System object\n",
        "    fraction: number from 0 to 1\n",
        "    \"\"\"\n",
        "    system.init.S -= fraction\n",
        "    system.init.R += fraction"
      ]
    },
    {
      "cell_type": "markdown",
      "metadata": {
        "id": "J4e3uakiH_Ty"
      },
      "source": [
        "Let's start again with the system we used in the previous sections."
      ]
    },
    {
      "cell_type": "code",
      "execution_count": 67,
      "metadata": {
        "id": "g19xhhfoH_Ty",
        "outputId": "bd2489c5-298a-44c2-b0a3-ee60f53dc290",
        "colab": {
          "base_uri": "https://localhost:8080/",
          "height": 204
        }
      },
      "outputs": [
        {
          "output_type": "execute_result",
          "data": {
            "text/plain": [
              "init     S    0.988889\n",
              "I    0.011111\n",
              "R    0.000000\n",
              "dtyp...\n",
              "t0                                                       0\n",
              "t_end                                                   98\n",
              "beta                                              0.333333\n",
              "gamma                                                 0.25\n",
              "dtype: object"
            ],
            "text/html": [
              "<div>\n",
              "<style scoped>\n",
              "    .dataframe tbody tr th:only-of-type {\n",
              "        vertical-align: middle;\n",
              "    }\n",
              "\n",
              "    .dataframe tbody tr th {\n",
              "        vertical-align: top;\n",
              "    }\n",
              "\n",
              "    .dataframe thead th {\n",
              "        text-align: right;\n",
              "    }\n",
              "</style>\n",
              "<table border=\"1\" class=\"dataframe\">\n",
              "  <thead>\n",
              "    <tr style=\"text-align: right;\">\n",
              "      <th></th>\n",
              "      <th>values</th>\n",
              "    </tr>\n",
              "  </thead>\n",
              "  <tbody>\n",
              "    <tr>\n",
              "      <th>init</th>\n",
              "      <td>S    0.988889\n",
              "I    0.011111\n",
              "R    0.000000\n",
              "dtyp...</td>\n",
              "    </tr>\n",
              "    <tr>\n",
              "      <th>t0</th>\n",
              "      <td>0</td>\n",
              "    </tr>\n",
              "    <tr>\n",
              "      <th>t_end</th>\n",
              "      <td>98</td>\n",
              "    </tr>\n",
              "    <tr>\n",
              "      <th>beta</th>\n",
              "      <td>0.333333</td>\n",
              "    </tr>\n",
              "    <tr>\n",
              "      <th>gamma</th>\n",
              "      <td>0.25</td>\n",
              "    </tr>\n",
              "  </tbody>\n",
              "</table>\n",
              "</div>"
            ]
          },
          "metadata": {},
          "execution_count": 67
        }
      ],
      "source": [
        "tc = 3      # time between contacts in days\n",
        "tr = 4      # recovery time in days\n",
        "\n",
        "beta = 1 / tc      # contact rate in per day\n",
        "gamma = 1 / tr     # recovery rate in per day\n",
        "\n",
        "system = make_system(beta, gamma)"
      ]
    },
    {
      "cell_type": "markdown",
      "metadata": {
        "id": "tD59-12PH_Tz"
      },
      "source": [
        "And run the model without immunization."
      ]
    },
    {
      "cell_type": "code",
      "execution_count": 68,
      "metadata": {
        "id": "RfaLFFl5H_Tz",
        "outputId": "e3209b9f-4b67-4a85-e2c3-2570f1bcad82",
        "colab": {
          "base_uri": "https://localhost:8080/"
        }
      },
      "outputs": [
        {
          "output_type": "execute_result",
          "data": {
            "text/plain": [
              "0.468320811028781"
            ]
          },
          "metadata": {},
          "execution_count": 68
        }
      ],
      "source": [
        "results = run_simulation(system, update_func)\n",
        "calc_total_infected(results)"
      ]
    },
    {
      "cell_type": "markdown",
      "metadata": {
        "id": "K8IFdW7zH_T0"
      },
      "source": [
        "Now with 10% immunization."
      ]
    },
    {
      "cell_type": "code",
      "execution_count": 69,
      "metadata": {
        "id": "a2PW6PewH_T0",
        "outputId": "995062b8-e26f-421e-ef44-ef3dbe92bbdc",
        "colab": {
          "base_uri": "https://localhost:8080/"
        }
      },
      "outputs": [
        {
          "output_type": "execute_result",
          "data": {
            "text/plain": [
              "0.30650802853979753"
            ]
          },
          "metadata": {},
          "execution_count": 69
        }
      ],
      "source": [
        "system2 = make_system(beta, gamma)\n",
        "add_immunization(system2, 0.1)\n",
        "results2 = run_simulation(system2, update_func)\n",
        "calc_total_infected(results2)"
      ]
    },
    {
      "cell_type": "markdown",
      "metadata": {
        "id": "sR-A30yrH_T1"
      },
      "source": [
        "10% immunization leads to a drop in infections of 16 percentage points.\n",
        "\n",
        "Here's what the time series looks like for S, with and without immunization."
      ]
    },
    {
      "cell_type": "code",
      "execution_count": 70,
      "metadata": {
        "id": "9fl3S7d7H_T1",
        "outputId": "1f7a241e-0560-426e-fbc9-9c4bdcf230a5",
        "colab": {
          "base_uri": "https://localhost:8080/",
          "height": 473
        }
      },
      "outputs": [
        {
          "output_type": "display_data",
          "data": {
            "text/plain": [
              "<Figure size 640x480 with 1 Axes>"
            ],
            "image/png": "[encoded data removed]"
          },
          "metadata": {}
        }
      ],
      "source": [
        "plot(results.S, '-', label='No immunization')\n",
        "plot(results2.S, '--', label='10% immunization')\n",
        "\n",
        "decorate(xlabel='Time (days)',\n",
        "         ylabel='Fraction susceptible')\n"
      ]
    },
    {
      "cell_type": "markdown",
      "metadata": {
        "id": "W1SxnWFEH_T2"
      },
      "source": [
        "Now we can sweep through a range of values for the fraction of the population who are immunized."
      ]
    },
    {
      "cell_type": "code",
      "execution_count": 71,
      "metadata": {
        "id": "NK9evYDTH_T2",
        "outputId": "1be28cff-53d0-4dc0-ffbd-2005935b2199",
        "colab": {
          "base_uri": "https://localhost:8080/"
        }
      },
      "outputs": [
        {
          "output_type": "stream",
          "name": "stdout",
          "text": [
            "0.0 0.468320811028781\n",
            "0.1 0.30650802853979753\n",
            "0.2 0.16136545700638427\n",
            "0.30000000000000004 0.0728155898425179\n",
            "0.4 0.03552021675299155\n",
            "0.5 0.019688715782459176\n",
            "0.6000000000000001 0.011622057998337987\n",
            "0.7000000000000001 0.006838737800619332\n",
            "0.8 0.003696496253713877\n",
            "0.9 0.0014815326722661948\n",
            "1.0 -0.00016121210941239666\n"
          ]
        }
      ],
      "source": [
        "immunize_array = linspace(0, 1, 11)\n",
        "for fraction in immunize_array:\n",
        "    system = make_system(beta, gamma)\n",
        "    add_immunization(system, fraction)\n",
        "    results = run_simulation(system, update_func)\n",
        "    print(fraction, calc_total_infected(results))"
      ]
    },
    {
      "cell_type": "markdown",
      "metadata": {
        "id": "54pUDtn6H_T2"
      },
      "source": [
        "This function does the same thing and stores the results in a `Sweep` object."
      ]
    },
    {
      "cell_type": "code",
      "execution_count": 72,
      "metadata": {
        "id": "QAMxy0ejH_T3"
      },
      "outputs": [],
      "source": [
        "def sweep_immunity(immunize_array):\n",
        "    \"\"\"Sweeps a range of values for immunity.\n",
        "\n",
        "    immunize_array: array of fraction immunized\n",
        "\n",
        "    returns: Sweep object\n",
        "    \"\"\"\n",
        "    sweep = SweepSeries()\n",
        "\n",
        "    for fraction in immunize_array:\n",
        "        system = make_system(beta, gamma)\n",
        "        add_immunization(system, fraction)\n",
        "        results = run_simulation(system, update_func)\n",
        "        sweep[fraction] = calc_total_infected(results)\n",
        "\n",
        "    return sweep"
      ]
    },
    {
      "cell_type": "markdown",
      "metadata": {
        "id": "bcwpag-CH_T3"
      },
      "source": [
        "Here's how we run it."
      ]
    },
    {
      "cell_type": "code",
      "execution_count": 73,
      "metadata": {
        "scrolled": true,
        "id": "HGZRtYaTH_T3",
        "outputId": "a39ecc46-5525-4a0f-d742-4ee343c51866",
        "colab": {
          "base_uri": "https://localhost:8080/",
          "height": 700
        }
      },
      "outputs": [
        {
          "output_type": "execute_result",
          "data": {
            "text/plain": [
              "0.00    0.468321\n",
              "0.05    0.387288\n",
              "0.10    0.306508\n",
              "0.15    0.229234\n",
              "0.20    0.161365\n",
              "0.25    0.108791\n",
              "0.30    0.072816\n",
              "0.35    0.049938\n",
              "0.40    0.035520\n",
              "0.45    0.026121\n",
              "0.50    0.019689\n",
              "0.55    0.015072\n",
              "0.60    0.011622\n",
              "0.65    0.008956\n",
              "0.70    0.006839\n",
              "0.75    0.005119\n",
              "0.80    0.003696\n",
              "0.85    0.002500\n",
              "0.90    0.001482\n",
              "0.95    0.000603\n",
              "1.00   -0.000161\n",
              "dtype: float64"
            ],
            "text/html": [
              "<div>\n",
              "<style scoped>\n",
              "    .dataframe tbody tr th:only-of-type {\n",
              "        vertical-align: middle;\n",
              "    }\n",
              "\n",
              "    .dataframe tbody tr th {\n",
              "        vertical-align: top;\n",
              "    }\n",
              "\n",
              "    .dataframe thead th {\n",
              "        text-align: right;\n",
              "    }\n",
              "</style>\n",
              "<table border=\"1\" class=\"dataframe\">\n",
              "  <thead>\n",
              "    <tr style=\"text-align: right;\">\n",
              "      <th></th>\n",
              "      <th>values</th>\n",
              "    </tr>\n",
              "  </thead>\n",
              "  <tbody>\n",
              "    <tr>\n",
              "      <th>0.00</th>\n",
              "      <td>0.468321</td>\n",
              "    </tr>\n",
              "    <tr>\n",
              "      <th>0.05</th>\n",
              "      <td>0.387288</td>\n",
              "    </tr>\n",
              "    <tr>\n",
              "      <th>0.10</th>\n",
              "      <td>0.306508</td>\n",
              "    </tr>\n",
              "    <tr>\n",
              "      <th>0.15</th>\n",
              "      <td>0.229234</td>\n",
              "    </tr>\n",
              "    <tr>\n",
              "      <th>0.20</th>\n",
              "      <td>0.161365</td>\n",
              "    </tr>\n",
              "    <tr>\n",
              "      <th>0.25</th>\n",
              "      <td>0.108791</td>\n",
              "    </tr>\n",
              "    <tr>\n",
              "      <th>0.30</th>\n",
              "      <td>0.072816</td>\n",
              "    </tr>\n",
              "    <tr>\n",
              "      <th>0.35</th>\n",
              "      <td>0.049938</td>\n",
              "    </tr>\n",
              "    <tr>\n",
              "      <th>0.40</th>\n",
              "      <td>0.035520</td>\n",
              "    </tr>\n",
              "    <tr>\n",
              "      <th>0.45</th>\n",
              "      <td>0.026121</td>\n",
              "    </tr>\n",
              "    <tr>\n",
              "      <th>0.50</th>\n",
              "      <td>0.019689</td>\n",
              "    </tr>\n",
              "    <tr>\n",
              "      <th>0.55</th>\n",
              "      <td>0.015072</td>\n",
              "    </tr>\n",
              "    <tr>\n",
              "      <th>0.60</th>\n",
              "      <td>0.011622</td>\n",
              "    </tr>\n",
              "    <tr>\n",
              "      <th>0.65</th>\n",
              "      <td>0.008956</td>\n",
              "    </tr>\n",
              "    <tr>\n",
              "      <th>0.70</th>\n",
              "      <td>0.006839</td>\n",
              "    </tr>\n",
              "    <tr>\n",
              "      <th>0.75</th>\n",
              "      <td>0.005119</td>\n",
              "    </tr>\n",
              "    <tr>\n",
              "      <th>0.80</th>\n",
              "      <td>0.003696</td>\n",
              "    </tr>\n",
              "    <tr>\n",
              "      <th>0.85</th>\n",
              "      <td>0.002500</td>\n",
              "    </tr>\n",
              "    <tr>\n",
              "      <th>0.90</th>\n",
              "      <td>0.001482</td>\n",
              "    </tr>\n",
              "    <tr>\n",
              "      <th>0.95</th>\n",
              "      <td>0.000603</td>\n",
              "    </tr>\n",
              "    <tr>\n",
              "      <th>1.00</th>\n",
              "      <td>-0.000161</td>\n",
              "    </tr>\n",
              "  </tbody>\n",
              "</table>\n",
              "</div>"
            ]
          },
          "metadata": {},
          "execution_count": 73
        }
      ],
      "source": [
        "immunize_array = linspace(0, 1, 21)\n",
        "infected_sweep = sweep_immunity(immunize_array)"
      ]
    },
    {
      "cell_type": "markdown",
      "metadata": {
        "id": "U6ii_PDDH_T4"
      },
      "source": [
        "And here's what the results look like."
      ]
    },
    {
      "cell_type": "code",
      "execution_count": 74,
      "metadata": {
        "id": "KvyEeGxtH_T4",
        "outputId": "86d9f867-86c9-45df-b8d6-80731792f76b",
        "colab": {
          "base_uri": "https://localhost:8080/",
          "height": 473
        }
      },
      "outputs": [
        {
          "output_type": "display_data",
          "data": {
            "text/plain": [
              "<Figure size 640x480 with 1 Axes>"
            ],
            "image/png": "[encoded data removed]"
          },
          "metadata": {}
        }
      ],
      "source": [
        "plot(infected_sweep)\n",
        "\n",
        "decorate(xlabel='Fraction immunized',\n",
        "         ylabel='Total fraction infected',\n",
        "         title='Fraction infected vs. immunization rate',\n",
        "         legend=False)\n"
      ]
    },
    {
      "cell_type": "markdown",
      "metadata": {
        "id": "HNCf4giEH_T4"
      },
      "source": [
        "If 40% of the population is immunized, less than 4% of the population gets sick."
      ]
    },
    {
      "cell_type": "markdown",
      "metadata": {
        "id": "rDwrJMEsH_T4"
      },
      "source": [
        "### Logistic function"
      ]
    },
    {
      "cell_type": "markdown",
      "metadata": {
        "id": "BNPGmXkyH_T5"
      },
      "source": [
        "To model the effect of a hand-washing campaign, I'll use a [generalized logistic function](https://en.wikipedia.org/wiki/Generalised_logistic_function) (GLF), which is a convenient function for modeling curves that have a generally sigmoid shape.  The parameters of the GLF correspond to various features of the curve in a way that makes it easy to find a function that has the shape you want, based on data or background information about the scenario."
      ]
    },
    {
      "cell_type": "code",
      "execution_count": 75,
      "metadata": {
        "id": "xlM3s5MZH_T5"
      },
      "outputs": [],
      "source": [
        "def logistic(x, A=0, B=1, C=1, M=0, K=1, Q=1, nu=1):\n",
        "    \"\"\"Computes the generalize logistic function.\n",
        "\n",
        "    A: controls the lower bound\n",
        "    B: controls the steepness of the transition\n",
        "    C: not all that useful, AFAIK\n",
        "    M: controls the location of the transition\n",
        "    K: controls the upper bound\n",
        "    Q: shift the transition left or right\n",
        "    nu: affects the symmetry of the transition\n",
        "\n",
        "    returns: float or array\n",
        "    \"\"\"\n",
        "    exponent = -B * (x - M)\n",
        "    denom = C + Q * exp(exponent)\n",
        "    return A + (K-A) / denom ** (1/nu)"
      ]
    },
    {
      "cell_type": "markdown",
      "metadata": {
        "id": "9NHpPSW4H_T5"
      },
      "source": [
        "The following array represents the range of possible spending."
      ]
    },
    {
      "cell_type": "code",
      "execution_count": 76,
      "metadata": {
        "id": "0U3VFL0WH_T6",
        "outputId": "78e1f33d-042f-4799-ae9d-779c632e7584",
        "colab": {
          "base_uri": "https://localhost:8080/"
        }
      },
      "outputs": [
        {
          "output_type": "execute_result",
          "data": {
            "text/plain": [
              "array([   0.,   60.,  120.,  180.,  240.,  300.,  360.,  420.,  480.,\n",
              "        540.,  600.,  660.,  720.,  780.,  840.,  900.,  960., 1020.,\n",
              "       1080., 1140., 1200.])"
            ]
          },
          "metadata": {},
          "execution_count": 76
        }
      ],
      "source": [
        "spending = linspace(0, 1200, 21)"
      ]
    },
    {
      "cell_type": "markdown",
      "metadata": {
        "id": "Ubv3wvrxH_T6"
      },
      "source": [
        "`compute_factor` computes the reduction in `beta` for a given level of campaign spending.\n",
        "\n",
        "`M` is chosen so the transition happens around \\$500.\n",
        "\n",
        "`K` is the maximum reduction in `beta`, 20%.\n",
        "\n",
        "`B` is chosen by trial and error to yield a curve that seems feasible."
      ]
    },
    {
      "cell_type": "code",
      "execution_count": 77,
      "metadata": {
        "id": "FNG01bGtH_T6"
      },
      "outputs": [],
      "source": [
        "def compute_factor(spending):\n",
        "    \"\"\"Reduction factor as a function of spending.\n",
        "\n",
        "    spending: dollars from 0 to 1200\n",
        "\n",
        "    returns: fractional reduction in beta\n",
        "    \"\"\"\n",
        "    return logistic(spending, M=500, K=0.2, B=0.01)"
      ]
    },
    {
      "cell_type": "markdown",
      "metadata": {
        "id": "_37L3rxqH_T7"
      },
      "source": [
        "Here's what it looks like."
      ]
    },
    {
      "cell_type": "code",
      "execution_count": 78,
      "metadata": {
        "id": "PB_dOj_FH_T7",
        "outputId": "4554b47e-3720-4a07-e634-986b4ca238e8",
        "colab": {
          "base_uri": "https://localhost:8080/",
          "height": 473
        }
      },
      "outputs": [
        {
          "output_type": "display_data",
          "data": {
            "text/plain": [
              "<Figure size 640x480 with 1 Axes>"
            ],
            "image/png": "[encoded data removed]"
          },
          "metadata": {}
        }
      ],
      "source": [
        "percent_reduction = compute_factor(spending) * 100\n",
        "\n",
        "plot(spending, percent_reduction)\n",
        "\n",
        "decorate(xlabel='Hand-washing campaign spending (USD)',\n",
        "         ylabel='Percent reduction in infection rate',\n",
        "         title='Effect of hand washing on infection rate',\n",
        "         legend=False)"
      ]
    },
    {
      "cell_type": "markdown",
      "metadata": {
        "id": "4CJRx_-8H_T7"
      },
      "source": [
        "**Exercise:** Modify the parameters `M`, `K`, and `B`, and see what effect they have on the shape of the curve.  Read about the [generalized logistic function on Wikipedia](https://en.wikipedia.org/wiki/Generalised_logistic_function).  Modify the other parameters and see what effect they have."
      ]
    },
    {
      "cell_type": "code",
      "source": [
        "spending = linspace(0, 1200, 21)\n",
        "# modify m to 300, K to 0.5, B to 0.02\n",
        "def compute_factor(spending):\n",
        "    \"\"\"Reduction factor as a function of spending.\n",
        "\n",
        "    spending: dollars from 0 to 1200\n",
        "\n",
        "    returns: fractional reduction in beta\n",
        "    \"\"\"\n",
        "    return logistic(spending, M=300, K=0.5, B=0.02)\n",
        "\n",
        "percent_reduction = compute_factor(spending) * 100\n",
        "\n",
        "plot(spending, percent_reduction)\n",
        "\n",
        "decorate(xlabel='Hand-washing campaign spending (USD)',\n",
        "         ylabel='Percent reduction in infection rate',\n",
        "         title='Effect of hand washing on infection rate',\n",
        "         legend=False)\n",
        "# Results in a much steeper curve"
      ],
      "metadata": {
        "id": "66UBnF7qKf83",
        "outputId": "37c27c08-d4a2-4cab-f837-77af48721f46",
        "colab": {
          "base_uri": "https://localhost:8080/",
          "height": 473
        }
      },
      "execution_count": 79,
      "outputs": [
        {
          "output_type": "display_data",
          "data": {
            "text/plain": [
              "<Figure size 640x480 with 1 Axes>"
            ],
            "image/png": "[encoded data removed]"
          },
          "metadata": {}
        }
      ]
    },
    {
      "cell_type": "markdown",
      "metadata": {
        "id": "l83wM5b0H_T8"
      },
      "source": [
        "### Hand washing"
      ]
    },
    {
      "cell_type": "markdown",
      "metadata": {
        "id": "ti5dnAEaH_T8"
      },
      "source": [
        "Now we can model the effect of a hand-washing campaign by modifying `beta`"
      ]
    },
    {
      "cell_type": "code",
      "execution_count": 80,
      "metadata": {
        "id": "mSPTIsB6H_T8"
      },
      "outputs": [],
      "source": [
        "def add_hand_washing(system, spending):\n",
        "    \"\"\"Modifies system to model the effect of hand washing.\n",
        "\n",
        "    system: System object\n",
        "    spending: campaign spending in USD\n",
        "    \"\"\"\n",
        "    factor = compute_factor(spending)\n",
        "    system.beta *= (1 - factor)"
      ]
    },
    {
      "cell_type": "markdown",
      "metadata": {
        "id": "ZJl5Ggp_H_T8"
      },
      "source": [
        "Let's start with the same values of `beta` and `gamma` we've been using."
      ]
    },
    {
      "cell_type": "code",
      "execution_count": 81,
      "metadata": {
        "id": "i3f6z2-pH_T8",
        "outputId": "909a6844-8648-49d4-e120-9739c5c1303d",
        "colab": {
          "base_uri": "https://localhost:8080/"
        }
      },
      "outputs": [
        {
          "output_type": "execute_result",
          "data": {
            "text/plain": [
              "(0.3333333333333333, 0.25)"
            ]
          },
          "metadata": {},
          "execution_count": 81
        }
      ],
      "source": [
        "tc = 3      # time between contacts in days\n",
        "tr = 4      # recovery time in days\n",
        "\n",
        "beta = 1 / tc      # contact rate in per day\n",
        "gamma = 1 / tr     # recovery rate in per day\n",
        "\n",
        "beta, gamma"
      ]
    },
    {
      "cell_type": "markdown",
      "metadata": {
        "id": "IvJh-hLMH_T9"
      },
      "source": [
        "Now we can sweep different levels of campaign spending."
      ]
    },
    {
      "cell_type": "code",
      "execution_count": 82,
      "metadata": {
        "id": "pyqxBGt0H_T9",
        "outputId": "ca8bd28f-3d96-4c63-f53a-55f2f73d3189",
        "colab": {
          "base_uri": "https://localhost:8080/"
        }
      },
      "outputs": [
        {
          "output_type": "stream",
          "name": "stdout",
          "text": [
            "0.0 0.3329212294738942 0.46688887504209575\n",
            "100.0 0.33033563167298474 0.45779975156216035\n",
            "200.0 0.3134661796629804 0.39386951911630785\n",
            "300.0 0.25 0.12550437089833055\n",
            "400.0 0.18653382033701962 0.02958732498717087\n",
            "500.0 0.16966436832701526 0.021951223990489876\n",
            "600.0 0.16707877052610579 0.021014387237971444\n",
            "700.0 0.1667225583550777 0.02088926199981611\n",
            "800.0 0.16667423297811707 0.020872358305043637\n",
            "900.0 0.16666769069576703 0.020870071190533745\n",
            "1000.0 0.16666680525467129 0.020869761673349085\n",
            "1100.0 0.166666685422527 0.020869719784938567\n",
            "1200.0 0.16666666920499656 0.020869714115962168\n"
          ]
        }
      ],
      "source": [
        "spending_array = linspace(0, 1200, 13)\n",
        "\n",
        "for spending in spending_array:\n",
        "    system = make_system(beta, gamma)\n",
        "    add_hand_washing(system, spending)\n",
        "    results = run_simulation(system, update_func)\n",
        "    print(spending, system.beta, calc_total_infected(results))"
      ]
    },
    {
      "cell_type": "markdown",
      "metadata": {
        "id": "Uf0-1bJEH_T9"
      },
      "source": [
        "Here's a function that sweeps a range of spending and stores the results in a `SweepSeries`."
      ]
    },
    {
      "cell_type": "code",
      "execution_count": 83,
      "metadata": {
        "id": "jRrRtmUsH_T-"
      },
      "outputs": [],
      "source": [
        "def sweep_hand_washing(spending_array):\n",
        "    \"\"\"Run simulations with a range of spending.\n",
        "\n",
        "    spending_array: array of dollars from 0 to 1200\n",
        "\n",
        "    returns: Sweep object\n",
        "    \"\"\"\n",
        "    sweep = SweepSeries()\n",
        "\n",
        "    for spending in spending_array:\n",
        "        system = make_system(beta, gamma)\n",
        "        add_hand_washing(system, spending)\n",
        "        results = run_simulation(system, update_func)\n",
        "        sweep[spending] = calc_total_infected(results)\n",
        "\n",
        "    return sweep"
      ]
    },
    {
      "cell_type": "markdown",
      "metadata": {
        "id": "5OGxWTH-H_T-"
      },
      "source": [
        "Here's how we run it."
      ]
    },
    {
      "cell_type": "code",
      "execution_count": 84,
      "metadata": {
        "id": "KL9yrDybH_T-",
        "outputId": "307d6320-9162-42f9-a91e-a80d51651ba5",
        "colab": {
          "base_uri": "https://localhost:8080/",
          "height": 669
        }
      },
      "outputs": [
        {
          "output_type": "execute_result",
          "data": {
            "text/plain": [
              "0.000000       0.466889\n",
              "63.157895      0.463268\n",
              "126.315789     0.450593\n",
              "189.473684     0.407411\n",
              "252.631579     0.277281\n",
              "315.789474     0.090030\n",
              "378.947368     0.034874\n",
              "442.105263     0.024416\n",
              "505.263158     0.021842\n",
              "568.421053     0.021142\n",
              "631.578947     0.020947\n",
              "694.736842     0.020891\n",
              "757.894737     0.020876\n",
              "821.052632     0.020871\n",
              "884.210526     0.020870\n",
              "947.368421     0.020870\n",
              "1010.526316    0.020870\n",
              "1073.684211    0.020870\n",
              "1136.842105    0.020870\n",
              "1200.000000    0.020870\n",
              "dtype: float64"
            ],
            "text/html": [
              "<div>\n",
              "<style scoped>\n",
              "    .dataframe tbody tr th:only-of-type {\n",
              "        vertical-align: middle;\n",
              "    }\n",
              "\n",
              "    .dataframe tbody tr th {\n",
              "        vertical-align: top;\n",
              "    }\n",
              "\n",
              "    .dataframe thead th {\n",
              "        text-align: right;\n",
              "    }\n",
              "</style>\n",
              "<table border=\"1\" class=\"dataframe\">\n",
              "  <thead>\n",
              "    <tr style=\"text-align: right;\">\n",
              "      <th></th>\n",
              "      <th>values</th>\n",
              "    </tr>\n",
              "  </thead>\n",
              "  <tbody>\n",
              "    <tr>\n",
              "      <th>0.000000</th>\n",
              "      <td>0.466889</td>\n",
              "    </tr>\n",
              "    <tr>\n",
              "      <th>63.157895</th>\n",
              "      <td>0.463268</td>\n",
              "    </tr>\n",
              "    <tr>\n",
              "      <th>126.315789</th>\n",
              "      <td>0.450593</td>\n",
              "    </tr>\n",
              "    <tr>\n",
              "      <th>189.473684</th>\n",
              "      <td>0.407411</td>\n",
              "    </tr>\n",
              "    <tr>\n",
              "      <th>252.631579</th>\n",
              "      <td>0.277281</td>\n",
              "    </tr>\n",
              "    <tr>\n",
              "      <th>315.789474</th>\n",
              "      <td>0.090030</td>\n",
              "    </tr>\n",
              "    <tr>\n",
              "      <th>378.947368</th>\n",
              "      <td>0.034874</td>\n",
              "    </tr>\n",
              "    <tr>\n",
              "      <th>442.105263</th>\n",
              "      <td>0.024416</td>\n",
              "    </tr>\n",
              "    <tr>\n",
              "      <th>505.263158</th>\n",
              "      <td>0.021842</td>\n",
              "    </tr>\n",
              "    <tr>\n",
              "      <th>568.421053</th>\n",
              "      <td>0.021142</td>\n",
              "    </tr>\n",
              "    <tr>\n",
              "      <th>631.578947</th>\n",
              "      <td>0.020947</td>\n",
              "    </tr>\n",
              "    <tr>\n",
              "      <th>694.736842</th>\n",
              "      <td>0.020891</td>\n",
              "    </tr>\n",
              "    <tr>\n",
              "      <th>757.894737</th>\n",
              "      <td>0.020876</td>\n",
              "    </tr>\n",
              "    <tr>\n",
              "      <th>821.052632</th>\n",
              "      <td>0.020871</td>\n",
              "    </tr>\n",
              "    <tr>\n",
              "      <th>884.210526</th>\n",
              "      <td>0.020870</td>\n",
              "    </tr>\n",
              "    <tr>\n",
              "      <th>947.368421</th>\n",
              "      <td>0.020870</td>\n",
              "    </tr>\n",
              "    <tr>\n",
              "      <th>1010.526316</th>\n",
              "      <td>0.020870</td>\n",
              "    </tr>\n",
              "    <tr>\n",
              "      <th>1073.684211</th>\n",
              "      <td>0.020870</td>\n",
              "    </tr>\n",
              "    <tr>\n",
              "      <th>1136.842105</th>\n",
              "      <td>0.020870</td>\n",
              "    </tr>\n",
              "    <tr>\n",
              "      <th>1200.000000</th>\n",
              "      <td>0.020870</td>\n",
              "    </tr>\n",
              "  </tbody>\n",
              "</table>\n",
              "</div>"
            ]
          },
          "metadata": {},
          "execution_count": 84
        }
      ],
      "source": [
        "spending_array = linspace(0, 1200, 20)\n",
        "infected_sweep = sweep_hand_washing(spending_array)"
      ]
    },
    {
      "cell_type": "markdown",
      "metadata": {
        "id": "O-SEUW_OH_T_"
      },
      "source": [
        "And here's what it looks like."
      ]
    },
    {
      "cell_type": "code",
      "execution_count": 85,
      "metadata": {
        "id": "JoM7nkQFH_T_",
        "outputId": "b210cef6-0269-4cac-e5f1-1f97e4dfe63a",
        "colab": {
          "base_uri": "https://localhost:8080/",
          "height": 473
        }
      },
      "outputs": [
        {
          "output_type": "display_data",
          "data": {
            "text/plain": [
              "<Figure size 640x480 with 1 Axes>"
            ],
            "image/png": "[encoded data removed]"
          },
          "metadata": {}
        }
      ],
      "source": [
        "plot(infected_sweep)\n",
        "\n",
        "decorate(xlabel='Hand-washing campaign spending (USD)',\n",
        "         ylabel='Total fraction infected',\n",
        "         title='Effect of hand washing on total infections',\n",
        "         legend=False)\n"
      ]
    },
    {
      "cell_type": "markdown",
      "metadata": {
        "id": "04G0yefYH_T_"
      },
      "source": [
        "Now let's put it all together to make some public health spending decisions."
      ]
    },
    {
      "cell_type": "markdown",
      "metadata": {
        "id": "4AAhX1XIH_UA"
      },
      "source": [
        "### Optimization"
      ]
    },
    {
      "cell_type": "markdown",
      "metadata": {
        "id": "1i5YaIAbH_UA"
      },
      "source": [
        "Suppose we have \\$1200 to spend on any combination of vaccines and a hand-washing campaign."
      ]
    },
    {
      "cell_type": "code",
      "execution_count": 86,
      "metadata": {
        "id": "_iwfqw8EH_UA",
        "outputId": "2e288c91-9b7a-4758-b8ef-f3e61067b761",
        "colab": {
          "base_uri": "https://localhost:8080/"
        }
      },
      "outputs": [
        {
          "output_type": "execute_result",
          "data": {
            "text/plain": [
              "12"
            ]
          },
          "metadata": {},
          "execution_count": 86
        }
      ],
      "source": [
        "num_students = 90\n",
        "budget = 1200\n",
        "price_per_dose = 100\n",
        "max_doses = int(budget / price_per_dose)\n",
        "dose_array = linrange(max_doses, endpoint=True)\n",
        "max_doses"
      ]
    },
    {
      "cell_type": "markdown",
      "metadata": {
        "id": "oIVWL1vYH_UA"
      },
      "source": [
        "We can sweep through a range of doses from, 0 to `max_doses`, model the effects of immunization and the hand-washing campaign, and run simulations.\n",
        "\n",
        "For each scenario, we compute the fraction of students who get sick."
      ]
    },
    {
      "cell_type": "code",
      "execution_count": 87,
      "metadata": {
        "id": "e8e_gVEKH_UB",
        "outputId": "218a1b86-e73d-49b2-9c48-7e7e8c31cbb1",
        "colab": {
          "base_uri": "https://localhost:8080/"
        }
      },
      "outputs": [
        {
          "output_type": "stream",
          "name": "stdout",
          "text": [
            "0 0.9888888888888889 0.16666666920499656 0.020869714115962168\n",
            "1 0.9777777777777779 0.166666685422527 0.020221390462559774\n",
            "2 0.9666666666666667 0.16666680525467129 0.019598090174010485\n",
            "3 0.9555555555555556 0.16666769069576703 0.01899863779069877\n",
            "4 0.9444444444444445 0.16667423297811707 0.01842312529108492\n",
            "5 0.9333333333333333 0.1667225583550777 0.017879993134980676\n",
            "6 0.9222222222222223 0.16707877052610579 0.017436049741870407\n",
            "7 0.9111111111111112 0.16966436832701526 0.017573483275565738\n",
            "8 0.9 0.18653382033701962 0.02192204175355794\n",
            "9 0.888888888888889 0.25 0.06516133650407563\n",
            "10 0.8777777777777778 0.3134661796629804 0.21909563185947745\n",
            "11 0.8666666666666667 0.33033563167298474 0.2612228006449706\n",
            "12 0.8555555555555556 0.3329212294738942 0.25291047385030485\n"
          ]
        }
      ],
      "source": [
        "for doses in dose_array:\n",
        "    fraction = doses / num_students\n",
        "    spending = budget - doses * price_per_dose\n",
        "\n",
        "    system = make_system(beta, gamma)\n",
        "    add_immunization(system, fraction)\n",
        "    add_hand_washing(system, spending)\n",
        "\n",
        "    results = run_simulation(system, update_func)\n",
        "    print(doses, system.init.S, system.beta, calc_total_infected(results))"
      ]
    },
    {
      "cell_type": "markdown",
      "metadata": {
        "id": "giBkB_xRH_UB"
      },
      "source": [
        "The following function wraps that loop and stores the results in a `Sweep` object."
      ]
    },
    {
      "cell_type": "code",
      "execution_count": 88,
      "metadata": {
        "id": "0odmLwheH_UB"
      },
      "outputs": [],
      "source": [
        "def sweep_doses(dose_array):\n",
        "    \"\"\"Runs simulations with different doses and campaign spending.\n",
        "\n",
        "    dose_array: range of values for number of vaccinations\n",
        "\n",
        "    return: Sweep object with total number of infections\n",
        "    \"\"\"\n",
        "    sweep = SweepSeries()\n",
        "\n",
        "    for doses in dose_array:\n",
        "        fraction = doses / num_students\n",
        "        spending = budget - doses * price_per_dose\n",
        "\n",
        "        system = make_system(beta, gamma)\n",
        "        add_immunization(system, fraction)\n",
        "        add_hand_washing(system, spending)\n",
        "\n",
        "        results = run_simulation(system, update_func)\n",
        "        sweep[doses] = calc_total_infected(results)\n",
        "\n",
        "    return sweep"
      ]
    },
    {
      "cell_type": "markdown",
      "metadata": {
        "id": "DmipwSYPH_UC"
      },
      "source": [
        "Now we can compute the number of infected students for each possible allocation of the budget."
      ]
    },
    {
      "cell_type": "code",
      "execution_count": 89,
      "metadata": {
        "id": "hKIr83EZH_UC",
        "outputId": "32f6e8fd-6c15-47ab-9ca7-d1a7a7f06a2b",
        "colab": {
          "base_uri": "https://localhost:8080/",
          "height": 452
        }
      },
      "outputs": [
        {
          "output_type": "execute_result",
          "data": {
            "text/plain": [
              "0     0.020870\n",
              "1     0.020221\n",
              "2     0.019598\n",
              "3     0.018999\n",
              "4     0.018423\n",
              "5     0.017880\n",
              "6     0.017436\n",
              "7     0.017573\n",
              "8     0.021922\n",
              "9     0.065161\n",
              "10    0.219096\n",
              "11    0.261223\n",
              "12    0.252910\n",
              "dtype: float64"
            ],
            "text/html": [
              "<div>\n",
              "<style scoped>\n",
              "    .dataframe tbody tr th:only-of-type {\n",
              "        vertical-align: middle;\n",
              "    }\n",
              "\n",
              "    .dataframe tbody tr th {\n",
              "        vertical-align: top;\n",
              "    }\n",
              "\n",
              "    .dataframe thead th {\n",
              "        text-align: right;\n",
              "    }\n",
              "</style>\n",
              "<table border=\"1\" class=\"dataframe\">\n",
              "  <thead>\n",
              "    <tr style=\"text-align: right;\">\n",
              "      <th></th>\n",
              "      <th>values</th>\n",
              "    </tr>\n",
              "  </thead>\n",
              "  <tbody>\n",
              "    <tr>\n",
              "      <th>0</th>\n",
              "      <td>0.020870</td>\n",
              "    </tr>\n",
              "    <tr>\n",
              "      <th>1</th>\n",
              "      <td>0.020221</td>\n",
              "    </tr>\n",
              "    <tr>\n",
              "      <th>2</th>\n",
              "      <td>0.019598</td>\n",
              "    </tr>\n",
              "    <tr>\n",
              "      <th>3</th>\n",
              "      <td>0.018999</td>\n",
              "    </tr>\n",
              "    <tr>\n",
              "      <th>4</th>\n",
              "      <td>0.018423</td>\n",
              "    </tr>\n",
              "    <tr>\n",
              "      <th>5</th>\n",
              "      <td>0.017880</td>\n",
              "    </tr>\n",
              "    <tr>\n",
              "      <th>6</th>\n",
              "      <td>0.017436</td>\n",
              "    </tr>\n",
              "    <tr>\n",
              "      <th>7</th>\n",
              "      <td>0.017573</td>\n",
              "    </tr>\n",
              "    <tr>\n",
              "      <th>8</th>\n",
              "      <td>0.021922</td>\n",
              "    </tr>\n",
              "    <tr>\n",
              "      <th>9</th>\n",
              "      <td>0.065161</td>\n",
              "    </tr>\n",
              "    <tr>\n",
              "      <th>10</th>\n",
              "      <td>0.219096</td>\n",
              "    </tr>\n",
              "    <tr>\n",
              "      <th>11</th>\n",
              "      <td>0.261223</td>\n",
              "    </tr>\n",
              "    <tr>\n",
              "      <th>12</th>\n",
              "      <td>0.252910</td>\n",
              "    </tr>\n",
              "  </tbody>\n",
              "</table>\n",
              "</div>"
            ]
          },
          "metadata": {},
          "execution_count": 89
        }
      ],
      "source": [
        "infected_sweep = sweep_doses(dose_array)"
      ]
    },
    {
      "cell_type": "markdown",
      "metadata": {
        "id": "1T7i_AdBH_UC"
      },
      "source": [
        "And plot the results."
      ]
    },
    {
      "cell_type": "code",
      "execution_count": 90,
      "metadata": {
        "id": "9CY62lN6H_UD",
        "outputId": "4aebbce4-84a2-4262-a48a-c5d30efe8d59",
        "colab": {
          "base_uri": "https://localhost:8080/",
          "height": 473
        }
      },
      "outputs": [
        {
          "output_type": "display_data",
          "data": {
            "text/plain": [
              "<Figure size 640x480 with 1 Axes>"
            ],
            "image/png": "[encoded data removed]"
          },
          "metadata": {}
        }
      ],
      "source": [
        "plot(infected_sweep)\n",
        "\n",
        "decorate(xlabel='Doses of vaccine',\n",
        "         ylabel='Total fraction infected',\n",
        "         title='Total infections vs. doses',\n",
        "         legend=False)\n"
      ]
    },
    {
      "cell_type": "markdown",
      "metadata": {
        "id": "YbCqWCrJH_UD"
      },
      "source": [
        "### Exercises\n",
        "\n",
        "**Exercise:** Suppose the price of the vaccine drops to $50 per dose.  How does that affect the optimal allocation of the spending?"
      ]
    },
    {
      "cell_type": "markdown",
      "metadata": {
        "id": "ofWEXhd9H_UD"
      },
      "source": [
        "**Exercise:** Suppose we have the option to quarantine infected students.  For example, a student who feels ill might be moved to an infirmary, or a private dorm room, until they are no longer infectious.\n",
        "\n",
        "How might you incorporate the effect of quarantine in the SIR model?"
      ]
    },
    {
      "cell_type": "code",
      "execution_count": 91,
      "metadata": {
        "id": "8dO1Hr1HH_UE",
        "outputId": "a235629a-c1a7-4d1a-f53f-d90549d7c17d",
        "colab": {
          "base_uri": "https://localhost:8080/"
        }
      },
      "outputs": [
        {
          "output_type": "execute_result",
          "data": {
            "text/plain": [
              "0.3"
            ]
          },
          "metadata": {},
          "execution_count": 91
        }
      ],
      "source": [
        "beta = 0.2\n",
        "gamma = 0.1\n",
        "q = 0.3\n"
      ]
    },
    {
      "cell_type": "code",
      "source": [
        "def sir_model(y, t):\n",
        "    S, I, R, Q = y\n",
        "    dSdt = -beta * S * I\n",
        "    dIdt = beta * S * I - (1 - q) * gamma * I - q * gamma * I\n",
        "    dRdt = (1 - q) * gamma * I\n",
        "    dQdt = q * gamma * I\n",
        "    return [dSdt, dIdt, dRdt, dQdt]\n"
      ],
      "metadata": {
        "id": "8EwgqSEELwBw"
      },
      "execution_count": 92,
      "outputs": []
    },
    {
      "cell_type": "code",
      "source": [
        "S0 = 990  # initial susceptible population\n",
        "I0 = 10   # initial infected population\n",
        "R0 = 0    # initial recovered population\n",
        "Q0 = 0    # initial quarantined population\n",
        "t = np.linspace(0, 100, 100)  # simulation time from 0 to 100 with 100 time points\n"
      ],
      "metadata": {
        "id": "lW9zUJEsLywE",
        "outputId": "8f00ed06-6794-47a0-9d14-c127fabc2b90",
        "colab": {
          "base_uri": "https://localhost:8080/"
        }
      },
      "execution_count": 93,
      "outputs": [
        {
          "output_type": "execute_result",
          "data": {
            "text/plain": [
              "array([  0.        ,   1.01010101,   2.02020202,   3.03030303,\n",
              "         4.04040404,   5.05050505,   6.06060606,   7.07070707,\n",
              "         8.08080808,   9.09090909,  10.1010101 ,  11.11111111,\n",
              "        12.12121212,  13.13131313,  14.14141414,  15.15151515,\n",
              "        16.16161616,  17.17171717,  18.18181818,  19.19191919,\n",
              "        20.2020202 ,  21.21212121,  22.22222222,  23.23232323,\n",
              "        24.24242424,  25.25252525,  26.26262626,  27.27272727,\n",
              "        28.28282828,  29.29292929,  30.3030303 ,  31.31313131,\n",
              "        32.32323232,  33.33333333,  34.34343434,  35.35353535,\n",
              "        36.36363636,  37.37373737,  38.38383838,  39.39393939,\n",
              "        40.4040404 ,  41.41414141,  42.42424242,  43.43434343,\n",
              "        44.44444444,  45.45454545,  46.46464646,  47.47474747,\n",
              "        48.48484848,  49.49494949,  50.50505051,  51.51515152,\n",
              "        52.52525253,  53.53535354,  54.54545455,  55.55555556,\n",
              "        56.56565657,  57.57575758,  58.58585859,  59.5959596 ,\n",
              "        60.60606061,  61.61616162,  62.62626263,  63.63636364,\n",
              "        64.64646465,  65.65656566,  66.66666667,  67.67676768,\n",
              "        68.68686869,  69.6969697 ,  70.70707071,  71.71717172,\n",
              "        72.72727273,  73.73737374,  74.74747475,  75.75757576,\n",
              "        76.76767677,  77.77777778,  78.78787879,  79.7979798 ,\n",
              "        80.80808081,  81.81818182,  82.82828283,  83.83838384,\n",
              "        84.84848485,  85.85858586,  86.86868687,  87.87878788,\n",
              "        88.88888889,  89.8989899 ,  90.90909091,  91.91919192,\n",
              "        92.92929293,  93.93939394,  94.94949495,  95.95959596,\n",
              "        96.96969697,  97.97979798,  98.98989899, 100.        ])"
            ]
          },
          "metadata": {},
          "execution_count": 93
        }
      ]
    },
    {
      "cell_type": "code",
      "source": [
        "y0 = [S0, I0, R0, Q0]  # initial conditions as a list\n",
        "sol = odeint(sir_model, y0, t)  # solve the differential equations\n",
        "S, I, R, Q = sol[:, 0], sol[:, 1], sol[:, 2], sol[:, 3]  # extract the solution for each compartment\n"
      ],
      "metadata": {
        "id": "7GwbwgyfMIgk"
      },
      "execution_count": 94,
      "outputs": []
    },
    {
      "cell_type": "code",
      "source": [
        "plt.plot(t, S, label='Susceptible')\n",
        "plt.plot(t, I, label='Infected')\n",
        "plt.plot(t, R, label='Recovered')\n",
        "plt.plot(t, Q, label='Quarantined')\n",
        "plt.xlabel('Time')\n",
        "plt.ylabel('Population')\n",
        "plt.legend()\n",
        "plt.show()\n"
      ],
      "metadata": {
        "id": "KNjx3fLzMLeV",
        "outputId": "70d5be8e-fc50-4c0c-e09e-87fc86de4305",
        "colab": {
          "base_uri": "https://localhost:8080/",
          "height": 462
        }
      },
      "execution_count": 95,
      "outputs": [
        {
          "output_type": "display_data",
          "data": {
            "text/plain": [
              "<Figure size 640x480 with 1 Axes>"
            ],
            "image/png": "[encoded data removed]"
          },
          "metadata": {}
        }
      ]
    }
  ],
  "metadata": {
    "kernelspec": {
      "display_name": "Python 3",
      "language": "python",
      "name": "python3"
    },
    "language_info": {
      "codemirror_mode": {
        "name": "ipython",
        "version": 3
      },
      "file_extension": ".py",
      "mimetype": "text/x-python",
      "name": "python",
      "nbconvert_exporter": "python",
      "pygments_lexer": "ipython3",
      "version": "3.7.3"
    },
    "colab": {
      "provenance": []
    }
  },
  "nbformat": 4,
  "nbformat_minor": 0
}