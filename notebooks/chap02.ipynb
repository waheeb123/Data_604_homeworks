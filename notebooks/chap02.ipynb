{
  "cells": [
    {
      "cell_type": "markdown",
      "metadata": {
        "id": "v5EmQ8icWFGB"
      },
      "source": [
        "\\# Modeling and Simulation in Python\n",
        "\n",
        "Waheeb Algabri\n",
        "\n",
        "Chapter 2\n",
        "\n",
        "Copyright 2017 Allen Downey\n",
        "\n",
        "License: [Creative Commons Attribution 4.0 International](https://creativecommons.org/licenses/by/4.0)"
      ]
    },
    {
      "cell_type": "code",
      "source": [
        "try:\n",
        "    import pint\n",
        "except ImportError:\n",
        "    !pip install pint\n",
        "    import pint"
      ],
      "metadata": {
        "id": "dr0kiVKDWzpa"
      },
      "execution_count": null,
      "outputs": []
    },
    {
      "cell_type": "code",
      "source": [
        "try:\n",
        "    from modsim import *\n",
        "except ImportError:\n",
        "    !pip install modsimpy\n",
        "    from modsim import *"
      ],
      "metadata": {
        "id": "xuCZ_Ln6W5gb"
      },
      "execution_count": null,
      "outputs": []
    },
    {
      "cell_type": "code",
      "execution_count": null,
      "metadata": {
        "id": "eu5eE6Y9WFGE"
      },
      "outputs": [],
      "source": [
        "# Configure Jupyter so figures appear in the notebook\n",
        "%matplotlib inline\n",
        "\n",
        "# Configure Jupyter to display the assigned value after an assignment\n",
        "%config InteractiveShell.ast_node_interactivity='last_expr_or_assign'\n",
        "\n",
        "# import functions from the modsim library\n",
        "from modsim import *\n",
        "\n",
        "# set the random number generator\n",
        "np.random.seed(7)\n",
        "\n",
        "# If this cell runs successfully, it produces no output."
      ]
    },
    {
      "cell_type": "markdown",
      "metadata": {
        "id": "VcqvkSzbWFGG"
      },
      "source": [
        "## Modeling a bikeshare system"
      ]
    },
    {
      "cell_type": "markdown",
      "metadata": {
        "id": "dhZ5fI_aWFGG"
      },
      "source": [
        "We'll start with a `State` object that represents the number of bikes at each station.\n",
        "\n",
        "When you display a `State` object, it lists the state variables and their values:"
      ]
    },
    {
      "cell_type": "code",
      "execution_count": null,
      "metadata": {
        "colab": {
          "base_uri": "https://localhost:8080/",
          "height": 111
        },
        "id": "2AWugPt7WFGH",
        "outputId": "322d0d86-16fe-4e40-e06c-bf8d113ee0f1"
      },
      "outputs": [
        {
          "output_type": "execute_result",
          "data": {
            "text/plain": [
              "olin         10\n",
              "wellesley     2\n",
              "dtype: int64"
            ],
            "text/html": [
              "<div>\n",
              "<style scoped>\n",
              "    .dataframe tbody tr th:only-of-type {\n",
              "        vertical-align: middle;\n",
              "    }\n",
              "\n",
              "    .dataframe tbody tr th {\n",
              "        vertical-align: top;\n",
              "    }\n",
              "\n",
              "    .dataframe thead th {\n",
              "        text-align: right;\n",
              "    }\n",
              "</style>\n",
              "<table border=\"1\" class=\"dataframe\">\n",
              "  <thead>\n",
              "    <tr style=\"text-align: right;\">\n",
              "      <th></th>\n",
              "      <th>values</th>\n",
              "    </tr>\n",
              "  </thead>\n",
              "  <tbody>\n",
              "    <tr>\n",
              "      <th>olin</th>\n",
              "      <td>10</td>\n",
              "    </tr>\n",
              "    <tr>\n",
              "      <th>wellesley</th>\n",
              "      <td>2</td>\n",
              "    </tr>\n",
              "  </tbody>\n",
              "</table>\n",
              "</div>"
            ]
          },
          "metadata": {},
          "execution_count": 186
        }
      ],
      "source": [
        "bikeshare = State(olin=10, wellesley=2)"
      ]
    },
    {
      "cell_type": "markdown",
      "metadata": {
        "id": "zHp2lYMJWFGH"
      },
      "source": [
        "We can access the state variables using dot notation."
      ]
    },
    {
      "cell_type": "code",
      "execution_count": null,
      "metadata": {
        "colab": {
          "base_uri": "https://localhost:8080/"
        },
        "id": "XPIyP_AKWFGI",
        "outputId": "aefa172a-d326-457f-a332-76340e39c164"
      },
      "outputs": [
        {
          "output_type": "execute_result",
          "data": {
            "text/plain": [
              "10"
            ]
          },
          "metadata": {},
          "execution_count": 187
        }
      ],
      "source": [
        "bikeshare.olin"
      ]
    },
    {
      "cell_type": "code",
      "execution_count": null,
      "metadata": {
        "scrolled": true,
        "colab": {
          "base_uri": "https://localhost:8080/"
        },
        "id": "HU0uLuTQWFGI",
        "outputId": "b927d475-9c95-44cc-d370-bd4c4cb611e7"
      },
      "outputs": [
        {
          "output_type": "execute_result",
          "data": {
            "text/plain": [
              "2"
            ]
          },
          "metadata": {},
          "execution_count": 188
        }
      ],
      "source": [
        "bikeshare.wellesley"
      ]
    },
    {
      "cell_type": "markdown",
      "metadata": {
        "id": "Oce1yHkIWFGJ"
      },
      "source": [
        "**Exercise:** What happens if you spell the name of a state variable wrong?  Edit the previous cell, change the spelling of `wellesley`, and run the cell again.\n",
        "\n",
        "The error message uses the word \"attribute\", which is another name for what we are calling a state variable. "
      ]
    },
    {
      "cell_type": "markdown",
      "metadata": {
        "id": "VSYxS-idWFGJ"
      },
      "source": [
        "**Exercise:** Add a third attribute called `babson` with initial value 0, and display the state of `bikeshare` again."
      ]
    },
    {
      "cell_type": "code",
      "source": [
        "State(olin=10, wellesley=2, babson=0)\n"
      ],
      "metadata": {
        "colab": {
          "base_uri": "https://localhost:8080/",
          "height": 142
        },
        "id": "L6oNK4ssh4sq",
        "outputId": "82a2969d-e794-4643-9048-29d8309c8223"
      },
      "execution_count": null,
      "outputs": [
        {
          "output_type": "execute_result",
          "data": {
            "text/plain": [
              "olin         10\n",
              "wellesley     2\n",
              "babson        0\n",
              "dtype: int64"
            ],
            "text/html": [
              "<div>\n",
              "<style scoped>\n",
              "    .dataframe tbody tr th:only-of-type {\n",
              "        vertical-align: middle;\n",
              "    }\n",
              "\n",
              "    .dataframe tbody tr th {\n",
              "        vertical-align: top;\n",
              "    }\n",
              "\n",
              "    .dataframe thead th {\n",
              "        text-align: right;\n",
              "    }\n",
              "</style>\n",
              "<table border=\"1\" class=\"dataframe\">\n",
              "  <thead>\n",
              "    <tr style=\"text-align: right;\">\n",
              "      <th></th>\n",
              "      <th>values</th>\n",
              "    </tr>\n",
              "  </thead>\n",
              "  <tbody>\n",
              "    <tr>\n",
              "      <th>olin</th>\n",
              "      <td>10</td>\n",
              "    </tr>\n",
              "    <tr>\n",
              "      <th>wellesley</th>\n",
              "      <td>2</td>\n",
              "    </tr>\n",
              "    <tr>\n",
              "      <th>babson</th>\n",
              "      <td>0</td>\n",
              "    </tr>\n",
              "  </tbody>\n",
              "</table>\n",
              "</div>"
            ]
          },
          "metadata": {},
          "execution_count": 189
        }
      ]
    },
    {
      "cell_type": "markdown",
      "metadata": {
        "id": "gtRa8DsXWFGJ"
      },
      "source": [
        "## Updating\n",
        "\n",
        "We can use the update operators `+=` and `-=` to change state variables."
      ]
    },
    {
      "cell_type": "code",
      "execution_count": null,
      "metadata": {
        "id": "ZgVNK3X7WFGK"
      },
      "outputs": [],
      "source": [
        "bikeshare.olin -= 1"
      ]
    },
    {
      "cell_type": "markdown",
      "metadata": {
        "id": "n7rdTBlSWFGK"
      },
      "source": [
        "If we display `bikeshare`, we should see the change."
      ]
    },
    {
      "cell_type": "code",
      "execution_count": null,
      "metadata": {
        "colab": {
          "base_uri": "https://localhost:8080/",
          "height": 111
        },
        "id": "lgmM8cqEWFGK",
        "outputId": "0e8b4817-8947-4431-ae75-b333e5f8e828"
      },
      "outputs": [
        {
          "output_type": "execute_result",
          "data": {
            "text/plain": [
              "olin         9\n",
              "wellesley    2\n",
              "dtype: int64"
            ],
            "text/html": [
              "<div>\n",
              "<style scoped>\n",
              "    .dataframe tbody tr th:only-of-type {\n",
              "        vertical-align: middle;\n",
              "    }\n",
              "\n",
              "    .dataframe tbody tr th {\n",
              "        vertical-align: top;\n",
              "    }\n",
              "\n",
              "    .dataframe thead th {\n",
              "        text-align: right;\n",
              "    }\n",
              "</style>\n",
              "<table border=\"1\" class=\"dataframe\">\n",
              "  <thead>\n",
              "    <tr style=\"text-align: right;\">\n",
              "      <th></th>\n",
              "      <th>values</th>\n",
              "    </tr>\n",
              "  </thead>\n",
              "  <tbody>\n",
              "    <tr>\n",
              "      <th>olin</th>\n",
              "      <td>9</td>\n",
              "    </tr>\n",
              "    <tr>\n",
              "      <th>wellesley</th>\n",
              "      <td>2</td>\n",
              "    </tr>\n",
              "  </tbody>\n",
              "</table>\n",
              "</div>"
            ]
          },
          "metadata": {},
          "execution_count": 191
        }
      ],
      "source": [
        "bikeshare"
      ]
    },
    {
      "cell_type": "markdown",
      "metadata": {
        "id": "CJJl-aYoWFGK"
      },
      "source": [
        "Of course, if we subtract a bike from `olin`, we should add it to `wellesley`."
      ]
    },
    {
      "cell_type": "code",
      "execution_count": null,
      "metadata": {
        "colab": {
          "base_uri": "https://localhost:8080/",
          "height": 111
        },
        "id": "kHCBXzrFWFGL",
        "outputId": "f30690ca-3486-4ee8-f270-775e8b0fda59"
      },
      "outputs": [
        {
          "output_type": "execute_result",
          "data": {
            "text/plain": [
              "olin         9\n",
              "wellesley    3\n",
              "dtype: int64"
            ],
            "text/html": [
              "<div>\n",
              "<style scoped>\n",
              "    .dataframe tbody tr th:only-of-type {\n",
              "        vertical-align: middle;\n",
              "    }\n",
              "\n",
              "    .dataframe tbody tr th {\n",
              "        vertical-align: top;\n",
              "    }\n",
              "\n",
              "    .dataframe thead th {\n",
              "        text-align: right;\n",
              "    }\n",
              "</style>\n",
              "<table border=\"1\" class=\"dataframe\">\n",
              "  <thead>\n",
              "    <tr style=\"text-align: right;\">\n",
              "      <th></th>\n",
              "      <th>values</th>\n",
              "    </tr>\n",
              "  </thead>\n",
              "  <tbody>\n",
              "    <tr>\n",
              "      <th>olin</th>\n",
              "      <td>9</td>\n",
              "    </tr>\n",
              "    <tr>\n",
              "      <th>wellesley</th>\n",
              "      <td>3</td>\n",
              "    </tr>\n",
              "  </tbody>\n",
              "</table>\n",
              "</div>"
            ]
          },
          "metadata": {},
          "execution_count": 192
        }
      ],
      "source": [
        "bikeshare.wellesley += 1\n",
        "bikeshare"
      ]
    },
    {
      "cell_type": "markdown",
      "metadata": {
        "id": "XYpCx_-9WFGL"
      },
      "source": [
        "## Functions\n",
        "\n",
        "We can take the code we've written so far and encapsulate it in a function."
      ]
    },
    {
      "cell_type": "code",
      "execution_count": null,
      "metadata": {
        "id": "i6GNLcl0WFGL"
      },
      "outputs": [],
      "source": [
        "def bike_to_wellesley():\n",
        "    bikeshare.olin -= 1\n",
        "    bikeshare.wellesley += 1"
      ]
    },
    {
      "cell_type": "markdown",
      "metadata": {
        "id": "hal4WPKPWFGM"
      },
      "source": [
        "When you define a function, it doesn't run the statements inside the function, yet.  When you call the function, it runs the statements inside."
      ]
    },
    {
      "cell_type": "code",
      "execution_count": null,
      "metadata": {
        "colab": {
          "base_uri": "https://localhost:8080/",
          "height": 111
        },
        "id": "6iws3juqWFGM",
        "outputId": "2e42be25-026b-493b-d4b7-2875332217a4"
      },
      "outputs": [
        {
          "output_type": "execute_result",
          "data": {
            "text/plain": [
              "olin         8\n",
              "wellesley    4\n",
              "dtype: int64"
            ],
            "text/html": [
              "<div>\n",
              "<style scoped>\n",
              "    .dataframe tbody tr th:only-of-type {\n",
              "        vertical-align: middle;\n",
              "    }\n",
              "\n",
              "    .dataframe tbody tr th {\n",
              "        vertical-align: top;\n",
              "    }\n",
              "\n",
              "    .dataframe thead th {\n",
              "        text-align: right;\n",
              "    }\n",
              "</style>\n",
              "<table border=\"1\" class=\"dataframe\">\n",
              "  <thead>\n",
              "    <tr style=\"text-align: right;\">\n",
              "      <th></th>\n",
              "      <th>values</th>\n",
              "    </tr>\n",
              "  </thead>\n",
              "  <tbody>\n",
              "    <tr>\n",
              "      <th>olin</th>\n",
              "      <td>8</td>\n",
              "    </tr>\n",
              "    <tr>\n",
              "      <th>wellesley</th>\n",
              "      <td>4</td>\n",
              "    </tr>\n",
              "  </tbody>\n",
              "</table>\n",
              "</div>"
            ]
          },
          "metadata": {},
          "execution_count": 194
        }
      ],
      "source": [
        "bike_to_wellesley()\n",
        "bikeshare"
      ]
    },
    {
      "cell_type": "markdown",
      "metadata": {
        "id": "L8VYetoaWFGM"
      },
      "source": [
        "\n",
        "One common error is to omit the parentheses, which has the effect of looking up the function, but not calling it."
      ]
    },
    {
      "cell_type": "code",
      "execution_count": null,
      "metadata": {
        "colab": {
          "base_uri": "https://localhost:8080/"
        },
        "id": "CrDJlKiIWFGN",
        "outputId": "689122bd-0471-4787-88d9-ea831f5873d6"
      },
      "outputs": [
        {
          "output_type": "execute_result",
          "data": {
            "text/plain": [
              "<function __main__.bike_to_wellesley()>"
            ]
          },
          "metadata": {},
          "execution_count": 195
        }
      ],
      "source": [
        "bike_to_wellesley"
      ]
    },
    {
      "cell_type": "markdown",
      "metadata": {
        "id": "GCvsd1xlWFGN"
      },
      "source": [
        "The output indicates that `bike_to_wellesley` is a function defined in a \"namespace\" called `__main__`, but you don't have to understand what that means."
      ]
    },
    {
      "cell_type": "markdown",
      "metadata": {
        "id": "OtToKkvSWFGN"
      },
      "source": [
        "**Exercise:** Define a function called `bike_to_olin` that moves a bike from Wellesley to Olin.  Call the new function and display `bikeshare`  to confirm that it works."
      ]
    },
    {
      "cell_type": "code",
      "source": [
        "def bike_to_olin():\n",
        "    bikeshare.wellesley -= 1\n",
        "    bikeshare.olin += 1\n",
        "\n",
        "bike_to_olin()\n",
        "bikeshare\n"
      ],
      "metadata": {
        "colab": {
          "base_uri": "https://localhost:8080/",
          "height": 111
        },
        "id": "51kPZy6yitAH",
        "outputId": "c6d13f71-ebad-47df-b206-cf211136bb29"
      },
      "execution_count": null,
      "outputs": [
        {
          "output_type": "execute_result",
          "data": {
            "text/plain": [
              "olin         9\n",
              "wellesley    3\n",
              "dtype: int64"
            ],
            "text/html": [
              "<div>\n",
              "<style scoped>\n",
              "    .dataframe tbody tr th:only-of-type {\n",
              "        vertical-align: middle;\n",
              "    }\n",
              "\n",
              "    .dataframe tbody tr th {\n",
              "        vertical-align: top;\n",
              "    }\n",
              "\n",
              "    .dataframe thead th {\n",
              "        text-align: right;\n",
              "    }\n",
              "</style>\n",
              "<table border=\"1\" class=\"dataframe\">\n",
              "  <thead>\n",
              "    <tr style=\"text-align: right;\">\n",
              "      <th></th>\n",
              "      <th>values</th>\n",
              "    </tr>\n",
              "  </thead>\n",
              "  <tbody>\n",
              "    <tr>\n",
              "      <th>olin</th>\n",
              "      <td>9</td>\n",
              "    </tr>\n",
              "    <tr>\n",
              "      <th>wellesley</th>\n",
              "      <td>3</td>\n",
              "    </tr>\n",
              "  </tbody>\n",
              "</table>\n",
              "</div>"
            ]
          },
          "metadata": {},
          "execution_count": 196
        }
      ]
    },
    {
      "cell_type": "markdown",
      "metadata": {
        "id": "6kEupWYAWFGO"
      },
      "source": [
        "## Conditionals"
      ]
    },
    {
      "cell_type": "markdown",
      "metadata": {
        "id": "Kd-n_zjVWFGO"
      },
      "source": [
        "`modsim.py` provides `flip`, which takes a probability and returns either `True` or `False`, which are special values defined by Python.\n",
        "\n",
        "The Python function `help` looks up a function and displays its documentation."
      ]
    },
    {
      "cell_type": "code",
      "execution_count": null,
      "metadata": {
        "colab": {
          "base_uri": "https://localhost:8080/"
        },
        "id": "oOB6KSxUWFGP",
        "outputId": "40cc58ad-4174-4692-caaf-b33dffedac20"
      },
      "outputs": [
        {
          "output_type": "stream",
          "name": "stdout",
          "text": [
            "Help on function flip in module modsim.modsim:\n",
            "\n",
            "flip(p=0.5)\n",
            "    Flips a coin with the given probability.\n",
            "    \n",
            "    p: float 0-1\n",
            "    \n",
            "    returns: boolean (True or False)\n",
            "\n"
          ]
        }
      ],
      "source": [
        "help(flip)"
      ]
    },
    {
      "cell_type": "markdown",
      "metadata": {
        "id": "jpqVfEqrWFGP"
      },
      "source": [
        "In the following example, the probability is 0.7 or 70%.  If you run this cell several times, you should get `True` about 70% of the time and `False` about 30%."
      ]
    },
    {
      "cell_type": "code",
      "execution_count": null,
      "metadata": {
        "colab": {
          "base_uri": "https://localhost:8080/"
        },
        "id": "bHZ5BEI7WFGP",
        "outputId": "735d601b-6e99-457a-d0a3-39e8f55ef202"
      },
      "outputs": [
        {
          "output_type": "execute_result",
          "data": {
            "text/plain": [
              "True"
            ]
          },
          "metadata": {},
          "execution_count": 198
        }
      ],
      "source": [
        "flip(0.7)"
      ]
    },
    {
      "cell_type": "markdown",
      "metadata": {
        "id": "joyrnItPWFGQ"
      },
      "source": [
        "In the following example, we use `flip` as part of an if statement.  If the result from `flip` is `True`, we print `heads`; otherwise we do nothing."
      ]
    },
    {
      "cell_type": "code",
      "execution_count": null,
      "metadata": {
        "id": "3QC2DT0dWFGR"
      },
      "outputs": [],
      "source": [
        "if flip(0.7):\n",
        "    print('heads')"
      ]
    },
    {
      "cell_type": "markdown",
      "metadata": {
        "id": "tDSRxxRXWFGR"
      },
      "source": [
        "With an else clause, we can print heads or tails depending on whether `flip` returns `True` or `False`."
      ]
    },
    {
      "cell_type": "code",
      "execution_count": null,
      "metadata": {
        "colab": {
          "base_uri": "https://localhost:8080/"
        },
        "id": "OrLT-jwYWFGS",
        "outputId": "f0da3a77-0f0d-462b-b158-eb56e7ec1feb"
      },
      "outputs": [
        {
          "output_type": "stream",
          "name": "stdout",
          "text": [
            "heads\n"
          ]
        }
      ],
      "source": [
        "if flip(0.7):\n",
        "    print('heads')\n",
        "else:\n",
        "    print('tails')"
      ]
    },
    {
      "cell_type": "markdown",
      "metadata": {
        "id": "d1sJ0WM_WFGT"
      },
      "source": [
        "## Step\n",
        "\n",
        "Now let's get back to the bikeshare state.  Again let's start with a new `State` object."
      ]
    },
    {
      "cell_type": "code",
      "execution_count": null,
      "metadata": {
        "colab": {
          "base_uri": "https://localhost:8080/",
          "height": 111
        },
        "id": "CUZgGR1FWFGT",
        "outputId": "15670def-8a54-4b6c-942d-f81f57b01dae"
      },
      "outputs": [
        {
          "output_type": "execute_result",
          "data": {
            "text/plain": [
              "olin         10\n",
              "wellesley     2\n",
              "dtype: int64"
            ],
            "text/html": [
              "<div>\n",
              "<style scoped>\n",
              "    .dataframe tbody tr th:only-of-type {\n",
              "        vertical-align: middle;\n",
              "    }\n",
              "\n",
              "    .dataframe tbody tr th {\n",
              "        vertical-align: top;\n",
              "    }\n",
              "\n",
              "    .dataframe thead th {\n",
              "        text-align: right;\n",
              "    }\n",
              "</style>\n",
              "<table border=\"1\" class=\"dataframe\">\n",
              "  <thead>\n",
              "    <tr style=\"text-align: right;\">\n",
              "      <th></th>\n",
              "      <th>values</th>\n",
              "    </tr>\n",
              "  </thead>\n",
              "  <tbody>\n",
              "    <tr>\n",
              "      <th>olin</th>\n",
              "      <td>10</td>\n",
              "    </tr>\n",
              "    <tr>\n",
              "      <th>wellesley</th>\n",
              "      <td>2</td>\n",
              "    </tr>\n",
              "  </tbody>\n",
              "</table>\n",
              "</div>"
            ]
          },
          "metadata": {},
          "execution_count": 201
        }
      ],
      "source": [
        "bikeshare = State(olin=10, wellesley=2)"
      ]
    },
    {
      "cell_type": "markdown",
      "metadata": {
        "id": "xZs0NHzTWFGT"
      },
      "source": [
        "Suppose that in any given minute, there is a 50% chance that a student picks up a bike at Olin and rides to Wellesley.  We can simulate that like this."
      ]
    },
    {
      "cell_type": "code",
      "execution_count": null,
      "metadata": {
        "colab": {
          "base_uri": "https://localhost:8080/",
          "height": 111
        },
        "id": "8mRl74v0WFGU",
        "outputId": "251d47dc-1ca6-412e-9ed5-59bf5b9cdb16"
      },
      "outputs": [
        {
          "output_type": "execute_result",
          "data": {
            "text/plain": [
              "olin         10\n",
              "wellesley     2\n",
              "dtype: int64"
            ],
            "text/html": [
              "<div>\n",
              "<style scoped>\n",
              "    .dataframe tbody tr th:only-of-type {\n",
              "        vertical-align: middle;\n",
              "    }\n",
              "\n",
              "    .dataframe tbody tr th {\n",
              "        vertical-align: top;\n",
              "    }\n",
              "\n",
              "    .dataframe thead th {\n",
              "        text-align: right;\n",
              "    }\n",
              "</style>\n",
              "<table border=\"1\" class=\"dataframe\">\n",
              "  <thead>\n",
              "    <tr style=\"text-align: right;\">\n",
              "      <th></th>\n",
              "      <th>values</th>\n",
              "    </tr>\n",
              "  </thead>\n",
              "  <tbody>\n",
              "    <tr>\n",
              "      <th>olin</th>\n",
              "      <td>10</td>\n",
              "    </tr>\n",
              "    <tr>\n",
              "      <th>wellesley</th>\n",
              "      <td>2</td>\n",
              "    </tr>\n",
              "  </tbody>\n",
              "</table>\n",
              "</div>"
            ]
          },
          "metadata": {},
          "execution_count": 202
        }
      ],
      "source": [
        "if flip(0.5):\n",
        "    bike_to_wellesley()\n",
        "    print('Moving a bike to Wellesley')\n",
        "\n",
        "bikeshare"
      ]
    },
    {
      "cell_type": "markdown",
      "metadata": {
        "id": "D4ncWvIGWFGU"
      },
      "source": [
        "And maybe at the same time, there is also a 40% chance that a student at Wellesley rides to Olin."
      ]
    },
    {
      "cell_type": "code",
      "execution_count": null,
      "metadata": {
        "colab": {
          "base_uri": "https://localhost:8080/",
          "height": 111
        },
        "id": "Nij1anpBWFGU",
        "outputId": "1bf04e22-4370-414b-a591-0f847a00bee4"
      },
      "outputs": [
        {
          "output_type": "execute_result",
          "data": {
            "text/plain": [
              "olin         10\n",
              "wellesley     2\n",
              "dtype: int64"
            ],
            "text/html": [
              "<div>\n",
              "<style scoped>\n",
              "    .dataframe tbody tr th:only-of-type {\n",
              "        vertical-align: middle;\n",
              "    }\n",
              "\n",
              "    .dataframe tbody tr th {\n",
              "        vertical-align: top;\n",
              "    }\n",
              "\n",
              "    .dataframe thead th {\n",
              "        text-align: right;\n",
              "    }\n",
              "</style>\n",
              "<table border=\"1\" class=\"dataframe\">\n",
              "  <thead>\n",
              "    <tr style=\"text-align: right;\">\n",
              "      <th></th>\n",
              "      <th>values</th>\n",
              "    </tr>\n",
              "  </thead>\n",
              "  <tbody>\n",
              "    <tr>\n",
              "      <th>olin</th>\n",
              "      <td>10</td>\n",
              "    </tr>\n",
              "    <tr>\n",
              "      <th>wellesley</th>\n",
              "      <td>2</td>\n",
              "    </tr>\n",
              "  </tbody>\n",
              "</table>\n",
              "</div>"
            ]
          },
          "metadata": {},
          "execution_count": 203
        }
      ],
      "source": [
        "if flip(0.4):\n",
        "    bike_to_olin()\n",
        "    print('Moving a bike to Olin')\n",
        "\n",
        "bikeshare"
      ]
    },
    {
      "cell_type": "markdown",
      "metadata": {
        "id": "Hl3zuaRnWFGV"
      },
      "source": [
        "We can wrap that code in a function called `step` that simulates one time step.  In any given minute, a student might ride from Olin to Wellesley, from Wellesley to Olin, or both, or neither, depending on the results of `flip`."
      ]
    },
    {
      "cell_type": "code",
      "execution_count": null,
      "metadata": {
        "id": "YY03tPwtWFGW"
      },
      "outputs": [],
      "source": [
        "def step():\n",
        "    if flip(0.5):\n",
        "        bike_to_wellesley()\n",
        "        print('Moving a bike to Wellesley')\n",
        "        \n",
        "    if flip(0.4):\n",
        "        bike_to_olin()\n",
        "        print('Moving a bike to Olin')"
      ]
    },
    {
      "cell_type": "markdown",
      "metadata": {
        "id": "pF-rDzk5WFGW"
      },
      "source": [
        "Since this function takes no parameters, we call it like this:"
      ]
    },
    {
      "cell_type": "code",
      "execution_count": null,
      "metadata": {
        "colab": {
          "base_uri": "https://localhost:8080/",
          "height": 111
        },
        "id": "LodfX5ZnWFGW",
        "outputId": "7fcb5cbc-3c9b-49a4-83fe-51b5c7dd0892"
      },
      "outputs": [
        {
          "output_type": "execute_result",
          "data": {
            "text/plain": [
              "olin         10\n",
              "wellesley     2\n",
              "dtype: int64"
            ],
            "text/html": [
              "<div>\n",
              "<style scoped>\n",
              "    .dataframe tbody tr th:only-of-type {\n",
              "        vertical-align: middle;\n",
              "    }\n",
              "\n",
              "    .dataframe tbody tr th {\n",
              "        vertical-align: top;\n",
              "    }\n",
              "\n",
              "    .dataframe thead th {\n",
              "        text-align: right;\n",
              "    }\n",
              "</style>\n",
              "<table border=\"1\" class=\"dataframe\">\n",
              "  <thead>\n",
              "    <tr style=\"text-align: right;\">\n",
              "      <th></th>\n",
              "      <th>values</th>\n",
              "    </tr>\n",
              "  </thead>\n",
              "  <tbody>\n",
              "    <tr>\n",
              "      <th>olin</th>\n",
              "      <td>10</td>\n",
              "    </tr>\n",
              "    <tr>\n",
              "      <th>wellesley</th>\n",
              "      <td>2</td>\n",
              "    </tr>\n",
              "  </tbody>\n",
              "</table>\n",
              "</div>"
            ]
          },
          "metadata": {},
          "execution_count": 205
        }
      ],
      "source": [
        "step()\n",
        "bikeshare"
      ]
    },
    {
      "cell_type": "markdown",
      "metadata": {
        "id": "-NotcIOOWFGX"
      },
      "source": [
        "## Parameters\n",
        "\n",
        "As defined in the previous section, `step` is not as useful as it could be, because the probabilities `0.5` and `0.4` are \"hard coded\".\n",
        "\n",
        "It would be better to generalize this function so it takes the probabilities `p1` and `p2` as parameters:"
      ]
    },
    {
      "cell_type": "code",
      "execution_count": null,
      "metadata": {
        "id": "7r2cN9_HWFGX"
      },
      "outputs": [],
      "source": [
        "def step(p1, p2):\n",
        "    if flip(p1):\n",
        "        bike_to_wellesley()\n",
        "        print('Moving a bike to Wellesley')\n",
        "        \n",
        "    if flip(p2):\n",
        "        bike_to_olin()\n",
        "        print('Moving a bike to Olin')"
      ]
    },
    {
      "cell_type": "markdown",
      "metadata": {
        "id": "5T04QJwtWFGX"
      },
      "source": [
        "Now we can call it like this:"
      ]
    },
    {
      "cell_type": "code",
      "execution_count": null,
      "metadata": {
        "colab": {
          "base_uri": "https://localhost:8080/",
          "height": 145
        },
        "id": "yUmIROXTWFGY",
        "outputId": "31808ad0-67ab-419c-ee71-d897ca4f988c"
      },
      "outputs": [
        {
          "output_type": "stream",
          "name": "stdout",
          "text": [
            "Moving a bike to Wellesley\n",
            "Moving a bike to Olin\n"
          ]
        },
        {
          "output_type": "execute_result",
          "data": {
            "text/plain": [
              "olin         10\n",
              "wellesley     2\n",
              "dtype: int64"
            ],
            "text/html": [
              "<div>\n",
              "<style scoped>\n",
              "    .dataframe tbody tr th:only-of-type {\n",
              "        vertical-align: middle;\n",
              "    }\n",
              "\n",
              "    .dataframe tbody tr th {\n",
              "        vertical-align: top;\n",
              "    }\n",
              "\n",
              "    .dataframe thead th {\n",
              "        text-align: right;\n",
              "    }\n",
              "</style>\n",
              "<table border=\"1\" class=\"dataframe\">\n",
              "  <thead>\n",
              "    <tr style=\"text-align: right;\">\n",
              "      <th></th>\n",
              "      <th>values</th>\n",
              "    </tr>\n",
              "  </thead>\n",
              "  <tbody>\n",
              "    <tr>\n",
              "      <th>olin</th>\n",
              "      <td>10</td>\n",
              "    </tr>\n",
              "    <tr>\n",
              "      <th>wellesley</th>\n",
              "      <td>2</td>\n",
              "    </tr>\n",
              "  </tbody>\n",
              "</table>\n",
              "</div>"
            ]
          },
          "metadata": {},
          "execution_count": 207
        }
      ],
      "source": [
        "step(0.5, 0.4)\n",
        "bikeshare"
      ]
    },
    {
      "cell_type": "markdown",
      "metadata": {
        "id": "qVhhzUx0WFGY"
      },
      "source": [
        "**Exercise:** At the beginning of `step`, add a print statement that displays the values of `p1` and `p2`.  Call it again with values `0.3`, and `0.2`, and confirm that the values of the parameters are what you expect. "
      ]
    },
    {
      "cell_type": "code",
      "execution_count": null,
      "metadata": {
        "id": "3PrbSQQpWFGZ"
      },
      "outputs": [],
      "source": [
        "def step(p1, p2):\n",
        "    print(f\"p1: {p1}, p2: {p2}\")  # Print the values of p1 and p2\n",
        "\n",
        "    if flip(p1):\n",
        "        bike_to_wellesley()\n",
        "        print('Moving a bike to Wellesley')\n",
        "        \n",
        "    if flip(p2):\n",
        "        bike_to_olin()\n",
        "        print('Moving a bike to Olin')\n",
        "\n"
      ]
    },
    {
      "cell_type": "markdown",
      "source": [
        "Now, we can call the step function with different values for p1 and p2 to confirm that the values of the parameters are what we expect"
      ],
      "metadata": {
        "id": "MO4QiiwnZyKq"
      }
    },
    {
      "cell_type": "code",
      "source": [
        "step(0.5, 0.4)  \n",
        "step(0.3, 0.2) \n"
      ],
      "metadata": {
        "colab": {
          "base_uri": "https://localhost:8080/"
        },
        "id": "XmHkD4goZ4H7",
        "outputId": "7dfdb20b-16ed-4bfa-9e1b-08c7a68c4223"
      },
      "execution_count": null,
      "outputs": [
        {
          "output_type": "stream",
          "name": "stdout",
          "text": [
            "p1: 0.5, p2: 0.4\n",
            "Moving a bike to Wellesley\n",
            "p1: 0.3, p2: 0.2\n"
          ]
        }
      ]
    },
    {
      "cell_type": "markdown",
      "metadata": {
        "id": "_KlqNpsoWFGZ"
      },
      "source": [
        "## For loop"
      ]
    },
    {
      "cell_type": "markdown",
      "metadata": {
        "id": "RyN_m40QWFGZ"
      },
      "source": [
        "Before we go on, I'll redefine `step` without the print statements."
      ]
    },
    {
      "cell_type": "code",
      "execution_count": null,
      "metadata": {
        "id": "BpY5S7GfWFGa"
      },
      "outputs": [],
      "source": [
        "def step(p1, p2):\n",
        "    if flip(p1):\n",
        "        bike_to_wellesley()\n",
        "    \n",
        "    if flip(p2):\n",
        "        bike_to_olin()"
      ]
    },
    {
      "cell_type": "markdown",
      "metadata": {
        "id": "YWMK3N-tWFGa"
      },
      "source": [
        "And let's start again with a new `State` object:"
      ]
    },
    {
      "cell_type": "code",
      "execution_count": null,
      "metadata": {
        "colab": {
          "base_uri": "https://localhost:8080/",
          "height": 111
        },
        "id": "ttXc5b70WFGa",
        "outputId": "051a9617-6e12-4527-e522-bc0b1e123cea"
      },
      "outputs": [
        {
          "output_type": "execute_result",
          "data": {
            "text/plain": [
              "olin         10\n",
              "wellesley     2\n",
              "dtype: int64"
            ],
            "text/html": [
              "<div>\n",
              "<style scoped>\n",
              "    .dataframe tbody tr th:only-of-type {\n",
              "        vertical-align: middle;\n",
              "    }\n",
              "\n",
              "    .dataframe tbody tr th {\n",
              "        vertical-align: top;\n",
              "    }\n",
              "\n",
              "    .dataframe thead th {\n",
              "        text-align: right;\n",
              "    }\n",
              "</style>\n",
              "<table border=\"1\" class=\"dataframe\">\n",
              "  <thead>\n",
              "    <tr style=\"text-align: right;\">\n",
              "      <th></th>\n",
              "      <th>values</th>\n",
              "    </tr>\n",
              "  </thead>\n",
              "  <tbody>\n",
              "    <tr>\n",
              "      <th>olin</th>\n",
              "      <td>10</td>\n",
              "    </tr>\n",
              "    <tr>\n",
              "      <th>wellesley</th>\n",
              "      <td>2</td>\n",
              "    </tr>\n",
              "  </tbody>\n",
              "</table>\n",
              "</div>"
            ]
          },
          "metadata": {},
          "execution_count": 211
        }
      ],
      "source": [
        "bikeshare = State(olin=10, wellesley=2)"
      ]
    },
    {
      "cell_type": "markdown",
      "metadata": {
        "id": "tplLXYZ_WFGa"
      },
      "source": [
        "We can use a `for` loop to move 4 bikes from Olin to Wellesley."
      ]
    },
    {
      "cell_type": "code",
      "execution_count": null,
      "metadata": {
        "colab": {
          "base_uri": "https://localhost:8080/",
          "height": 111
        },
        "id": "w_aIE87LWFGa",
        "outputId": "ce7b5c36-7d3a-4777-b3a7-ccb5ed63465e"
      },
      "outputs": [
        {
          "output_type": "execute_result",
          "data": {
            "text/plain": [
              "olin         6\n",
              "wellesley    6\n",
              "dtype: int64"
            ],
            "text/html": [
              "<div>\n",
              "<style scoped>\n",
              "    .dataframe tbody tr th:only-of-type {\n",
              "        vertical-align: middle;\n",
              "    }\n",
              "\n",
              "    .dataframe tbody tr th {\n",
              "        vertical-align: top;\n",
              "    }\n",
              "\n",
              "    .dataframe thead th {\n",
              "        text-align: right;\n",
              "    }\n",
              "</style>\n",
              "<table border=\"1\" class=\"dataframe\">\n",
              "  <thead>\n",
              "    <tr style=\"text-align: right;\">\n",
              "      <th></th>\n",
              "      <th>values</th>\n",
              "    </tr>\n",
              "  </thead>\n",
              "  <tbody>\n",
              "    <tr>\n",
              "      <th>olin</th>\n",
              "      <td>6</td>\n",
              "    </tr>\n",
              "    <tr>\n",
              "      <th>wellesley</th>\n",
              "      <td>6</td>\n",
              "    </tr>\n",
              "  </tbody>\n",
              "</table>\n",
              "</div>"
            ]
          },
          "metadata": {},
          "execution_count": 212
        }
      ],
      "source": [
        "for i in range(4):\n",
        "    bike_to_wellesley()\n",
        "    \n",
        "bikeshare"
      ]
    },
    {
      "cell_type": "markdown",
      "metadata": {
        "id": "LY0D8m-lWFGa"
      },
      "source": [
        "Or we can simulate 4 random time steps."
      ]
    },
    {
      "cell_type": "code",
      "execution_count": null,
      "metadata": {
        "colab": {
          "base_uri": "https://localhost:8080/",
          "height": 111
        },
        "id": "fJD7Z00vWFGb",
        "outputId": "e8bf3055-812b-4a87-d117-d5be9ea8d375"
      },
      "outputs": [
        {
          "output_type": "execute_result",
          "data": {
            "text/plain": [
              "olin         4\n",
              "wellesley    8\n",
              "dtype: int64"
            ],
            "text/html": [
              "<div>\n",
              "<style scoped>\n",
              "    .dataframe tbody tr th:only-of-type {\n",
              "        vertical-align: middle;\n",
              "    }\n",
              "\n",
              "    .dataframe tbody tr th {\n",
              "        vertical-align: top;\n",
              "    }\n",
              "\n",
              "    .dataframe thead th {\n",
              "        text-align: right;\n",
              "    }\n",
              "</style>\n",
              "<table border=\"1\" class=\"dataframe\">\n",
              "  <thead>\n",
              "    <tr style=\"text-align: right;\">\n",
              "      <th></th>\n",
              "      <th>values</th>\n",
              "    </tr>\n",
              "  </thead>\n",
              "  <tbody>\n",
              "    <tr>\n",
              "      <th>olin</th>\n",
              "      <td>4</td>\n",
              "    </tr>\n",
              "    <tr>\n",
              "      <th>wellesley</th>\n",
              "      <td>8</td>\n",
              "    </tr>\n",
              "  </tbody>\n",
              "</table>\n",
              "</div>"
            ]
          },
          "metadata": {},
          "execution_count": 213
        }
      ],
      "source": [
        "for i in range(4):\n",
        "    step(0.3, 0.2)\n",
        "    \n",
        "bikeshare"
      ]
    },
    {
      "cell_type": "markdown",
      "metadata": {
        "id": "MKDF69ZCWFGb"
      },
      "source": [
        "If each step corresponds to a minute, we can simulate an entire hour like this."
      ]
    },
    {
      "cell_type": "code",
      "execution_count": null,
      "metadata": {
        "colab": {
          "base_uri": "https://localhost:8080/",
          "height": 111
        },
        "id": "GjpfEIUpWFGb",
        "outputId": "1a035d4d-f2c0-43bc-b755-69150199976e"
      },
      "outputs": [
        {
          "output_type": "execute_result",
          "data": {
            "text/plain": [
              "olin         4\n",
              "wellesley    8\n",
              "dtype: int64"
            ],
            "text/html": [
              "<div>\n",
              "<style scoped>\n",
              "    .dataframe tbody tr th:only-of-type {\n",
              "        vertical-align: middle;\n",
              "    }\n",
              "\n",
              "    .dataframe tbody tr th {\n",
              "        vertical-align: top;\n",
              "    }\n",
              "\n",
              "    .dataframe thead th {\n",
              "        text-align: right;\n",
              "    }\n",
              "</style>\n",
              "<table border=\"1\" class=\"dataframe\">\n",
              "  <thead>\n",
              "    <tr style=\"text-align: right;\">\n",
              "      <th></th>\n",
              "      <th>values</th>\n",
              "    </tr>\n",
              "  </thead>\n",
              "  <tbody>\n",
              "    <tr>\n",
              "      <th>olin</th>\n",
              "      <td>4</td>\n",
              "    </tr>\n",
              "    <tr>\n",
              "      <th>wellesley</th>\n",
              "      <td>8</td>\n",
              "    </tr>\n",
              "  </tbody>\n",
              "</table>\n",
              "</div>"
            ]
          },
          "metadata": {},
          "execution_count": 214
        }
      ],
      "source": [
        "for i in range(60):\n",
        "    step(0.3, 0.2)\n",
        "\n",
        "bikeshare"
      ]
    },
    {
      "cell_type": "markdown",
      "metadata": {
        "id": "i6ta6-MHWFGb"
      },
      "source": [
        "After 60 minutes, you might see that the number of bike at Olin is negative.  We'll fix that problem in the next notebook.\n",
        "\n",
        "But first, we want to plot the results."
      ]
    },
    {
      "cell_type": "markdown",
      "metadata": {
        "id": "RZqZNsIOWFGc"
      },
      "source": [
        "## TimeSeries\n",
        "\n",
        "`modsim.py` provides an object called a `TimeSeries` that can contain a sequence of values changing over time.\n",
        "\n",
        "We can create a new, empty `TimeSeries` like this:"
      ]
    },
    {
      "cell_type": "code",
      "execution_count": null,
      "metadata": {
        "colab": {
          "base_uri": "https://localhost:8080/",
          "height": 49
        },
        "id": "oD3fPvxVWFGc",
        "outputId": "06d10c1f-c76d-426d-a5a4-9a80c582d198"
      },
      "outputs": [
        {
          "output_type": "execute_result",
          "data": {
            "text/plain": [
              "TimeSeries([], dtype: float64)"
            ],
            "text/html": [
              "<div>\n",
              "<style scoped>\n",
              "    .dataframe tbody tr th:only-of-type {\n",
              "        vertical-align: middle;\n",
              "    }\n",
              "\n",
              "    .dataframe tbody tr th {\n",
              "        vertical-align: top;\n",
              "    }\n",
              "\n",
              "    .dataframe thead th {\n",
              "        text-align: right;\n",
              "    }\n",
              "</style>\n",
              "<table border=\"1\" class=\"dataframe\">\n",
              "  <thead>\n",
              "    <tr style=\"text-align: right;\">\n",
              "      <th></th>\n",
              "      <th>values</th>\n",
              "    </tr>\n",
              "  </thead>\n",
              "  <tbody>\n",
              "  </tbody>\n",
              "</table>\n",
              "</div>"
            ]
          },
          "metadata": {},
          "execution_count": 215
        }
      ],
      "source": [
        "results = TimeSeries()"
      ]
    },
    {
      "cell_type": "markdown",
      "metadata": {
        "id": "4o69H7VlWFGc"
      },
      "source": [
        "And we can add a value to the `TimeSeries` like this:"
      ]
    },
    {
      "cell_type": "code",
      "execution_count": null,
      "metadata": {
        "colab": {
          "base_uri": "https://localhost:8080/",
          "height": 80
        },
        "id": "YqPWhGq1WFGc",
        "outputId": "a2fc2659-5bff-4035-8615-b0398e96b196"
      },
      "outputs": [
        {
          "output_type": "execute_result",
          "data": {
            "text/plain": [
              "0    4\n",
              "dtype: int64"
            ],
            "text/html": [
              "<div>\n",
              "<style scoped>\n",
              "    .dataframe tbody tr th:only-of-type {\n",
              "        vertical-align: middle;\n",
              "    }\n",
              "\n",
              "    .dataframe tbody tr th {\n",
              "        vertical-align: top;\n",
              "    }\n",
              "\n",
              "    .dataframe thead th {\n",
              "        text-align: right;\n",
              "    }\n",
              "</style>\n",
              "<table border=\"1\" class=\"dataframe\">\n",
              "  <thead>\n",
              "    <tr style=\"text-align: right;\">\n",
              "      <th></th>\n",
              "      <th>values</th>\n",
              "    </tr>\n",
              "  </thead>\n",
              "  <tbody>\n",
              "    <tr>\n",
              "      <th>0</th>\n",
              "      <td>4</td>\n",
              "    </tr>\n",
              "  </tbody>\n",
              "</table>\n",
              "</div>"
            ]
          },
          "metadata": {},
          "execution_count": 216
        }
      ],
      "source": [
        "results[0] = bikeshare.olin\n",
        "results"
      ]
    },
    {
      "cell_type": "markdown",
      "metadata": {
        "id": "3lDJMpWIWFGd"
      },
      "source": [
        "The `0` in brackets is an `index` that indicates that this value is associated with time step 0.\n",
        "\n",
        "Now we'll use a for loop to save the results of the simulation.  I'll start one more time with a new `State` object."
      ]
    },
    {
      "cell_type": "code",
      "execution_count": null,
      "metadata": {
        "colab": {
          "base_uri": "https://localhost:8080/",
          "height": 111
        },
        "id": "IS6xtGc4WFGd",
        "outputId": "b9cfec5d-8834-4742-f347-1c1ddb7b42ed"
      },
      "outputs": [
        {
          "output_type": "execute_result",
          "data": {
            "text/plain": [
              "olin         10\n",
              "wellesley     2\n",
              "dtype: int64"
            ],
            "text/html": [
              "<div>\n",
              "<style scoped>\n",
              "    .dataframe tbody tr th:only-of-type {\n",
              "        vertical-align: middle;\n",
              "    }\n",
              "\n",
              "    .dataframe tbody tr th {\n",
              "        vertical-align: top;\n",
              "    }\n",
              "\n",
              "    .dataframe thead th {\n",
              "        text-align: right;\n",
              "    }\n",
              "</style>\n",
              "<table border=\"1\" class=\"dataframe\">\n",
              "  <thead>\n",
              "    <tr style=\"text-align: right;\">\n",
              "      <th></th>\n",
              "      <th>values</th>\n",
              "    </tr>\n",
              "  </thead>\n",
              "  <tbody>\n",
              "    <tr>\n",
              "      <th>olin</th>\n",
              "      <td>10</td>\n",
              "    </tr>\n",
              "    <tr>\n",
              "      <th>wellesley</th>\n",
              "      <td>2</td>\n",
              "    </tr>\n",
              "  </tbody>\n",
              "</table>\n",
              "</div>"
            ]
          },
          "metadata": {},
          "execution_count": 217
        }
      ],
      "source": [
        "bikeshare = State(olin=10, wellesley=2)"
      ]
    },
    {
      "cell_type": "markdown",
      "metadata": {
        "id": "G3jDRQ1UWFGd"
      },
      "source": [
        "Here's a for loop that runs 10 steps and stores the results."
      ]
    },
    {
      "cell_type": "code",
      "execution_count": null,
      "metadata": {
        "id": "K12TtbvkWFGd"
      },
      "outputs": [],
      "source": [
        "for i in range(10):\n",
        "    step(0.3, 0.2)\n",
        "    results[i] = bikeshare.olin"
      ]
    },
    {
      "cell_type": "markdown",
      "metadata": {
        "id": "BaXwpZDKWFGe"
      },
      "source": [
        "Now we can display the results."
      ]
    },
    {
      "cell_type": "code",
      "execution_count": null,
      "metadata": {
        "colab": {
          "base_uri": "https://localhost:8080/",
          "height": 359
        },
        "id": "as6apu5ZWFGe",
        "outputId": "3a7e05dd-72ec-4f98-bca5-1fb4ef5ff208"
      },
      "outputs": [
        {
          "output_type": "execute_result",
          "data": {
            "text/plain": [
              "0    10\n",
              "1     9\n",
              "2     9\n",
              "3    10\n",
              "4    10\n",
              "5    10\n",
              "6    11\n",
              "7    11\n",
              "8    11\n",
              "9    11\n",
              "dtype: int64"
            ],
            "text/html": [
              "<div>\n",
              "<style scoped>\n",
              "    .dataframe tbody tr th:only-of-type {\n",
              "        vertical-align: middle;\n",
              "    }\n",
              "\n",
              "    .dataframe tbody tr th {\n",
              "        vertical-align: top;\n",
              "    }\n",
              "\n",
              "    .dataframe thead th {\n",
              "        text-align: right;\n",
              "    }\n",
              "</style>\n",
              "<table border=\"1\" class=\"dataframe\">\n",
              "  <thead>\n",
              "    <tr style=\"text-align: right;\">\n",
              "      <th></th>\n",
              "      <th>values</th>\n",
              "    </tr>\n",
              "  </thead>\n",
              "  <tbody>\n",
              "    <tr>\n",
              "      <th>0</th>\n",
              "      <td>10</td>\n",
              "    </tr>\n",
              "    <tr>\n",
              "      <th>1</th>\n",
              "      <td>9</td>\n",
              "    </tr>\n",
              "    <tr>\n",
              "      <th>2</th>\n",
              "      <td>9</td>\n",
              "    </tr>\n",
              "    <tr>\n",
              "      <th>3</th>\n",
              "      <td>10</td>\n",
              "    </tr>\n",
              "    <tr>\n",
              "      <th>4</th>\n",
              "      <td>10</td>\n",
              "    </tr>\n",
              "    <tr>\n",
              "      <th>5</th>\n",
              "      <td>10</td>\n",
              "    </tr>\n",
              "    <tr>\n",
              "      <th>6</th>\n",
              "      <td>11</td>\n",
              "    </tr>\n",
              "    <tr>\n",
              "      <th>7</th>\n",
              "      <td>11</td>\n",
              "    </tr>\n",
              "    <tr>\n",
              "      <th>8</th>\n",
              "      <td>11</td>\n",
              "    </tr>\n",
              "    <tr>\n",
              "      <th>9</th>\n",
              "      <td>11</td>\n",
              "    </tr>\n",
              "  </tbody>\n",
              "</table>\n",
              "</div>"
            ]
          },
          "metadata": {},
          "execution_count": 219
        }
      ],
      "source": [
        "results"
      ]
    },
    {
      "cell_type": "markdown",
      "metadata": {
        "id": "bTm6ls-7WFGe"
      },
      "source": [
        "A `TimeSeries` is a specialized version of a Pandas `Series`, so we can use any of the functions provided by `Series`, including several that compute summary statistics:"
      ]
    },
    {
      "cell_type": "code",
      "execution_count": null,
      "metadata": {
        "colab": {
          "base_uri": "https://localhost:8080/"
        },
        "id": "TMCwq5-3WFGe",
        "outputId": "d53e67c8-9674-45a0-a72a-133f87d42115"
      },
      "outputs": [
        {
          "output_type": "execute_result",
          "data": {
            "text/plain": [
              "10.2"
            ]
          },
          "metadata": {},
          "execution_count": 220
        }
      ],
      "source": [
        "results.mean()"
      ]
    },
    {
      "cell_type": "code",
      "execution_count": null,
      "metadata": {
        "colab": {
          "base_uri": "https://localhost:8080/"
        },
        "id": "6f6ayThCWFGf",
        "outputId": "d37a2f23-2e70-40a0-cc4e-a5f4c875f70b"
      },
      "outputs": [
        {
          "output_type": "execute_result",
          "data": {
            "text/plain": [
              "count    10.000000\n",
              "mean     10.200000\n",
              "std       0.788811\n",
              "min       9.000000\n",
              "25%      10.000000\n",
              "50%      10.000000\n",
              "75%      11.000000\n",
              "max      11.000000\n",
              "dtype: float64"
            ]
          },
          "metadata": {},
          "execution_count": 221
        }
      ],
      "source": [
        "results.describe()"
      ]
    },
    {
      "cell_type": "markdown",
      "metadata": {
        "id": "vVBw3M96WFGf"
      },
      "source": [
        "You can read the documentation of `Series` [here](https://pandas.pydata.org/pandas-docs/stable/generated/pandas.Series.html)."
      ]
    },
    {
      "cell_type": "markdown",
      "metadata": {
        "id": "pUXegMPgWFGf"
      },
      "source": [
        "## Plotting\n",
        "\n",
        "We can also plot the results like this."
      ]
    },
    {
      "cell_type": "code",
      "source": [
        "plot(results, label='Olin')\n",
        "\n",
        "decorate(title='Olin-Wellesley Bikeshare',\n",
        "         xlabel='Time step (min)', \n",
        "         ylabel='Number of bikes')\n"
      ],
      "metadata": {
        "colab": {
          "base_uri": "https://localhost:8080/",
          "height": 473
        },
        "id": "NdHWJ5lhlYNu",
        "outputId": "ab280a75-259e-44c9-cfc5-7921efee8c25"
      },
      "execution_count": null,
      "outputs": [
        {
          "output_type": "display_data",
          "data": {
            "text/plain": [
              "<Figure size 640x480 with 1 Axes>"
            ],
            "image/png": "[encoded data removed]"
          },
          "metadata": {}
        }
      ]
    },
    {
      "cell_type": "markdown",
      "metadata": {
        "id": "Y_TYahu5WFGg"
      },
      "source": [
        "`decorate`, which is defined in the `modsim` library, adds a title and labels the axes."
      ]
    },
    {
      "cell_type": "code",
      "execution_count": null,
      "metadata": {
        "colab": {
          "base_uri": "https://localhost:8080/"
        },
        "id": "2XTrb28dWFGg",
        "outputId": "bfacff66-1520-4ed2-cd7d-bcf7b85ea5a6"
      },
      "outputs": [
        {
          "output_type": "stream",
          "name": "stdout",
          "text": [
            "Help on function decorate in module modsim.modsim:\n",
            "\n",
            "decorate(**options)\n",
            "    Decorate the current axes.\n",
            "    \n",
            "    Call decorate with keyword arguments like\n",
            "    \n",
            "    decorate(title='Title',\n",
            "             xlabel='x',\n",
            "             ylabel='y')\n",
            "    \n",
            "    The keyword arguments can be any of the axis properties\n",
            "    \n",
            "    https://matplotlib.org/api/axes_api.html\n",
            "    \n",
            "    In addition, you can use `legend=False` to suppress the legend.\n",
            "    \n",
            "    And you can use `loc` to indicate the location of the legend\n",
            "    (the default value is 'best')\n",
            "\n"
          ]
        }
      ],
      "source": [
        "help(decorate)"
      ]
    },
    {
      "cell_type": "markdown",
      "metadata": {
        "id": "M73gmJF_WFGg"
      },
      "source": [
        "`savefig()` saves a figure in a file."
      ]
    },
    {
      "cell_type": "code",
      "execution_count": null,
      "metadata": {
        "colab": {
          "base_uri": "https://localhost:8080/"
        },
        "id": "4fiZWtnNWFGg",
        "outputId": "248a8772-4b52-45e8-9611-5860acd0d1b1"
      },
      "outputs": [
        {
          "output_type": "stream",
          "name": "stdout",
          "text": [
            "Help on function savefig in module modsim.modsim:\n",
            "\n",
            "savefig(filename, **options)\n",
            "    Save the current figure.\n",
            "    \n",
            "    Keyword arguments are passed along to plt.savefig\n",
            "    \n",
            "    https://matplotlib.org/api/_as_gen/matplotlib.pyplot.savefig.html\n",
            "    \n",
            "    filename: string\n",
            "\n"
          ]
        }
      ],
      "source": [
        "help(savefig)"
      ]
    },
    {
      "cell_type": "markdown",
      "metadata": {
        "id": "n9fpZ0W8WFGg"
      },
      "source": [
        "The suffix of the filename indicates the format you want.  This example saves the current figure in a PDF file."
      ]
    },
    {
      "cell_type": "markdown",
      "metadata": {
        "id": "dNRdZ9U5WFGh"
      },
      "source": [
        "**Exercise:** Wrap the code from this section in a function named `run_simulation` that takes three parameters, named `p1`, `p2`, and `num_steps`.\n",
        "\n",
        "It should:\n",
        "\n",
        "1. Create a `TimeSeries` object to hold the results.\n",
        "2. Use a for loop to run `step` the number of times specified by `num_steps`, passing along the specified values of `p1` and `p2`.\n",
        "3. After each step, it should save the number of bikes at Olin in the `TimeSeries`.\n",
        "4. After the for loop, it should plot the results and\n",
        "5. Decorate the axes.\n",
        "\n",
        "To test your function:\n",
        "\n",
        "1. Create a `State` object with the initial state of the system.\n",
        "2. Call `run_simulation` with appropriate parameters.\n",
        "3. Save the resulting figure.\n",
        "\n",
        "Optional:\n",
        "\n",
        "1. Extend your solution so it creates two `TimeSeries` objects, keeps track of the number of bikes at Olin *and* at Wellesley, and plots both series at the end."
      ]
    },
    {
      "cell_type": "code",
      "source": [
        "def run_simulation(p1, p2, num_steps):\n",
        "    olin_results = TimeSeries()\n",
        "    wellesley_results = TimeSeries()\n",
        "    \n",
        "    bikeshare = State(olin=10, wellesley=2)\n",
        "    \n",
        "    for _ in range(num_steps):\n",
        "        step(p1, p2)\n",
        "        olin_results[len(olin_results)] = bikeshare.olin\n",
        "        wellesley_results[len(wellesley_results)] = bikeshare.wellesley\n",
        "    \n",
        "    plot(olin_results, label='Olin')\n",
        "    plot(wellesley_results, label='Wellesley')\n",
        "    \n",
        "    decorate(title='Olin-Wellesley Bikeshare',\n",
        "             xlabel='Time step (min)',\n",
        "             ylabel='Number of bikes')\n"
      ],
      "metadata": {
        "id": "5g_YNmC8nl5g"
      },
      "execution_count": null,
      "outputs": []
    },
    {
      "cell_type": "markdown",
      "source": [
        "To test the run_simulation function, you can follow these steps:\n",
        "\n",
        "Create a State object with the initial state of the system."
      ],
      "metadata": {
        "id": "W1C581Dunogp"
      }
    },
    {
      "cell_type": "code",
      "source": [
        "bikeshare = State(olin=10, wellesley=2)\n"
      ],
      "metadata": {
        "colab": {
          "base_uri": "https://localhost:8080/",
          "height": 111
        },
        "id": "qRo46azjn3_v",
        "outputId": "d5971588-c15f-4f5a-b46d-d749479baeb2"
      },
      "execution_count": null,
      "outputs": [
        {
          "output_type": "execute_result",
          "data": {
            "text/plain": [
              "olin         10\n",
              "wellesley     2\n",
              "dtype: int64"
            ],
            "text/html": [
              "<div>\n",
              "<style scoped>\n",
              "    .dataframe tbody tr th:only-of-type {\n",
              "        vertical-align: middle;\n",
              "    }\n",
              "\n",
              "    .dataframe tbody tr th {\n",
              "        vertical-align: top;\n",
              "    }\n",
              "\n",
              "    .dataframe thead th {\n",
              "        text-align: right;\n",
              "    }\n",
              "</style>\n",
              "<table border=\"1\" class=\"dataframe\">\n",
              "  <thead>\n",
              "    <tr style=\"text-align: right;\">\n",
              "      <th></th>\n",
              "      <th>values</th>\n",
              "    </tr>\n",
              "  </thead>\n",
              "  <tbody>\n",
              "    <tr>\n",
              "      <th>olin</th>\n",
              "      <td>10</td>\n",
              "    </tr>\n",
              "    <tr>\n",
              "      <th>wellesley</th>\n",
              "      <td>2</td>\n",
              "    </tr>\n",
              "  </tbody>\n",
              "</table>\n",
              "</div>"
            ]
          },
          "metadata": {},
          "execution_count": 226
        }
      ]
    },
    {
      "cell_type": "markdown",
      "source": [
        "Run_simulation function that creates separate TimeSeries objects for Olin and Wellesley bike counts and plots both series at the end"
      ],
      "metadata": {
        "id": "_HaMH8IftJQg"
      }
    },
    {
      "cell_type": "code",
      "source": [
        "# Create function run_simulation\n",
        "\n",
        "def run_simulation(p1, p2, num_steps):\n",
        "    olin = TimeSeries()\n",
        "    wellesley = TimeSeries()\n",
        "    \n",
        "    for i in range(num_steps):\n",
        "        step(p1, p2)\n",
        "        olin[i] = bikeshare.olin\n",
        "        wellesley[i] = bikeshare.wellesley\n",
        "        \n",
        "    plot(olin, label='Olin')\n",
        "    plot(wellesley, label='Wellesley')\n",
        "    decorate(title='Wellesley-Olin Bikeshare',\n",
        "             xlabel='Time step in mins', \n",
        "             ylabel='Number of bikes')"
      ],
      "metadata": {
        "id": "N69hJSyPYXDJ"
      },
      "execution_count": 49,
      "outputs": []
    },
    {
      "cell_type": "code",
      "source": [
        "# Call function run_simulation\n",
        "\n",
        "bikeshare = State(olin=10, wellesley=2)\n",
        "run_simulation(0.3, 0.2, 60)"
      ],
      "metadata": {
        "colab": {
          "base_uri": "https://localhost:8080/",
          "height": 473
        },
        "id": "9bJDaniZYbcC",
        "outputId": "293358e8-2c09-4f34-e620-3bf6c61d8a9a"
      },
      "execution_count": 51,
      "outputs": [
        {
          "output_type": "display_data",
          "data": {
            "text/plain": [
              "<Figure size 640x480 with 1 Axes>"
            ],
            "image/png": "[encoded data removed]"
          },
          "metadata": {}
        }
      ]
    },
    {
      "cell_type": "markdown",
      "source": [
        "#Opening the hood\n",
        "\n",
        "The functions in modsim.py are built on top of several widely-used Python libraries, especially NumPy, SciPy, and Pandas. These libraries are powerful but can be hard to use. The intent of modsim.py is to give you the power of these libraries while making it easy to get started.\n",
        "\n",
        "In the future, you might want to use these libraries directly, rather than using modsim.py. So we will pause occasionally to open the hood and let you see how modsim.py works.\n",
        "\n",
        "You don't need to know anything in these sections, so if you are already feeling overwhelmed, you might want to skip them. But if you are curious, read on."
      ],
      "metadata": {
        "id": "b_uWKM1usUXr"
      }
    },
    {
      "cell_type": "markdown",
      "metadata": {
        "id": "5qQ1O9huWFGi"
      },
      "source": [
        "### Pandas\n",
        "\n",
        "This chapter introduces two objects, `State` and `TimeSeries`.  Both are based on the `Series` object defined by Pandas, which is a library primarily used for data science.\n",
        "\n",
        "You can read the documentation of the `Series` object [here](https://pandas.pydata.org/pandas-docs/stable/generated/pandas.Series.html)\n",
        "\n",
        "The primary differences between `TimeSeries` and `Series` are:\n",
        "\n",
        "1. I made it easier to create a new, empty `Series` while avoiding a [confusing inconsistency](https://pandas.pydata.org/pandas-docs/stable/generated/pandas.Series.html).\n",
        "\n",
        "2. I provide a function so the `Series` looks good when displayed in Jupyter.\n",
        "\n",
        "3. I provide a function called `set` that we'll use later.\n",
        "\n",
        "`State` has all of those capabilities; in addition, it provides an easier way to initialize state variables, and it provides functions called `T` and `dt`, which will help us avoid a confusing error later."
      ]
    },
    {
      "cell_type": "markdown",
      "metadata": {
        "id": "yYt0CDVyWFGi"
      },
      "source": [
        "### Pyplot\n",
        "\n",
        "The `plot` function in `modsim.py` is based on the `plot` function in Pyplot, which is part of Matplotlib.  You can read the documentation of `plot` [here](https://matplotlib.org/api/_as_gen/matplotlib.pyplot.plot.html).\n",
        "\n",
        "`decorate` provides a convenient way to call the `pyplot` functions `title`, `xlabel`, and `ylabel`, and `legend`.  It also avoids an annoying warning message if you try to make a legend when you don't have any labelled lines."
      ]
    },
    {
      "cell_type": "code",
      "execution_count": null,
      "metadata": {
        "colab": {
          "base_uri": "https://localhost:8080/"
        },
        "id": "NUFdwNuxWFGi",
        "outputId": "b93d3136-f1fa-478d-ac9a-147a52094f32"
      },
      "outputs": [
        {
          "output_type": "stream",
          "name": "stdout",
          "text": [
            "Help on function decorate in module modsim.modsim:\n",
            "\n",
            "decorate(**options)\n",
            "    Decorate the current axes.\n",
            "    \n",
            "    Call decorate with keyword arguments like\n",
            "    \n",
            "    decorate(title='Title',\n",
            "             xlabel='x',\n",
            "             ylabel='y')\n",
            "    \n",
            "    The keyword arguments can be any of the axis properties\n",
            "    \n",
            "    https://matplotlib.org/api/axes_api.html\n",
            "    \n",
            "    In addition, you can use `legend=False` to suppress the legend.\n",
            "    \n",
            "    And you can use `loc` to indicate the location of the legend\n",
            "    (the default value is 'best')\n",
            "\n"
          ]
        }
      ],
      "source": [
        "help(decorate)"
      ]
    },
    {
      "cell_type": "markdown",
      "metadata": {
        "id": "LpUXAuqSWFGi"
      },
      "source": [
        "### NumPy\n",
        "\n",
        "The `flip` function in `modsim.py` uses NumPy's `random` function to generate a random number between 0 and 1.\n",
        "\n",
        "You can get the source code for `flip` by running the following cell."
      ]
    },
    {
      "cell_type": "code",
      "execution_count": null,
      "metadata": {
        "colab": {
          "base_uri": "https://localhost:8080/"
        },
        "id": "YoLS1S8IWFGj",
        "outputId": "73626794-5b99-4e59-a515-871205ba81c3"
      },
      "outputs": [
        {
          "output_type": "stream",
          "name": "stdout",
          "text": [
            "def flip(p=0.5):\n",
            "    \"\"\"Flips a coin with the given probability.\n",
            "\n",
            "    p: float 0-1\n",
            "\n",
            "    returns: boolean (True or False)\n",
            "    \"\"\"\n",
            "    return np.random.random() < p\n",
            "\n"
          ]
        }
      ],
      "source": [
        "source_code(flip)"
      ]
    },
    {
      "cell_type": "code",
      "execution_count": null,
      "metadata": {
        "id": "GzzXEYqDWFGj"
      },
      "outputs": [],
      "source": []
    }
  ],
  "metadata": {
    "kernelspec": {
      "display_name": "Python 3",
      "language": "python",
      "name": "python3"
    },
    "language_info": {
      "codemirror_mode": {
        "name": "ipython",
        "version": 3
      },
      "file_extension": ".py",
      "mimetype": "text/x-python",
      "name": "python",
      "nbconvert_exporter": "python",
      "pygments_lexer": "ipython3",
      "version": "3.7.3"
    },
    "colab": {
      "provenance": []
    }
  },
  "nbformat": 4,
  "nbformat_minor": 0
}