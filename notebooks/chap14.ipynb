{
  "cells": [
    {
      "cell_type": "markdown",
      "metadata": {
        "id": "rWfBzXGoRrQt"
      },
      "source": [
        "# Modeling and Simulation in Python\n",
        "\n",
        "Waheeb Algabri\n",
        "\n",
        "Final exam part 2\n",
        "\n",
        "Chapter 14\n",
        "\n",
        "Copyright 2017 Allen Downey\n",
        "\n",
        "License: [Creative Commons Attribution 4.0 International](https://creativecommons.org/licenses/by/4.0)"
      ]
    },
    {
      "cell_type": "code",
      "source": [
        "try:\n",
        "    import pint\n",
        "except ImportError:\n",
        "    !pip install pint\n",
        "    import pint"
      ],
      "metadata": {
        "id": "W-4u35ecRsEP"
      },
      "execution_count": 30,
      "outputs": []
    },
    {
      "cell_type": "code",
      "source": [
        "try:\n",
        "    from modsim import *\n",
        "except ImportError:\n",
        "    !pip install modsimpy\n",
        "    from modsim import *\n"
      ],
      "metadata": {
        "id": "F_mScwnJRxG4"
      },
      "execution_count": 31,
      "outputs": []
    },
    {
      "cell_type": "code",
      "execution_count": 32,
      "metadata": {
        "id": "ktfqgXzBRrQv"
      },
      "outputs": [],
      "source": [
        "# Configure Jupyter so figures appear in the notebook\n",
        "%matplotlib inline\n",
        "\n",
        "# Configure Jupyter to display the assigned value after an assignment\n",
        "%config InteractiveShell.ast_node_interactivity='last_expr_or_assign'\n",
        "\n",
        "# import functions from the modsim.py module\n",
        "from modsim import *"
      ]
    },
    {
      "cell_type": "markdown",
      "metadata": {
        "id": "CQ5N8oq3RrQw"
      },
      "source": [
        "### Code from previous chapters"
      ]
    },
    {
      "cell_type": "code",
      "execution_count": 33,
      "metadata": {
        "id": "_PGZpzhJRrQw"
      },
      "outputs": [],
      "source": [
        "def make_system(beta, gamma):\n",
        "    \"\"\"Make a system object for the SIR model.\n",
        "\n",
        "    beta: contact rate in days\n",
        "    gamma: recovery rate in days\n",
        "\n",
        "    returns: System object\n",
        "    \"\"\"\n",
        "    init = State(S=89, I=1, R=0)\n",
        "    init /= np.sum(init)\n",
        "\n",
        "    t0 = 0\n",
        "    t_end = 7 * 14\n",
        "\n",
        "    return System(init=init, t0=t0, t_end=t_end,\n",
        "                  beta=beta, gamma=gamma)"
      ]
    },
    {
      "cell_type": "code",
      "execution_count": 34,
      "metadata": {
        "id": "UdNsTnwPRrQx"
      },
      "outputs": [],
      "source": [
        "def update_func(state, t, system):\n",
        "    \"\"\"Update the SIR model.\n",
        "\n",
        "    state: State (s, i, r)\n",
        "    t: time\n",
        "    system: System object\n",
        "\n",
        "    returns: State (sir)\n",
        "    \"\"\"\n",
        "    s, i, r = state\n",
        "\n",
        "    infected = system.beta * i * s\n",
        "    recovered = system.gamma * i\n",
        "\n",
        "    s -= infected\n",
        "    i += infected - recovered\n",
        "    r += recovered\n",
        "\n",
        "    return State(S=s, I=i, R=r)"
      ]
    },
    {
      "cell_type": "code",
      "execution_count": 35,
      "metadata": {
        "id": "hIEYoAlhRrQx"
      },
      "outputs": [],
      "source": [
        "def run_simulation(system, update_func):\n",
        "    \"\"\"Runs a simulation of the system.\n",
        "\n",
        "    system: System object\n",
        "    update_func: function that updates state\n",
        "\n",
        "    returns: TimeFrame\n",
        "    \"\"\"\n",
        "    init, t0, t_end = system.init, system.t0, system.t_end\n",
        "\n",
        "    frame = TimeFrame(columns=init.index)\n",
        "    frame.row[t0] = init\n",
        "\n",
        "    for t in linrange(t0, t_end):\n",
        "        frame.row[t+1] = update_func(frame.row[t], t, system)\n",
        "\n",
        "    return frame"
      ]
    },
    {
      "cell_type": "code",
      "execution_count": 36,
      "metadata": {
        "id": "dIQghjyjRrQy"
      },
      "outputs": [],
      "source": [
        "def calc_total_infected(results):\n",
        "    \"\"\"Fraction of population infected during the simulation.\n",
        "\n",
        "    results: DataFrame with columns S, I, R\n",
        "\n",
        "    returns: fraction of population\n",
        "    \"\"\"\n",
        "    return get_first_value(results.S) - get_last_value(results.S)"
      ]
    },
    {
      "cell_type": "code",
      "execution_count": 37,
      "metadata": {
        "id": "emYSvosVRrQy"
      },
      "outputs": [],
      "source": [
        "def sweep_beta(beta_array, gamma):\n",
        "    \"\"\"Sweep a range of values for beta.\n",
        "\n",
        "    beta_array: array of beta values\n",
        "    gamma: recovery rate\n",
        "\n",
        "    returns: SweepSeries that maps from beta to total infected\n",
        "    \"\"\"\n",
        "    sweep = SweepSeries()\n",
        "    for beta in beta_array:\n",
        "        system = make_system(beta, gamma)\n",
        "        results = run_simulation(system, update_func)\n",
        "        sweep[system.beta] = calc_total_infected(results)\n",
        "    return sweep"
      ]
    },
    {
      "cell_type": "code",
      "execution_count": 38,
      "metadata": {
        "id": "lln5lxoARrQz"
      },
      "outputs": [],
      "source": [
        "def sweep_parameters(beta_array, gamma_array):\n",
        "    \"\"\"Sweep a range of values for beta and gamma.\n",
        "\n",
        "    beta_array: array of infection rates\n",
        "    gamma_array: array of recovery rates\n",
        "\n",
        "    returns: SweepFrame with one row for each beta\n",
        "             and one column for each gamma\n",
        "    \"\"\"\n",
        "    frame = SweepFrame(columns=gamma_array)\n",
        "    for gamma in gamma_array:\n",
        "        frame[gamma] = sweep_beta(beta_array, gamma)\n",
        "    return frame"
      ]
    },
    {
      "cell_type": "markdown",
      "metadata": {
        "id": "3LlES90LRrQz"
      },
      "source": [
        "### Contact number"
      ]
    },
    {
      "cell_type": "markdown",
      "metadata": {
        "id": "9b0tKX5cRrQ0"
      },
      "source": [
        "Here's the `SweepFrame` from the previous chapter, with one row for each value of `beta` and one column for each value of `gamma`."
      ]
    },
    {
      "cell_type": "code",
      "execution_count": 39,
      "metadata": {
        "id": "Dtlf6G-cRrQ0",
        "outputId": "ead577b8-5903-43e0-8262-49e8b2de8ddd",
        "colab": {
          "base_uri": "https://localhost:8080/",
          "height": 204
        }
      },
      "outputs": [
        {
          "output_type": "execute_result",
          "data": {
            "text/plain": [
              "          0.2       0.4       0.6       0.8\n",
              "0.1  0.010756  0.003642  0.002191  0.001567\n",
              "0.2  0.118984  0.010763  0.005447  0.003644\n",
              "0.3  0.589095  0.030185  0.010771  0.006526\n",
              "0.4  0.801339  0.131563  0.020917  0.010780\n",
              "0.5  0.896577  0.396409  0.046140  0.017640"
            ],
            "text/html": [
              "\n",
              "  <div id=\"df-8b89b7a3-3ef9-4bde-9052-467317f5f142\">\n",
              "    <div class=\"colab-df-container\">\n",
              "      <div>\n",
              "<style scoped>\n",
              "    .dataframe tbody tr th:only-of-type {\n",
              "        vertical-align: middle;\n",
              "    }\n",
              "\n",
              "    .dataframe tbody tr th {\n",
              "        vertical-align: top;\n",
              "    }\n",
              "\n",
              "    .dataframe thead th {\n",
              "        text-align: right;\n",
              "    }\n",
              "</style>\n",
              "<table border=\"1\" class=\"dataframe\">\n",
              "  <thead>\n",
              "    <tr style=\"text-align: right;\">\n",
              "      <th></th>\n",
              "      <th>0.2</th>\n",
              "      <th>0.4</th>\n",
              "      <th>0.6</th>\n",
              "      <th>0.8</th>\n",
              "    </tr>\n",
              "  </thead>\n",
              "  <tbody>\n",
              "    <tr>\n",
              "      <th>0.1</th>\n",
              "      <td>0.010756</td>\n",
              "      <td>0.003642</td>\n",
              "      <td>0.002191</td>\n",
              "      <td>0.001567</td>\n",
              "    </tr>\n",
              "    <tr>\n",
              "      <th>0.2</th>\n",
              "      <td>0.118984</td>\n",
              "      <td>0.010763</td>\n",
              "      <td>0.005447</td>\n",
              "      <td>0.003644</td>\n",
              "    </tr>\n",
              "    <tr>\n",
              "      <th>0.3</th>\n",
              "      <td>0.589095</td>\n",
              "      <td>0.030185</td>\n",
              "      <td>0.010771</td>\n",
              "      <td>0.006526</td>\n",
              "    </tr>\n",
              "    <tr>\n",
              "      <th>0.4</th>\n",
              "      <td>0.801339</td>\n",
              "      <td>0.131563</td>\n",
              "      <td>0.020917</td>\n",
              "      <td>0.010780</td>\n",
              "    </tr>\n",
              "    <tr>\n",
              "      <th>0.5</th>\n",
              "      <td>0.896577</td>\n",
              "      <td>0.396409</td>\n",
              "      <td>0.046140</td>\n",
              "      <td>0.017640</td>\n",
              "    </tr>\n",
              "  </tbody>\n",
              "</table>\n",
              "</div>\n",
              "      <button class=\"colab-df-convert\" onclick=\"convertToInteractive('df-8b89b7a3-3ef9-4bde-9052-467317f5f142')\"\n",
              "              title=\"Convert this dataframe to an interactive table.\"\n",
              "              style=\"display:none;\">\n",
              "        \n",
              "  <svg xmlns=\"http://www.w3.org/2000/svg\" height=\"24px\"viewBox=\"0 0 24 24\"\n",
              "       width=\"24px\">\n",
              "    <path d=\"M0 0h24v24H0V0z\" fill=\"none\"/>\n",
              "    <path d=\"M18.56 5.44l.94 2.06.94-2.06 2.06-.94-2.06-.94-.94-2.06-.94 2.06-2.06.94zm-11 1L8.5 8.5l.94-2.06 2.06-.94-2.06-.94L8.5 2.5l-.94 2.06-2.06.94zm10 10l.94 2.06.94-2.06 2.06-.94-2.06-.94-.94-2.06-.94 2.06-2.06.94z\"/><path d=\"M17.41 7.96l-1.37-1.37c-.4-.4-.92-.59-1.43-.59-.52 0-1.04.2-1.43.59L10.3 9.45l-7.72 7.72c-.78.78-.78 2.05 0 2.83L4 21.41c.39.39.9.59 1.41.59.51 0 1.02-.2 1.41-.59l7.78-7.78 2.81-2.81c.8-.78.8-2.07 0-2.86zM5.41 20L4 18.59l7.72-7.72 1.47 1.35L5.41 20z\"/>\n",
              "  </svg>\n",
              "      </button>\n",
              "      \n",
              "  <style>\n",
              "    .colab-df-container {\n",
              "      display:flex;\n",
              "      flex-wrap:wrap;\n",
              "      gap: 12px;\n",
              "    }\n",
              "\n",
              "    .colab-df-convert {\n",
              "      background-color: #E8F0FE;\n",
              "      border: none;\n",
              "      border-radius: 50%;\n",
              "      cursor: pointer;\n",
              "      display: none;\n",
              "      fill: #1967D2;\n",
              "      height: 32px;\n",
              "      padding: 0 0 0 0;\n",
              "      width: 32px;\n",
              "    }\n",
              "\n",
              "    .colab-df-convert:hover {\n",
              "      background-color: #E2EBFA;\n",
              "      box-shadow: 0px 1px 2px rgba(60, 64, 67, 0.3), 0px 1px 3px 1px rgba(60, 64, 67, 0.15);\n",
              "      fill: #174EA6;\n",
              "    }\n",
              "\n",
              "    [theme=dark] .colab-df-convert {\n",
              "      background-color: #3B4455;\n",
              "      fill: #D2E3FC;\n",
              "    }\n",
              "\n",
              "    [theme=dark] .colab-df-convert:hover {\n",
              "      background-color: #434B5C;\n",
              "      box-shadow: 0px 1px 3px 1px rgba(0, 0, 0, 0.15);\n",
              "      filter: drop-shadow(0px 1px 2px rgba(0, 0, 0, 0.3));\n",
              "      fill: #FFFFFF;\n",
              "    }\n",
              "  </style>\n",
              "\n",
              "      <script>\n",
              "        const buttonEl =\n",
              "          document.querySelector('#df-8b89b7a3-3ef9-4bde-9052-467317f5f142 button.colab-df-convert');\n",
              "        buttonEl.style.display =\n",
              "          google.colab.kernel.accessAllowed ? 'block' : 'none';\n",
              "\n",
              "        async function convertToInteractive(key) {\n",
              "          const element = document.querySelector('#df-8b89b7a3-3ef9-4bde-9052-467317f5f142');\n",
              "          const dataTable =\n",
              "            await google.colab.kernel.invokeFunction('convertToInteractive',\n",
              "                                                     [key], {});\n",
              "          if (!dataTable) return;\n",
              "\n",
              "          const docLinkHtml = 'Like what you see? Visit the ' +\n",
              "            '<a target=\"_blank\" href=https://colab.research.google.com/notebooks/data_table.ipynb>data table notebook</a>'\n",
              "            + ' to learn more about interactive tables.';\n",
              "          element.innerHTML = '';\n",
              "          dataTable['output_type'] = 'display_data';\n",
              "          await google.colab.output.renderOutput(dataTable, element);\n",
              "          const docLink = document.createElement('div');\n",
              "          docLink.innerHTML = docLinkHtml;\n",
              "          element.appendChild(docLink);\n",
              "        }\n",
              "      </script>\n",
              "    </div>\n",
              "  </div>\n",
              "  "
            ]
          },
          "metadata": {},
          "execution_count": 39
        }
      ],
      "source": [
        "beta_array = [0.1, 0.2, 0.3, 0.4, 0.5, 0.6, 0.7, 0.8, 0.9, 1.0 , 1.1]\n",
        "gamma_array = [0.2, 0.4, 0.6, 0.8]\n",
        "frame = sweep_parameters(beta_array, gamma_array)\n",
        "frame.head()"
      ]
    },
    {
      "cell_type": "markdown",
      "metadata": {
        "id": "swSeJsP8RrQ0"
      },
      "source": []
    },
    {
      "cell_type": "code",
      "execution_count": 40,
      "metadata": {
        "id": "SGdCm3pKRrQ1",
        "outputId": "586ce794-8f01-4c06-fd41-50e79ad293b0",
        "colab": {
          "base_uri": "https://localhost:8080/"
        }
      },
      "outputs": [
        {
          "output_type": "execute_result",
          "data": {
            "text/plain": [
              "(11, 4)"
            ]
          },
          "metadata": {},
          "execution_count": 40
        }
      ],
      "source": [
        "frame.shape"
      ]
    },
    {
      "cell_type": "markdown",
      "metadata": {
        "id": "xDVW7p4ARrQ1"
      },
      "source": [
        "The following loop shows how we can loop through the columns and rows of the `SweepFrame`.  With 11 rows and 4 columns, there are 44 elements."
      ]
    },
    {
      "cell_type": "code",
      "execution_count": 41,
      "metadata": {
        "id": "CH4qscbzRrQ1",
        "outputId": "2cb6bb25-67fa-40e6-f448-e03f14691e46",
        "colab": {
          "base_uri": "https://localhost:8080/"
        }
      },
      "outputs": [
        {
          "output_type": "stream",
          "name": "stdout",
          "text": [
            "0.1 0.2 0.010756340768063644\n",
            "0.2 0.2 0.11898421353185373\n",
            "0.3 0.2 0.5890954199973404\n",
            "0.4 0.2 0.8013385277185551\n",
            "0.5 0.2 0.8965769637207062\n",
            "0.6 0.2 0.942929291399791\n",
            "0.7 0.2 0.966299311298026\n",
            "0.8 0.2 0.9781518959989762\n",
            "0.9 0.2 0.9840568957948106\n",
            "1.0 0.2 0.9868823507202488\n",
            "1.1 0.2 0.988148177093735\n",
            "0.1 0.4 0.0036416926514175607\n",
            "0.2 0.4 0.010763463373360094\n",
            "0.3 0.4 0.030184952469116566\n",
            "0.4 0.4 0.131562924303259\n",
            "0.5 0.4 0.3964094037932606\n",
            "0.6 0.4 0.5979016626615987\n",
            "0.7 0.4 0.7284704154876106\n",
            "0.8 0.4 0.8144604459153759\n",
            "0.9 0.4 0.8722697237137128\n",
            "1.0 0.4 0.9116692168795855\n",
            "1.1 0.4 0.9386802509510287\n",
            "0.1 0.6 0.002190722188881611\n",
            "0.2 0.6 0.005446688837466351\n",
            "0.3 0.6 0.010771139974975585\n",
            "0.4 0.6 0.020916599304195316\n",
            "0.5 0.6 0.04614035896610047\n",
            "0.6 0.6 0.13288938996079536\n",
            "0.7 0.6 0.3118432512847451\n",
            "0.8 0.6 0.47832565854255393\n",
            "0.9 0.6 0.605687582114665\n",
            "1.0 0.6 0.7014254793376209\n",
            "1.1 0.6 0.7738176405451065\n",
            "0.1 0.8 0.0015665254038139675\n",
            "0.2 0.8 0.003643953969662994\n",
            "0.3 0.8 0.006526163529085194\n",
            "0.4 0.8 0.010779807499500693\n",
            "0.5 0.8 0.017639902596349066\n",
            "0.6 0.8 0.030291868201986594\n",
            "0.7 0.8 0.05882382948158804\n",
            "0.8 0.8 0.13358889291095588\n",
            "0.9 0.8 0.2668895539427739\n",
            "1.0 0.8 0.40375121210421994\n",
            "1.1 0.8 0.519583469821867\n"
          ]
        }
      ],
      "source": [
        "for gamma in frame.columns:\n",
        "    column = frame[gamma]\n",
        "    for beta in column.index:\n",
        "        frac_infected = column[beta]\n",
        "        print(beta, gamma, frac_infected)"
      ]
    },
    {
      "cell_type": "markdown",
      "metadata": {
        "id": "kSZ0W0SURrQ2"
      },
      "source": [
        "Now we can wrap that loop in a function and plot the results.  For each element of the `SweepFrame`, we have `beta`, `gamma`, and `frac_infected`, and we plot `beta/gamma` on the x-axis and `frac_infected` on the y-axis."
      ]
    },
    {
      "cell_type": "code",
      "execution_count": 42,
      "metadata": {
        "id": "Wunk_tC9RrQ3"
      },
      "outputs": [],
      "source": [
        "def plot_sweep_frame(frame):\n",
        "    \"\"\"Plot the values from a SweepFrame.\n",
        "\n",
        "    For each (beta, gamma), compute the contact number,\n",
        "    beta/gamma\n",
        "\n",
        "    frame: SweepFrame with one row per beta, one column per gamma\n",
        "    \"\"\"\n",
        "    for gamma in frame.columns:\n",
        "        column = frame[gamma]\n",
        "        for beta in column.index:\n",
        "            frac_infected = column[beta]\n",
        "            plot(beta/gamma, frac_infected, 'ro')"
      ]
    },
    {
      "cell_type": "markdown",
      "metadata": {
        "id": "OtceQF8MRrQ3"
      },
      "source": [
        "Here's what it looks like:"
      ]
    },
    {
      "cell_type": "code",
      "execution_count": 43,
      "metadata": {
        "id": "z_r7JR3VRrQ3",
        "outputId": "0072c935-147d-4b6f-e3c6-ebac90239232",
        "colab": {
          "base_uri": "https://localhost:8080/",
          "height": 473
        }
      },
      "outputs": [
        {
          "output_type": "display_data",
          "data": {
            "text/plain": [
              "<Figure size 640x480 with 1 Axes>"
            ],
            "image/png": "[encoded data removed]"
          },
          "metadata": {}
        }
      ],
      "source": [
        "plot_sweep_frame(frame)\n",
        "\n",
        "decorate(xlabel='Contact number (beta/gamma)',\n",
        "         ylabel='Fraction infected')\n"
      ]
    },
    {
      "cell_type": "markdown",
      "metadata": {
        "id": "9vxEcy9ORrQ4"
      },
      "source": [
        "It turns out that the ratio `beta/gamma`, called the \"contact number\" is sufficient to predict the total number of infections; we don't have to know `beta` and `gamma` separately.\n",
        "\n",
        "We can see that in the previous plot: when we plot the fraction infected versus the contact number, the results fall close to a curve."
      ]
    },
    {
      "cell_type": "markdown",
      "metadata": {
        "id": "r5nNci7PRrQ4"
      },
      "source": [
        "### Analysis"
      ]
    },
    {
      "cell_type": "markdown",
      "metadata": {
        "id": "_0XgqrOHRrQ4"
      },
      "source": [
        "In the book we figured out the relationship between $c$ and $s_{\\infty}$ analytically.  Now we can compute it for a range of values:"
      ]
    },
    {
      "cell_type": "code",
      "execution_count": 44,
      "metadata": {
        "id": "xr_9Es25RrQ5"
      },
      "outputs": [],
      "source": [
        "s_inf_array = linspace(0.0001, 0.9999, 101);"
      ]
    },
    {
      "cell_type": "code",
      "execution_count": 45,
      "metadata": {
        "id": "nMdEQkZ4RrQ5"
      },
      "outputs": [],
      "source": [
        "c_array = log(s_inf_array) / (s_inf_array - 1);"
      ]
    },
    {
      "cell_type": "markdown",
      "metadata": {
        "id": "pmCx69sERrQ5"
      },
      "source": [
        "`total_infected` is the change in $s$ from the beginning to the end."
      ]
    },
    {
      "cell_type": "code",
      "execution_count": 46,
      "metadata": {
        "id": "kGbVtPEARrQ6"
      },
      "outputs": [],
      "source": [
        "frac_infected = 1 - s_inf_array\n",
        "frac_infected_series = Series(frac_infected, index=c_array);"
      ]
    },
    {
      "cell_type": "markdown",
      "metadata": {
        "id": "Ed13KUoIRrQ6"
      },
      "source": [
        "Now we can plot the analytic results and compare them to the simulations."
      ]
    },
    {
      "cell_type": "code",
      "execution_count": 47,
      "metadata": {
        "id": "2uIVVCw8RrQ6",
        "outputId": "153e931f-45f7-470a-feb1-7d862a5d0bf1",
        "colab": {
          "base_uri": "https://localhost:8080/",
          "height": 473
        }
      },
      "outputs": [
        {
          "output_type": "display_data",
          "data": {
            "text/plain": [
              "<Figure size 640x480 with 1 Axes>"
            ],
            "image/png": "[encoded data removed]"
          },
          "metadata": {}
        }
      ],
      "source": [
        "plot_sweep_frame(frame)\n",
        "plot(frac_infected_series, label='Analysis')\n",
        "\n",
        "decorate(xlabel='Contact number (c)',\n",
        "         ylabel='Fraction infected')\n"
      ]
    },
    {
      "cell_type": "markdown",
      "metadata": {
        "id": "nu_9X1aZRrQ7"
      },
      "source": [
        "The agreement is generally good, except for values of `c` less than 1."
      ]
    },
    {
      "cell_type": "markdown",
      "metadata": {
        "id": "G27OWK75RrQ7"
      },
      "source": [
        "## Exercises"
      ]
    },
    {
      "cell_type": "markdown",
      "metadata": {
        "id": "OrIlwrtVRrQ7"
      },
      "source": [
        "**Exercise:**  If we didn't know about contact numbers, we might have explored other possibilities, like the difference between `beta` and `gamma`, rather than their ratio.\n",
        "\n",
        "Write a version of `plot_sweep_frame`, called `plot_sweep_frame_difference`, that plots the fraction infected versus the difference `beta-gamma`.\n",
        "\n",
        "What do the results look like, and what does that imply?"
      ]
    },
    {
      "cell_type": "code",
      "execution_count": 48,
      "metadata": {
        "id": "lYOegmY5RrQ7"
      },
      "outputs": [],
      "source": [
        "# Model with difference between beta and gamma\n",
        "\n",
        "def plot_sweep_frame_difference(frame):\n",
        "    for gamma in frame.columns:\n",
        "        column = frame[gamma]\n",
        "        for beta in column.index:\n",
        "            frac_infected = column[beta]\n",
        "            plot(beta - gamma, frac_infected, 'ro')"
      ]
    },
    {
      "cell_type": "code",
      "source": [
        "plot_sweep_frame_difference(frame)\n",
        "\n",
        "# Add a line at y = 0.4 with a label\n",
        "plt.axhline(y=0.4, color='red', linestyle='--', label='Threshold')\n",
        "\n",
        "# Decorate the plot\n",
        "plt.xlabel('Excess infection rate (infections-recoveries per day)')\n",
        "plt.ylabel('Fraction infected')\n",
        "plt.legend()\n",
        "\n",
        "# Display the plot\n",
        "plt.show()\n"
      ],
      "metadata": {
        "id": "Fv-U4eamTNhQ",
        "outputId": "a08d3cb9-6d63-4deb-d3c3-068104ea7bc3",
        "colab": {
          "base_uri": "https://localhost:8080/",
          "height": 462
        }
      },
      "execution_count": 49,
      "outputs": [
        {
          "output_type": "display_data",
          "data": {
            "text/plain": [
              "<Figure size 640x480 with 1 Axes>"
            ],
            "image/png": "[encoded data removed]"
          },
          "metadata": {}
        }
      ]
    },
    {
      "cell_type": "markdown",
      "source": [
        "The findings do not align precisely on a linear trajectory beyond an infection rate of 0.15. This implies that solely possessing knowledge of the disparity between the transmission rate (beta) and the recovery rate (gamma), without knowing their ratio, is insufficient to forecast the proportion of individuals who will become infected."
      ],
      "metadata": {
        "id": "Wl1EhYpTTtDd"
      }
    },
    {
      "cell_type": "markdown",
      "metadata": {
        "id": "bY4CSW0-RrQ8"
      },
      "source": [
        "**Exercise:** Suppose you run a survey at the end of the semester and find that 26% of students had the Freshman Plague at some point.\n",
        "\n",
        "What is your best estimate of `c`?\n",
        "\n",
        "Hint: if you print `frac_infected_series`, you can read off the answer."
      ]
    },
    {
      "cell_type": "code",
      "execution_count": 50,
      "metadata": {
        "scrolled": true,
        "id": "pfnAJ989RrQ9",
        "outputId": "ebc3efed-536a-430e-c56b-7ee7d740a119",
        "colab": {
          "base_uri": "https://localhost:8080/"
        }
      },
      "outputs": [
        {
          "output_type": "execute_result",
          "data": {
            "text/plain": [
              "1.188948    0.300040\n",
              "1.181034    0.290042\n",
              "1.173263    0.280044\n",
              "1.165630    0.270046\n",
              "1.158132    0.260048\n",
              "1.150765    0.250050\n",
              "1.143524    0.240052\n",
              "1.136407    0.230054\n",
              "1.129409    0.220056\n",
              "1.122527    0.210058\n",
              "dtype: float64"
            ]
          },
          "metadata": {},
          "execution_count": 50
        }
      ],
      "source": [
        "frac_infected_series.iloc[70:80]"
      ]
    },
    {
      "cell_type": "code",
      "source": [
        "import matplotlib.pyplot as plt\n",
        "\n",
        "# Extract the relevant data\n",
        "frac_infected_series_sub = frac_infected_series.iloc[70:80]\n",
        "contact_number = frac_infected_series_sub.index.values\n",
        "\n",
        "# Create the plot\n",
        "plt.plot(contact_number, frac_infected_series_sub, marker='o')\n",
        "\n",
        "# Add labels and title\n",
        "plt.xlabel('Contact Number')\n",
        "plt.ylabel('Fraction Infected')\n",
        "plt.title('Relationship between Contact Number and Fraction Infected')\n",
        "\n",
        "# Display the plot\n",
        "plt.show()\n"
      ],
      "metadata": {
        "id": "THlpr5SxUnnl",
        "outputId": "c748c37a-0729-4280-dbf5-9f739a5f9e16",
        "colab": {
          "base_uri": "https://localhost:8080/",
          "height": 485
        }
      },
      "execution_count": 51,
      "outputs": [
        {
          "output_type": "display_data",
          "data": {
            "text/plain": [
              "<Figure size 640x480 with 1 Axes>"
            ],
            "image/png": "[encoded data removed]"
          },
          "metadata": {}
        }
      ]
    },
    {
      "cell_type": "markdown",
      "source": [
        "when examining the frac_infected_series data, it can be observed that the fraction of students infected with the Freshman Plague reaches approximately 0.26 when the contact number is around 1.1581."
      ],
      "metadata": {
        "id": "a2p-5G5HUVP2"
      }
    }
  ],
  "metadata": {
    "kernelspec": {
      "display_name": "Python 3",
      "language": "python",
      "name": "python3"
    },
    "language_info": {
      "codemirror_mode": {
        "name": "ipython",
        "version": 3
      },
      "file_extension": ".py",
      "mimetype": "text/x-python",
      "name": "python",
      "nbconvert_exporter": "python",
      "pygments_lexer": "ipython3",
      "version": "3.7.3"
    },
    "colab": {
      "provenance": []
    }
  },
  "nbformat": 4,
  "nbformat_minor": 0
}