{
  "cells": [
    {
      "cell_type": "markdown",
      "metadata": {
        "id": "ch-scDi-otkP"
      },
      "source": [
        "# Modeling and Simulation in Python\n",
        "\n",
        "Waheeb Algabri\n",
        "\n",
        "Chapter 10\n",
        "\n",
        "Copyright 2017 Allen Downey\n",
        "\n",
        "License: [Creative Commons Attribution 4.0 International](https://creativecommons.org/licenses/by/4.0)\n"
      ]
    },
    {
      "cell_type": "code",
      "source": [
        "try:\n",
        "    import pint\n",
        "except ImportError:\n",
        "    !pip install pint\n",
        "    import pint"
      ],
      "metadata": {
        "id": "Wt_MYuM3oz4f"
      },
      "execution_count": 86,
      "outputs": []
    },
    {
      "cell_type": "code",
      "source": [
        "try:\n",
        "    from modsim import *\n",
        "except ImportError:\n",
        "    !pip install modsimpy\n",
        "    from modsim import *"
      ],
      "metadata": {
        "id": "Du5R4HIvo5E8"
      },
      "execution_count": 87,
      "outputs": []
    },
    {
      "cell_type": "code",
      "execution_count": 88,
      "metadata": {
        "id": "LYQS9urCotkQ"
      },
      "outputs": [],
      "source": [
        "# Configure Jupyter so figures appear in the notebook\n",
        "%matplotlib inline\n",
        "\n",
        "# Configure Jupyter to display the assigned value after an assignment\n",
        "%config InteractiveShell.ast_node_interactivity='last_expr_or_assign'\n",
        "\n",
        "# import functions from the modsim.py module\n",
        "from modsim import *\n",
        "\n",
        "from pandas import read_html"
      ]
    },
    {
      "cell_type": "markdown",
      "metadata": {
        "id": "WJYUQZfRotkS"
      },
      "source": [
        "### Under the hood\n",
        "\n",
        "To get a `DataFrame` and a `Series`, I'll read the world population data and select a column.\n",
        "\n",
        "`DataFrame` and `Series` contain a variable called `shape` that indicates the number of rows and columns."
      ]
    },
    {
      "cell_type": "code",
      "execution_count": 89,
      "metadata": {
        "id": "-x7TtUPQotkS",
        "outputId": "8974939c-9287-4c08-e34b-4b541b869213",
        "colab": {
          "base_uri": "https://localhost:8080/"
        }
      },
      "outputs": [
        {
          "output_type": "execute_result",
          "data": {
            "text/plain": [
              "(67, 11)"
            ]
          },
          "metadata": {},
          "execution_count": 89
        }
      ],
      "source": [
        "filename = 'https://en.wikipedia.org/wiki/Estimates_of_historical_world_population'\n",
        "tables = read_html(filename, header=0, index_col=0, decimal='M')\n",
        "table2 = tables[2]\n",
        "table2.columns = ['census', 'prb', 'un', 'maddison',\n",
        "                  'hyde', 'tanton', 'biraben', 'mj',\n",
        "                  'thomlinson', 'durand', 'clark']\n",
        "table2.shape"
      ]
    },
    {
      "cell_type": "code",
      "execution_count": 90,
      "metadata": {
        "id": "_8jYih03otkT",
        "outputId": "aca73d05-e03c-462d-d0ad-998a81a85029",
        "colab": {
          "base_uri": "https://localhost:8080/"
        }
      },
      "outputs": [
        {
          "output_type": "execute_result",
          "data": {
            "text/plain": [
              "(67,)"
            ]
          },
          "metadata": {},
          "execution_count": 90
        }
      ],
      "source": [
        "census = table2.census / 1e9\n",
        "census.shape"
      ]
    },
    {
      "cell_type": "code",
      "execution_count": 91,
      "metadata": {
        "id": "yeHOa5r1otkT",
        "outputId": "13acb2e0-f745-416a-9341-3e8795a36e0f",
        "colab": {
          "base_uri": "https://localhost:8080/"
        }
      },
      "outputs": [
        {
          "output_type": "execute_result",
          "data": {
            "text/plain": [
              "(67,)"
            ]
          },
          "metadata": {},
          "execution_count": 91
        }
      ],
      "source": [
        "un = table2.un / 1e9\n",
        "un.shape"
      ]
    },
    {
      "cell_type": "markdown",
      "metadata": {
        "id": "RVkUir5motkU"
      },
      "source": [
        "A `DataFrame` contains `index`, which labels the rows.  It is an `Int64Index`, which is similar to a NumPy array."
      ]
    },
    {
      "cell_type": "code",
      "execution_count": 92,
      "metadata": {
        "scrolled": true,
        "id": "zzTtxOJgotkU",
        "outputId": "d659d9e8-286e-4464-9faa-00795e81a8a4",
        "colab": {
          "base_uri": "https://localhost:8080/"
        }
      },
      "outputs": [
        {
          "output_type": "execute_result",
          "data": {
            "text/plain": [
              "Int64Index([1950, 1951, 1952, 1953, 1954, 1955, 1956, 1957, 1958, 1959, 1960,\n",
              "            1961, 1962, 1963, 1964, 1965, 1966, 1967, 1968, 1969, 1970, 1971,\n",
              "            1972, 1973, 1974, 1975, 1976, 1977, 1978, 1979, 1980, 1981, 1982,\n",
              "            1983, 1984, 1985, 1986, 1987, 1988, 1989, 1990, 1991, 1992, 1993,\n",
              "            1994, 1995, 1996, 1997, 1998, 1999, 2000, 2001, 2002, 2003, 2004,\n",
              "            2005, 2006, 2007, 2008, 2009, 2010, 2011, 2012, 2013, 2014, 2015,\n",
              "            2016],\n",
              "           dtype='int64', name='Year')"
            ]
          },
          "metadata": {},
          "execution_count": 92
        }
      ],
      "source": [
        "table2.index"
      ]
    },
    {
      "cell_type": "markdown",
      "metadata": {
        "id": "aSrl_w0-otkV"
      },
      "source": [
        "And `columns`, which labels the columns."
      ]
    },
    {
      "cell_type": "code",
      "execution_count": 93,
      "metadata": {
        "scrolled": true,
        "id": "Jy4gcba5otkV",
        "outputId": "793733ee-7d21-4e8d-b62c-fd80f54f7a8f",
        "colab": {
          "base_uri": "https://localhost:8080/"
        }
      },
      "outputs": [
        {
          "output_type": "execute_result",
          "data": {
            "text/plain": [
              "Index(['census', 'prb', 'un', 'maddison', 'hyde', 'tanton', 'biraben', 'mj',\n",
              "       'thomlinson', 'durand', 'clark'],\n",
              "      dtype='object')"
            ]
          },
          "metadata": {},
          "execution_count": 93
        }
      ],
      "source": [
        "table2.columns"
      ]
    },
    {
      "cell_type": "markdown",
      "metadata": {
        "id": "N0xP8tipotkV"
      },
      "source": [
        "And `values`, which is an array of values."
      ]
    },
    {
      "cell_type": "code",
      "execution_count": 94,
      "metadata": {
        "scrolled": false,
        "id": "E9WyKk_wotkW",
        "outputId": "abe6e935-6445-40c6-d8ae-b928519870bf",
        "colab": {
          "base_uri": "https://localhost:8080/"
        }
      },
      "outputs": [
        {
          "output_type": "execute_result",
          "data": {
            "text/plain": [
              "array([[2557628654, 2516000000.0, 2525149000.0, 2544000000.0,\n",
              "        2527960000.0, 2400000000.0, 2527000000.0, 2500000000.0,\n",
              "        2400000000.0, nan, 2486000000.0],\n",
              "       [2594939877, nan, 2572850917.0, 2571663000.0, nan, nan, nan, nan,\n",
              "        nan, nan, nan],\n",
              "       [2636772306, nan, 2619292068.0, 2617949000.0, nan, nan, nan, nan,\n",
              "        nan, nan, nan],\n",
              "       [2682053389, nan, 2665865392.0, 2665959000.0, nan, nan, nan, nan,\n",
              "        nan, nan, nan],\n",
              "       [2730228104, nan, 2713172027.0, 2716927000.0, nan, nan, nan, nan,\n",
              "        nan, nan, nan],\n",
              "       [2782098943, nan, 2761650981.0, 2769074000.0, nan, nan, nan, nan,\n",
              "        nan, nan, nan],\n",
              "       [2835299673, nan, 2811572031.0, 2822502000.0, nan, nan, nan, nan,\n",
              "        nan, nan, nan],\n",
              "       [2891349717, nan, 2863042795.0, 2879934000.0, nan, nan, nan, nan,\n",
              "        nan, nan, nan],\n",
              "       [2948137248, nan, 2916030167.0, 2939254000.0, nan, nan, nan, nan,\n",
              "        nan, nan, nan],\n",
              "       [3000716593, nan, 2970395814.0, 2995909000.0, nan, nan, nan, nan,\n",
              "        nan, nan, nan],\n",
              "       [3043001508, nan, 3026002942.0, 3041507000.0, 3042000000.0, nan,\n",
              "        nan, nan, nan, nan, nan],\n",
              "       [3083966929, nan, 3082830266.0, 3082161000.0, nan, nan, nan, nan,\n",
              "        nan, nan, nan],\n",
              "       [3140093217, nan, 3141071531.0, 3135787000.0, nan, nan, nan, nan,\n",
              "        nan, nan, 3036000000.0],\n",
              "       [3209827882, nan, 3201178277.0, 3201354000.0, nan, nan, nan, nan,\n",
              "        nan, nan, nan],\n",
              "       [3281201306, nan, 3263738832.0, 3266477000.0, nan, nan, nan, nan,\n",
              "        nan, nan, nan],\n",
              "       [3350425793, nan, 3329122479.0, 3333138000.0, nan, nan, nan, nan,\n",
              "        nan, nan, nan],\n",
              "       [3420677923, nan, 3397475247.0, 3402224000.0, nan, nan, nan, nan,\n",
              "        nan, nan, 3288000000.0],\n",
              "       [3490333715, nan, 3468521724.0, 3471464000.0, nan, nan, nan, nan,\n",
              "        nan, nan, nan],\n",
              "       [3562313822, nan, 3541674891.0, 3543086000.0, nan, nan, nan, nan,\n",
              "        nan, nan, nan],\n",
              "       [3637159050, nan, 3616108749.0, 3615743000.0, nan, nan, nan, nan,\n",
              "        nan, nan, nan],\n",
              "       [3712697742, nan, 3691172616.0, 3691157000.0, 3710000000.0, nan,\n",
              "        3637000000.0, nan, 3600000000.0, '3,600,000,000– 3,700,000,000',\n",
              "        3632000000.0],\n",
              "       [3790326948, nan, 3766754345.0, 3769818000.0, nan, nan, nan, nan,\n",
              "        nan, nan, nan],\n",
              "       [3866568653, nan, 3842873611.0, 3846499000.0, nan, nan, nan, nan,\n",
              "        nan, nan, nan],\n",
              "       [3942096442, nan, 3919182332.0, 3922793000.0, 3923000000.0, nan,\n",
              "        nan, nan, nan, nan, 3860000000.0],\n",
              "       [4016608813, nan, 3995304922.0, 3997677000.0, nan, nan, nan, nan,\n",
              "        nan, nan, nan],\n",
              "       [4089083233, nan, 4071020434.0, 4070671000.0, nan, nan, nan,\n",
              "        3900000000.0, 4000000000.0, nan, nan],\n",
              "       [4160185010, nan, 4146135850.0, 4141445000.0, nan, nan, nan, nan,\n",
              "        nan, nan, nan],\n",
              "       [4232084578, nan, 4220816737.0, 4213539000.0, nan, nan, nan, nan,\n",
              "        nan, nan, nan],\n",
              "       [4304105753, nan, 4295664825.0, 4286317000.0, nan, nan, nan, nan,\n",
              "        nan, nan, nan],\n",
              "       [4379013942, nan, 4371527871.0, 4363144000.0, nan, nan, nan, nan,\n",
              "        nan, nan, nan],\n",
              "       [4451362735, nan, 4449048798.0, 4439529000.0, 4461000000.0, nan,\n",
              "        nan, nan, nan, nan, nan],\n",
              "       [4534410125, nan, 4528234634.0, 4514838000.0, nan, nan, nan, nan,\n",
              "        nan, nan, nan],\n",
              "       [4614566561, nan, 4608962418.0, 4587307000.0, nan, nan, nan, nan,\n",
              "        nan, nan, nan],\n",
              "       [4695736743, nan, 4691559840.0, 4676388000.0, nan, nan, nan, nan,\n",
              "        nan, nan, nan],\n",
              "       [4774569391, nan, 4776392828.0, 4756521000.0, nan, nan, nan, nan,\n",
              "        nan, nan, nan],\n",
              "       [4856462699, nan, 4863601517.0, 4837719000.0, nan, 5000000000.0,\n",
              "        nan, nan, nan, nan, nan],\n",
              "       [4940571232, nan, 4953376710.0, 4920968000.0, nan, nan, nan, nan,\n",
              "        nan, nan, nan],\n",
              "       [5027200492, nan, 5045315871.0, 5006672000.0, nan, nan, nan, nan,\n",
              "        nan, nan, nan],\n",
              "       [5114557167, nan, 5138214688.0, 5093306000.0, nan, nan, nan, nan,\n",
              "        nan, nan, nan],\n",
              "       [5201440110, nan, 5230000000.0, 5180540000.0, nan, nan, nan, nan,\n",
              "        nan, nan, nan],\n",
              "       [5288955934, nan, 5320816667.0, 5269029000.0, 5308000000.0, nan,\n",
              "        nan, nan, nan, nan, nan],\n",
              "       [5371585922, nan, 5408908724.0, 5351922000.0, nan, nan, nan, nan,\n",
              "        nan, nan, nan],\n",
              "       [5456136278, nan, 5494899570.0, 5435722000.0, nan, nan, nan, nan,\n",
              "        nan, nan, nan],\n",
              "       [5538268316, nan, 5578865109.0, 5518127000.0, nan, nan, nan, nan,\n",
              "        nan, nan, nan],\n",
              "       [5618682132, nan, 5661086346.0, 5599396000.0, nan, nan, nan, nan,\n",
              "        nan, nan, nan],\n",
              "       [5699202985, 5760000000.0, 5741822412.0, 5681575000.0, nan, nan,\n",
              "        nan, nan, nan, nan, nan],\n",
              "       [5779440593, nan, 5821016750.0, 5762212000.0, nan, nan, nan, nan,\n",
              "        nan, nan, nan],\n",
              "       [5857972543, 5840000000.0, 5898688337.0, 5842122000.0, nan, nan,\n",
              "        nan, nan, nan, nan, nan],\n",
              "       [5935213248, nan, 5975303657.0, 5921366000.0, nan, nan, nan, nan,\n",
              "        nan, nan, nan],\n",
              "       [6012074922, nan, 6051478010.0, 5999622000.0, nan, nan, nan, nan,\n",
              "        nan, nan, nan],\n",
              "       [6088571383, 6067000000.0, 6127700428.0, 6076558000.0,\n",
              "        6145000000.0, nan, nan, 5750000000.0, nan, nan, nan],\n",
              "       [6165219247, 6137000000.0, 6204147026.0, 6154791000.0, nan, nan,\n",
              "        nan, nan, nan, nan, nan],\n",
              "       [6242016348, 6215000000.0, 6280853817.0, 6231704000.0, nan, nan,\n",
              "        nan, nan, nan, nan, nan],\n",
              "       [6318590956, 6314000000.0, 6357991749.0, 6308364000.0, nan, nan,\n",
              "        nan, nan, nan, nan, nan],\n",
              "       [6395699509, 6396000000.0, 6435705595.0, 6374056000.0, nan, nan,\n",
              "        nan, nan, nan, nan, nan],\n",
              "       [6473044732, 6477000000.0, 6514094605.0, 6462987000.0, nan, nan,\n",
              "        nan, nan, nan, nan, nan],\n",
              "       [6551263534, 6555000000.0, 6593227977.0, 6540214000.0, nan, nan,\n",
              "        nan, nan, nan, nan, nan],\n",
              "       [6629913759, 6625000000.0, 6673105937.0, 6616689000.0, nan, nan,\n",
              "        nan, nan, nan, nan, nan],\n",
              "       [6709049780, 6705000000.0, 6753649228.0, 6694832000.0, nan, nan,\n",
              "        nan, nan, nan, nan, nan],\n",
              "       [6788214394, 6809972000.0, 6834721933.0, 6764086000.0, nan, nan,\n",
              "        nan, nan, nan, nan, nan],\n",
              "       [6858584755, 6892319000.0, 6916183482.0, nan, nan, nan, nan, nan,\n",
              "        nan, nan, nan],\n",
              "       [6935999491, 6986951000.0, 6997998760.0, nan, nan, nan, nan, nan,\n",
              "        nan, nan, nan],\n",
              "       [7013871313, 7057075000.0, 7080072417.0, nan, nan, nan, nan, nan,\n",
              "        nan, nan, nan],\n",
              "       [7092128094, 7136796000.0, 7162119434.0, nan, nan, nan, nan, nan,\n",
              "        nan, nan, nan],\n",
              "       [7169968185, 7238184000.0, 7243784000.0, nan, nan, nan, nan, nan,\n",
              "        nan, nan, nan],\n",
              "       [7247892788, 7336435000.0, 7349472000.0, nan, nan, nan, nan, nan,\n",
              "        nan, nan, nan],\n",
              "       [7325996709, 7418151841.0, nan, nan, nan, nan, nan, nan, nan, nan,\n",
              "        nan]], dtype=object)"
            ]
          },
          "metadata": {},
          "execution_count": 94
        }
      ],
      "source": [
        "table2.values"
      ]
    },
    {
      "cell_type": "markdown",
      "metadata": {
        "id": "yKKyRfsKotkW"
      },
      "source": [
        "A `Series` does not have `columns`, but it does have `name`."
      ]
    },
    {
      "cell_type": "code",
      "execution_count": 95,
      "metadata": {
        "scrolled": true,
        "id": "eli4C4bBotkW",
        "outputId": "6c9c035e-5e0f-4a5e-c1f1-70777b65a663",
        "colab": {
          "base_uri": "https://localhost:8080/",
          "height": 35
        }
      },
      "outputs": [
        {
          "output_type": "execute_result",
          "data": {
            "text/plain": [
              "'census'"
            ],
            "application/vnd.google.colaboratory.intrinsic+json": {
              "type": "string"
            }
          },
          "metadata": {},
          "execution_count": 95
        }
      ],
      "source": [
        "census.name"
      ]
    },
    {
      "cell_type": "markdown",
      "metadata": {
        "id": "Iug5ellKotkX"
      },
      "source": [
        "It contains `values`, which is an array."
      ]
    },
    {
      "cell_type": "code",
      "execution_count": 96,
      "metadata": {
        "id": "UHA86d22otkX",
        "outputId": "11081e30-7a00-48c8-8f82-9c71f061eaef",
        "colab": {
          "base_uri": "https://localhost:8080/"
        }
      },
      "outputs": [
        {
          "output_type": "execute_result",
          "data": {
            "text/plain": [
              "array([2.55762865, 2.59493988, 2.63677231, 2.68205339, 2.7302281 ,\n",
              "       2.78209894, 2.83529967, 2.89134972, 2.94813725, 3.00071659,\n",
              "       3.04300151, 3.08396693, 3.14009322, 3.20982788, 3.28120131,\n",
              "       3.35042579, 3.42067792, 3.49033371, 3.56231382, 3.63715905,\n",
              "       3.71269774, 3.79032695, 3.86656865, 3.94209644, 4.01660881,\n",
              "       4.08908323, 4.16018501, 4.23208458, 4.30410575, 4.37901394,\n",
              "       4.45136274, 4.53441012, 4.61456656, 4.69573674, 4.77456939,\n",
              "       4.8564627 , 4.94057123, 5.02720049, 5.11455717, 5.20144011,\n",
              "       5.28895593, 5.37158592, 5.45613628, 5.53826832, 5.61868213,\n",
              "       5.69920299, 5.77944059, 5.85797254, 5.93521325, 6.01207492,\n",
              "       6.08857138, 6.16521925, 6.24201635, 6.31859096, 6.39569951,\n",
              "       6.47304473, 6.55126353, 6.62991376, 6.70904978, 6.78821439,\n",
              "       6.85858475, 6.93599949, 7.01387131, 7.09212809, 7.16996819,\n",
              "       7.24789279, 7.32599671])"
            ]
          },
          "metadata": {},
          "execution_count": 96
        }
      ],
      "source": [
        "census.values"
      ]
    },
    {
      "cell_type": "markdown",
      "metadata": {
        "id": "xHjySIfFotkY"
      },
      "source": [
        "And it contains `index`:"
      ]
    },
    {
      "cell_type": "code",
      "execution_count": 97,
      "metadata": {
        "id": "eTTIjiWhotkY",
        "outputId": "af5eb68e-1da5-4b83-b43c-7acf6523faa2",
        "colab": {
          "base_uri": "https://localhost:8080/"
        }
      },
      "outputs": [
        {
          "output_type": "execute_result",
          "data": {
            "text/plain": [
              "Int64Index([1950, 1951, 1952, 1953, 1954, 1955, 1956, 1957, 1958, 1959, 1960,\n",
              "            1961, 1962, 1963, 1964, 1965, 1966, 1967, 1968, 1969, 1970, 1971,\n",
              "            1972, 1973, 1974, 1975, 1976, 1977, 1978, 1979, 1980, 1981, 1982,\n",
              "            1983, 1984, 1985, 1986, 1987, 1988, 1989, 1990, 1991, 1992, 1993,\n",
              "            1994, 1995, 1996, 1997, 1998, 1999, 2000, 2001, 2002, 2003, 2004,\n",
              "            2005, 2006, 2007, 2008, 2009, 2010, 2011, 2012, 2013, 2014, 2015,\n",
              "            2016],\n",
              "           dtype='int64', name='Year')"
            ]
          },
          "metadata": {},
          "execution_count": 97
        }
      ],
      "source": [
        "census.index"
      ]
    },
    {
      "cell_type": "markdown",
      "metadata": {
        "id": "ReOWU7XBotkZ"
      },
      "source": [
        "If you ever wonder what kind of object a variable refers to, you can use the `type` function.  The result indicates what type the object is, and the module where that type is defined.\n",
        "\n",
        "`DataFrame`, `Int64Index`, `Index`, and `Series` are defined by Pandas.\n",
        "\n",
        "`ndarray` is defined by NumPy."
      ]
    },
    {
      "cell_type": "code",
      "execution_count": 98,
      "metadata": {
        "id": "H-9K7mXMotkZ",
        "outputId": "631d8456-39d3-48c6-8b76-ec370606685f",
        "colab": {
          "base_uri": "https://localhost:8080/"
        }
      },
      "outputs": [
        {
          "output_type": "execute_result",
          "data": {
            "text/plain": [
              "pandas.core.frame.DataFrame"
            ]
          },
          "metadata": {},
          "execution_count": 98
        }
      ],
      "source": [
        "type(table2)"
      ]
    },
    {
      "cell_type": "code",
      "execution_count": 99,
      "metadata": {
        "id": "2lIvD-kVotka",
        "outputId": "d3b2e15d-9c80-448c-d1be-235b50bad83c",
        "colab": {
          "base_uri": "https://localhost:8080/"
        }
      },
      "outputs": [
        {
          "output_type": "execute_result",
          "data": {
            "text/plain": [
              "pandas.core.indexes.numeric.Int64Index"
            ]
          },
          "metadata": {},
          "execution_count": 99
        }
      ],
      "source": [
        "type(table2.index)"
      ]
    },
    {
      "cell_type": "code",
      "execution_count": 100,
      "metadata": {
        "id": "Etg4xvv5otka",
        "outputId": "3f547778-d59d-46c4-e6e2-961af1e9125d",
        "colab": {
          "base_uri": "https://localhost:8080/"
        }
      },
      "outputs": [
        {
          "output_type": "execute_result",
          "data": {
            "text/plain": [
              "pandas.core.indexes.base.Index"
            ]
          },
          "metadata": {},
          "execution_count": 100
        }
      ],
      "source": [
        "type(table2.columns)"
      ]
    },
    {
      "cell_type": "code",
      "execution_count": 101,
      "metadata": {
        "id": "643_I3Ouotkb",
        "outputId": "a61120c1-81be-465f-c589-80df9f13b5aa",
        "colab": {
          "base_uri": "https://localhost:8080/"
        }
      },
      "outputs": [
        {
          "output_type": "execute_result",
          "data": {
            "text/plain": [
              "numpy.ndarray"
            ]
          },
          "metadata": {},
          "execution_count": 101
        }
      ],
      "source": [
        "type(table2.values)"
      ]
    },
    {
      "cell_type": "code",
      "execution_count": 102,
      "metadata": {
        "id": "ZgDAng0dotkb",
        "outputId": "948c24c6-6eed-40c1-cc8a-0a706179f244",
        "colab": {
          "base_uri": "https://localhost:8080/"
        }
      },
      "outputs": [
        {
          "output_type": "execute_result",
          "data": {
            "text/plain": [
              "pandas.core.series.Series"
            ]
          },
          "metadata": {},
          "execution_count": 102
        }
      ],
      "source": [
        "type(census)"
      ]
    },
    {
      "cell_type": "code",
      "execution_count": 103,
      "metadata": {
        "id": "qEsOLhpIotkc",
        "outputId": "f861b672-b5d0-476a-d12a-93188c0930e5",
        "colab": {
          "base_uri": "https://localhost:8080/"
        }
      },
      "outputs": [
        {
          "output_type": "execute_result",
          "data": {
            "text/plain": [
              "pandas.core.indexes.numeric.Int64Index"
            ]
          },
          "metadata": {},
          "execution_count": 103
        }
      ],
      "source": [
        "type(census.index)"
      ]
    },
    {
      "cell_type": "code",
      "execution_count": 104,
      "metadata": {
        "scrolled": true,
        "id": "oOGWYSEwotkc",
        "outputId": "6018d5bf-23fa-41f0-9878-c51668499302",
        "colab": {
          "base_uri": "https://localhost:8080/"
        }
      },
      "outputs": [
        {
          "output_type": "execute_result",
          "data": {
            "text/plain": [
              "numpy.ndarray"
            ]
          },
          "metadata": {},
          "execution_count": 104
        }
      ],
      "source": [
        "type(census.values)"
      ]
    },
    {
      "cell_type": "markdown",
      "metadata": {
        "id": "aLwRN6J4otkd"
      },
      "source": [
        "## Optional exercise\n",
        "\n",
        "The following exercise provides a chance to practice what you have learned so far, and maybe develop a different growth model.  If you feel comfortable with what we have done so far, you might want to give it a try.\n",
        "\n",
        "**Optional Exercise:** On the Wikipedia page about world population estimates, the first table contains estimates for prehistoric populations.  The following cells process this table and plot some of the results."
      ]
    },
    {
      "cell_type": "code",
      "execution_count": 105,
      "metadata": {
        "id": "att_Epwfotkd",
        "outputId": "52cbd3b4-fd5f-492f-fbdc-4400020bc06e",
        "colab": {
          "base_uri": "https://localhost:8080/"
        }
      },
      "outputs": [
        {
          "output_type": "execute_result",
          "data": {
            "text/plain": [
              "6"
            ]
          },
          "metadata": {},
          "execution_count": 105
        }
      ],
      "source": [
        "filename = 'https://en.wikipedia.org/wiki/Estimates_of_historical_world_population'\n",
        "tables = read_html(filename, header=0, index_col=0, decimal='M')\n",
        "len(tables)"
      ]
    },
    {
      "cell_type": "markdown",
      "metadata": {
        "id": "UooiKg7Uotkd"
      },
      "source": [
        "Select `tables[1]`, which is the second table on the page."
      ]
    },
    {
      "cell_type": "code",
      "execution_count": 106,
      "metadata": {
        "id": "7Kz94N2Fotke",
        "outputId": "0534c0d1-9d50-4c26-a80f-76640da05ca7",
        "colab": {
          "base_uri": "https://localhost:8080/",
          "height": 313
        }
      },
      "outputs": [
        {
          "output_type": "execute_result",
          "data": {
            "text/plain": [
              "       PRB (1973–2016)[15]  UN (2015)[16] Maddison (2008)[17] HYDE (2010)[18]  \\\n",
              "Year                                                                            \n",
              "−10000                 NaN            NaN                 NaN          2M[25]   \n",
              "−9000                  NaN            NaN                 NaN              4.   \n",
              "−8000                   5.            NaN                 NaN              5.   \n",
              "−7000                   7.            NaN                 NaN              8.   \n",
              "−6000                  14.            NaN                 NaN             11.   \n",
              "\n",
              "        Tanton (1994)[19]  Biraben (1980)[20]  McEvedy & Jones (1978)[21]  \\\n",
              "Year                                                                        \n",
              "−10000                NaN                 NaN                         4.0   \n",
              "−9000                 NaN                 NaN                         NaN   \n",
              "−8000                 NaN                 NaN                         NaN   \n",
              "−7000                 NaN                 NaN                         NaN   \n",
              "−6000                 NaN                 NaN                         NaN   \n",
              "\n",
              "       Thomlinson (1975)[22] Durand (1974)[23] Clark (1967)[24]  Gapminder  \n",
              "Year                                                                        \n",
              "−10000                 1–10M               NaN              NaN        4.0  \n",
              "−9000                    NaN               NaN              NaN        NaN  \n",
              "−8000                    NaN             5–10M              NaN        NaN  \n",
              "−7000                    NaN               NaN              NaN        NaN  \n",
              "−6000                    NaN               NaN              NaN        NaN  "
            ],
            "text/html": [
              "\n",
              "  <div id=\"df-b74f0d9f-556f-488b-9e63-bff60e17734b\">\n",
              "    <div class=\"colab-df-container\">\n",
              "      <div>\n",
              "<style scoped>\n",
              "    .dataframe tbody tr th:only-of-type {\n",
              "        vertical-align: middle;\n",
              "    }\n",
              "\n",
              "    .dataframe tbody tr th {\n",
              "        vertical-align: top;\n",
              "    }\n",
              "\n",
              "    .dataframe thead th {\n",
              "        text-align: right;\n",
              "    }\n",
              "</style>\n",
              "<table border=\"1\" class=\"dataframe\">\n",
              "  <thead>\n",
              "    <tr style=\"text-align: right;\">\n",
              "      <th></th>\n",
              "      <th>PRB (1973–2016)[15]</th>\n",
              "      <th>UN (2015)[16]</th>\n",
              "      <th>Maddison (2008)[17]</th>\n",
              "      <th>HYDE (2010)[18]</th>\n",
              "      <th>Tanton (1994)[19]</th>\n",
              "      <th>Biraben (1980)[20]</th>\n",
              "      <th>McEvedy &amp; Jones (1978)[21]</th>\n",
              "      <th>Thomlinson (1975)[22]</th>\n",
              "      <th>Durand (1974)[23]</th>\n",
              "      <th>Clark (1967)[24]</th>\n",
              "      <th>Gapminder</th>\n",
              "    </tr>\n",
              "    <tr>\n",
              "      <th>Year</th>\n",
              "      <th></th>\n",
              "      <th></th>\n",
              "      <th></th>\n",
              "      <th></th>\n",
              "      <th></th>\n",
              "      <th></th>\n",
              "      <th></th>\n",
              "      <th></th>\n",
              "      <th></th>\n",
              "      <th></th>\n",
              "      <th></th>\n",
              "    </tr>\n",
              "  </thead>\n",
              "  <tbody>\n",
              "    <tr>\n",
              "      <th>−10000</th>\n",
              "      <td>NaN</td>\n",
              "      <td>NaN</td>\n",
              "      <td>NaN</td>\n",
              "      <td>2M[25]</td>\n",
              "      <td>NaN</td>\n",
              "      <td>NaN</td>\n",
              "      <td>4.0</td>\n",
              "      <td>1–10M</td>\n",
              "      <td>NaN</td>\n",
              "      <td>NaN</td>\n",
              "      <td>4.0</td>\n",
              "    </tr>\n",
              "    <tr>\n",
              "      <th>−9000</th>\n",
              "      <td>NaN</td>\n",
              "      <td>NaN</td>\n",
              "      <td>NaN</td>\n",
              "      <td>4.</td>\n",
              "      <td>NaN</td>\n",
              "      <td>NaN</td>\n",
              "      <td>NaN</td>\n",
              "      <td>NaN</td>\n",
              "      <td>NaN</td>\n",
              "      <td>NaN</td>\n",
              "      <td>NaN</td>\n",
              "    </tr>\n",
              "    <tr>\n",
              "      <th>−8000</th>\n",
              "      <td>5.</td>\n",
              "      <td>NaN</td>\n",
              "      <td>NaN</td>\n",
              "      <td>5.</td>\n",
              "      <td>NaN</td>\n",
              "      <td>NaN</td>\n",
              "      <td>NaN</td>\n",
              "      <td>NaN</td>\n",
              "      <td>5–10M</td>\n",
              "      <td>NaN</td>\n",
              "      <td>NaN</td>\n",
              "    </tr>\n",
              "    <tr>\n",
              "      <th>−7000</th>\n",
              "      <td>7.</td>\n",
              "      <td>NaN</td>\n",
              "      <td>NaN</td>\n",
              "      <td>8.</td>\n",
              "      <td>NaN</td>\n",
              "      <td>NaN</td>\n",
              "      <td>NaN</td>\n",
              "      <td>NaN</td>\n",
              "      <td>NaN</td>\n",
              "      <td>NaN</td>\n",
              "      <td>NaN</td>\n",
              "    </tr>\n",
              "    <tr>\n",
              "      <th>−6000</th>\n",
              "      <td>14.</td>\n",
              "      <td>NaN</td>\n",
              "      <td>NaN</td>\n",
              "      <td>11.</td>\n",
              "      <td>NaN</td>\n",
              "      <td>NaN</td>\n",
              "      <td>NaN</td>\n",
              "      <td>NaN</td>\n",
              "      <td>NaN</td>\n",
              "      <td>NaN</td>\n",
              "      <td>NaN</td>\n",
              "    </tr>\n",
              "  </tbody>\n",
              "</table>\n",
              "</div>\n",
              "      <button class=\"colab-df-convert\" onclick=\"convertToInteractive('df-b74f0d9f-556f-488b-9e63-bff60e17734b')\"\n",
              "              title=\"Convert this dataframe to an interactive table.\"\n",
              "              style=\"display:none;\">\n",
              "        \n",
              "  <svg xmlns=\"http://www.w3.org/2000/svg\" height=\"24px\"viewBox=\"0 0 24 24\"\n",
              "       width=\"24px\">\n",
              "    <path d=\"M0 0h24v24H0V0z\" fill=\"none\"/>\n",
              "    <path d=\"M18.56 5.44l.94 2.06.94-2.06 2.06-.94-2.06-.94-.94-2.06-.94 2.06-2.06.94zm-11 1L8.5 8.5l.94-2.06 2.06-.94-2.06-.94L8.5 2.5l-.94 2.06-2.06.94zm10 10l.94 2.06.94-2.06 2.06-.94-2.06-.94-.94-2.06-.94 2.06-2.06.94z\"/><path d=\"M17.41 7.96l-1.37-1.37c-.4-.4-.92-.59-1.43-.59-.52 0-1.04.2-1.43.59L10.3 9.45l-7.72 7.72c-.78.78-.78 2.05 0 2.83L4 21.41c.39.39.9.59 1.41.59.51 0 1.02-.2 1.41-.59l7.78-7.78 2.81-2.81c.8-.78.8-2.07 0-2.86zM5.41 20L4 18.59l7.72-7.72 1.47 1.35L5.41 20z\"/>\n",
              "  </svg>\n",
              "      </button>\n",
              "      \n",
              "  <style>\n",
              "    .colab-df-container {\n",
              "      display:flex;\n",
              "      flex-wrap:wrap;\n",
              "      gap: 12px;\n",
              "    }\n",
              "\n",
              "    .colab-df-convert {\n",
              "      background-color: #E8F0FE;\n",
              "      border: none;\n",
              "      border-radius: 50%;\n",
              "      cursor: pointer;\n",
              "      display: none;\n",
              "      fill: #1967D2;\n",
              "      height: 32px;\n",
              "      padding: 0 0 0 0;\n",
              "      width: 32px;\n",
              "    }\n",
              "\n",
              "    .colab-df-convert:hover {\n",
              "      background-color: #E2EBFA;\n",
              "      box-shadow: 0px 1px 2px rgba(60, 64, 67, 0.3), 0px 1px 3px 1px rgba(60, 64, 67, 0.15);\n",
              "      fill: #174EA6;\n",
              "    }\n",
              "\n",
              "    [theme=dark] .colab-df-convert {\n",
              "      background-color: #3B4455;\n",
              "      fill: #D2E3FC;\n",
              "    }\n",
              "\n",
              "    [theme=dark] .colab-df-convert:hover {\n",
              "      background-color: #434B5C;\n",
              "      box-shadow: 0px 1px 3px 1px rgba(0, 0, 0, 0.15);\n",
              "      filter: drop-shadow(0px 1px 2px rgba(0, 0, 0, 0.3));\n",
              "      fill: #FFFFFF;\n",
              "    }\n",
              "  </style>\n",
              "\n",
              "      <script>\n",
              "        const buttonEl =\n",
              "          document.querySelector('#df-b74f0d9f-556f-488b-9e63-bff60e17734b button.colab-df-convert');\n",
              "        buttonEl.style.display =\n",
              "          google.colab.kernel.accessAllowed ? 'block' : 'none';\n",
              "\n",
              "        async function convertToInteractive(key) {\n",
              "          const element = document.querySelector('#df-b74f0d9f-556f-488b-9e63-bff60e17734b');\n",
              "          const dataTable =\n",
              "            await google.colab.kernel.invokeFunction('convertToInteractive',\n",
              "                                                     [key], {});\n",
              "          if (!dataTable) return;\n",
              "\n",
              "          const docLinkHtml = 'Like what you see? Visit the ' +\n",
              "            '<a target=\"_blank\" href=https://colab.research.google.com/notebooks/data_table.ipynb>data table notebook</a>'\n",
              "            + ' to learn more about interactive tables.';\n",
              "          element.innerHTML = '';\n",
              "          dataTable['output_type'] = 'display_data';\n",
              "          await google.colab.output.renderOutput(dataTable, element);\n",
              "          const docLink = document.createElement('div');\n",
              "          docLink.innerHTML = docLinkHtml;\n",
              "          element.appendChild(docLink);\n",
              "        }\n",
              "      </script>\n",
              "    </div>\n",
              "  </div>\n",
              "  "
            ]
          },
          "metadata": {},
          "execution_count": 106
        }
      ],
      "source": [
        "table1 = tables[1]\n",
        "table1.head()"
      ]
    },
    {
      "cell_type": "markdown",
      "metadata": {
        "id": "eRsFcpG7otke"
      },
      "source": [
        "Not all agencies and researchers provided estimates for the same dates.  Again `NaN` is the special value that indicates missing data."
      ]
    },
    {
      "cell_type": "code",
      "execution_count": 107,
      "metadata": {
        "id": "Yw8HxmCOotke",
        "outputId": "216222c5-93d5-4355-9304-86f5ccaf92e8",
        "colab": {
          "base_uri": "https://localhost:8080/",
          "height": 313
        }
      },
      "outputs": [
        {
          "output_type": "execute_result",
          "data": {
            "text/plain": [
              "     PRB (1973–2016)[15]  UN (2015)[16] Maddison (2008)[17] HYDE (2010)[18]  \\\n",
              "Year                                                                          \n",
              "1913                 NaN            NaN               1793.             NaN   \n",
              "1920                 NaN         1860.0               1863.           1912.   \n",
              "1925               2000.            NaN                 NaN             NaN   \n",
              "1930                 NaN         2070.0                 NaN           2092.   \n",
              "1940                 NaN         2300.0               2299.           2307.   \n",
              "\n",
              "      Tanton (1994)[19]  Biraben (1980)[20]  McEvedy & Jones (1978)[21]  \\\n",
              "Year                                                                      \n",
              "1913                NaN                 NaN                         NaN   \n",
              "1920                NaN                 NaN                         NaN   \n",
              "1925                NaN                 NaN                      2000.0   \n",
              "1930                NaN                 NaN                         NaN   \n",
              "1940                NaN                 NaN                         NaN   \n",
              "\n",
              "     Thomlinson (1975)[22] Durand (1974)[23] Clark (1967)[24]  Gapminder  \n",
              "Year                                                                      \n",
              "1913                   NaN               NaN              NaN     1829.0  \n",
              "1920                   NaN               NaN            1968.     1924.0  \n",
              "1925                   NaN               NaN              NaN     2007.0  \n",
              "1930                   NaN               NaN            2145.     2100.0  \n",
              "1940                   NaN               NaN            2340.     2324.0  "
            ],
            "text/html": [
              "\n",
              "  <div id=\"df-fb9d7ac4-2bdc-468d-a1e8-876fce9156fa\">\n",
              "    <div class=\"colab-df-container\">\n",
              "      <div>\n",
              "<style scoped>\n",
              "    .dataframe tbody tr th:only-of-type {\n",
              "        vertical-align: middle;\n",
              "    }\n",
              "\n",
              "    .dataframe tbody tr th {\n",
              "        vertical-align: top;\n",
              "    }\n",
              "\n",
              "    .dataframe thead th {\n",
              "        text-align: right;\n",
              "    }\n",
              "</style>\n",
              "<table border=\"1\" class=\"dataframe\">\n",
              "  <thead>\n",
              "    <tr style=\"text-align: right;\">\n",
              "      <th></th>\n",
              "      <th>PRB (1973–2016)[15]</th>\n",
              "      <th>UN (2015)[16]</th>\n",
              "      <th>Maddison (2008)[17]</th>\n",
              "      <th>HYDE (2010)[18]</th>\n",
              "      <th>Tanton (1994)[19]</th>\n",
              "      <th>Biraben (1980)[20]</th>\n",
              "      <th>McEvedy &amp; Jones (1978)[21]</th>\n",
              "      <th>Thomlinson (1975)[22]</th>\n",
              "      <th>Durand (1974)[23]</th>\n",
              "      <th>Clark (1967)[24]</th>\n",
              "      <th>Gapminder</th>\n",
              "    </tr>\n",
              "    <tr>\n",
              "      <th>Year</th>\n",
              "      <th></th>\n",
              "      <th></th>\n",
              "      <th></th>\n",
              "      <th></th>\n",
              "      <th></th>\n",
              "      <th></th>\n",
              "      <th></th>\n",
              "      <th></th>\n",
              "      <th></th>\n",
              "      <th></th>\n",
              "      <th></th>\n",
              "    </tr>\n",
              "  </thead>\n",
              "  <tbody>\n",
              "    <tr>\n",
              "      <th>1913</th>\n",
              "      <td>NaN</td>\n",
              "      <td>NaN</td>\n",
              "      <td>1793.</td>\n",
              "      <td>NaN</td>\n",
              "      <td>NaN</td>\n",
              "      <td>NaN</td>\n",
              "      <td>NaN</td>\n",
              "      <td>NaN</td>\n",
              "      <td>NaN</td>\n",
              "      <td>NaN</td>\n",
              "      <td>1829.0</td>\n",
              "    </tr>\n",
              "    <tr>\n",
              "      <th>1920</th>\n",
              "      <td>NaN</td>\n",
              "      <td>1860.0</td>\n",
              "      <td>1863.</td>\n",
              "      <td>1912.</td>\n",
              "      <td>NaN</td>\n",
              "      <td>NaN</td>\n",
              "      <td>NaN</td>\n",
              "      <td>NaN</td>\n",
              "      <td>NaN</td>\n",
              "      <td>1968.</td>\n",
              "      <td>1924.0</td>\n",
              "    </tr>\n",
              "    <tr>\n",
              "      <th>1925</th>\n",
              "      <td>2000.</td>\n",
              "      <td>NaN</td>\n",
              "      <td>NaN</td>\n",
              "      <td>NaN</td>\n",
              "      <td>NaN</td>\n",
              "      <td>NaN</td>\n",
              "      <td>2000.0</td>\n",
              "      <td>NaN</td>\n",
              "      <td>NaN</td>\n",
              "      <td>NaN</td>\n",
              "      <td>2007.0</td>\n",
              "    </tr>\n",
              "    <tr>\n",
              "      <th>1930</th>\n",
              "      <td>NaN</td>\n",
              "      <td>2070.0</td>\n",
              "      <td>NaN</td>\n",
              "      <td>2092.</td>\n",
              "      <td>NaN</td>\n",
              "      <td>NaN</td>\n",
              "      <td>NaN</td>\n",
              "      <td>NaN</td>\n",
              "      <td>NaN</td>\n",
              "      <td>2145.</td>\n",
              "      <td>2100.0</td>\n",
              "    </tr>\n",
              "    <tr>\n",
              "      <th>1940</th>\n",
              "      <td>NaN</td>\n",
              "      <td>2300.0</td>\n",
              "      <td>2299.</td>\n",
              "      <td>2307.</td>\n",
              "      <td>NaN</td>\n",
              "      <td>NaN</td>\n",
              "      <td>NaN</td>\n",
              "      <td>NaN</td>\n",
              "      <td>NaN</td>\n",
              "      <td>2340.</td>\n",
              "      <td>2324.0</td>\n",
              "    </tr>\n",
              "  </tbody>\n",
              "</table>\n",
              "</div>\n",
              "      <button class=\"colab-df-convert\" onclick=\"convertToInteractive('df-fb9d7ac4-2bdc-468d-a1e8-876fce9156fa')\"\n",
              "              title=\"Convert this dataframe to an interactive table.\"\n",
              "              style=\"display:none;\">\n",
              "        \n",
              "  <svg xmlns=\"http://www.w3.org/2000/svg\" height=\"24px\"viewBox=\"0 0 24 24\"\n",
              "       width=\"24px\">\n",
              "    <path d=\"M0 0h24v24H0V0z\" fill=\"none\"/>\n",
              "    <path d=\"M18.56 5.44l.94 2.06.94-2.06 2.06-.94-2.06-.94-.94-2.06-.94 2.06-2.06.94zm-11 1L8.5 8.5l.94-2.06 2.06-.94-2.06-.94L8.5 2.5l-.94 2.06-2.06.94zm10 10l.94 2.06.94-2.06 2.06-.94-2.06-.94-.94-2.06-.94 2.06-2.06.94z\"/><path d=\"M17.41 7.96l-1.37-1.37c-.4-.4-.92-.59-1.43-.59-.52 0-1.04.2-1.43.59L10.3 9.45l-7.72 7.72c-.78.78-.78 2.05 0 2.83L4 21.41c.39.39.9.59 1.41.59.51 0 1.02-.2 1.41-.59l7.78-7.78 2.81-2.81c.8-.78.8-2.07 0-2.86zM5.41 20L4 18.59l7.72-7.72 1.47 1.35L5.41 20z\"/>\n",
              "  </svg>\n",
              "      </button>\n",
              "      \n",
              "  <style>\n",
              "    .colab-df-container {\n",
              "      display:flex;\n",
              "      flex-wrap:wrap;\n",
              "      gap: 12px;\n",
              "    }\n",
              "\n",
              "    .colab-df-convert {\n",
              "      background-color: #E8F0FE;\n",
              "      border: none;\n",
              "      border-radius: 50%;\n",
              "      cursor: pointer;\n",
              "      display: none;\n",
              "      fill: #1967D2;\n",
              "      height: 32px;\n",
              "      padding: 0 0 0 0;\n",
              "      width: 32px;\n",
              "    }\n",
              "\n",
              "    .colab-df-convert:hover {\n",
              "      background-color: #E2EBFA;\n",
              "      box-shadow: 0px 1px 2px rgba(60, 64, 67, 0.3), 0px 1px 3px 1px rgba(60, 64, 67, 0.15);\n",
              "      fill: #174EA6;\n",
              "    }\n",
              "\n",
              "    [theme=dark] .colab-df-convert {\n",
              "      background-color: #3B4455;\n",
              "      fill: #D2E3FC;\n",
              "    }\n",
              "\n",
              "    [theme=dark] .colab-df-convert:hover {\n",
              "      background-color: #434B5C;\n",
              "      box-shadow: 0px 1px 3px 1px rgba(0, 0, 0, 0.15);\n",
              "      filter: drop-shadow(0px 1px 2px rgba(0, 0, 0, 0.3));\n",
              "      fill: #FFFFFF;\n",
              "    }\n",
              "  </style>\n",
              "\n",
              "      <script>\n",
              "        const buttonEl =\n",
              "          document.querySelector('#df-fb9d7ac4-2bdc-468d-a1e8-876fce9156fa button.colab-df-convert');\n",
              "        buttonEl.style.display =\n",
              "          google.colab.kernel.accessAllowed ? 'block' : 'none';\n",
              "\n",
              "        async function convertToInteractive(key) {\n",
              "          const element = document.querySelector('#df-fb9d7ac4-2bdc-468d-a1e8-876fce9156fa');\n",
              "          const dataTable =\n",
              "            await google.colab.kernel.invokeFunction('convertToInteractive',\n",
              "                                                     [key], {});\n",
              "          if (!dataTable) return;\n",
              "\n",
              "          const docLinkHtml = 'Like what you see? Visit the ' +\n",
              "            '<a target=\"_blank\" href=https://colab.research.google.com/notebooks/data_table.ipynb>data table notebook</a>'\n",
              "            + ' to learn more about interactive tables.';\n",
              "          element.innerHTML = '';\n",
              "          dataTable['output_type'] = 'display_data';\n",
              "          await google.colab.output.renderOutput(dataTable, element);\n",
              "          const docLink = document.createElement('div');\n",
              "          docLink.innerHTML = docLinkHtml;\n",
              "          element.appendChild(docLink);\n",
              "        }\n",
              "      </script>\n",
              "    </div>\n",
              "  </div>\n",
              "  "
            ]
          },
          "metadata": {},
          "execution_count": 107
        }
      ],
      "source": [
        "table1.tail()"
      ]
    },
    {
      "cell_type": "markdown",
      "metadata": {
        "id": "y0mNxc3Yotkf"
      },
      "source": [
        "Again, we'll replace the long column names with more convenient abbreviations."
      ]
    },
    {
      "cell_type": "code",
      "execution_count": 108,
      "metadata": {
        "id": "KrZIlneBotkf",
        "outputId": "f61beb25-17db-4e1f-8233-2bde525ff12c",
        "colab": {
          "base_uri": "https://localhost:8080/",
          "height": 324
        }
      },
      "outputs": [
        {
          "output_type": "error",
          "ename": "ValueError",
          "evalue": "ignored",
          "traceback": [
            "\u001b[0;31m---------------------------------------------------------------------------\u001b[0m",
            "\u001b[0;31mValueError\u001b[0m                                Traceback (most recent call last)",
            "\u001b[0;32m<ipython-input-108-a37fea76098e>\u001b[0m in \u001b[0;36m<cell line: 1>\u001b[0;34m()\u001b[0m\n\u001b[0;32m----> 1\u001b[0;31m table1.columns = ['PRB', 'UN', 'Maddison', 'HYDE', 'Tanton', \n\u001b[0m\u001b[1;32m      2\u001b[0m                   'Biraben', 'McEvedy & Jones', 'Thomlinson', 'Durand', 'Clark']\n",
            "\u001b[0;32m/usr/local/lib/python3.10/dist-packages/pandas/core/generic.py\u001b[0m in \u001b[0;36m__setattr__\u001b[0;34m(self, name, value)\u001b[0m\n\u001b[1;32m   5913\u001b[0m         \u001b[0;32mtry\u001b[0m\u001b[0;34m:\u001b[0m\u001b[0;34m\u001b[0m\u001b[0;34m\u001b[0m\u001b[0m\n\u001b[1;32m   5914\u001b[0m             \u001b[0mobject\u001b[0m\u001b[0;34m.\u001b[0m\u001b[0m__getattribute__\u001b[0m\u001b[0;34m(\u001b[0m\u001b[0mself\u001b[0m\u001b[0;34m,\u001b[0m \u001b[0mname\u001b[0m\u001b[0;34m)\u001b[0m\u001b[0;34m\u001b[0m\u001b[0;34m\u001b[0m\u001b[0m\n\u001b[0;32m-> 5915\u001b[0;31m             \u001b[0;32mreturn\u001b[0m \u001b[0mobject\u001b[0m\u001b[0;34m.\u001b[0m\u001b[0m__setattr__\u001b[0m\u001b[0;34m(\u001b[0m\u001b[0mself\u001b[0m\u001b[0;34m,\u001b[0m \u001b[0mname\u001b[0m\u001b[0;34m,\u001b[0m \u001b[0mvalue\u001b[0m\u001b[0;34m)\u001b[0m\u001b[0;34m\u001b[0m\u001b[0;34m\u001b[0m\u001b[0m\n\u001b[0m\u001b[1;32m   5916\u001b[0m         \u001b[0;32mexcept\u001b[0m \u001b[0mAttributeError\u001b[0m\u001b[0;34m:\u001b[0m\u001b[0;34m\u001b[0m\u001b[0;34m\u001b[0m\u001b[0m\n\u001b[1;32m   5917\u001b[0m             \u001b[0;32mpass\u001b[0m\u001b[0;34m\u001b[0m\u001b[0;34m\u001b[0m\u001b[0m\n",
            "\u001b[0;32m/usr/local/lib/python3.10/dist-packages/pandas/_libs/properties.pyx\u001b[0m in \u001b[0;36mpandas._libs.properties.AxisProperty.__set__\u001b[0;34m()\u001b[0m\n",
            "\u001b[0;32m/usr/local/lib/python3.10/dist-packages/pandas/core/generic.py\u001b[0m in \u001b[0;36m_set_axis\u001b[0;34m(self, axis, labels)\u001b[0m\n\u001b[1;32m    821\u001b[0m     \u001b[0;32mdef\u001b[0m \u001b[0m_set_axis\u001b[0m\u001b[0;34m(\u001b[0m\u001b[0mself\u001b[0m\u001b[0;34m,\u001b[0m \u001b[0maxis\u001b[0m\u001b[0;34m:\u001b[0m \u001b[0mint\u001b[0m\u001b[0;34m,\u001b[0m \u001b[0mlabels\u001b[0m\u001b[0;34m:\u001b[0m \u001b[0mAnyArrayLike\u001b[0m \u001b[0;34m|\u001b[0m \u001b[0mlist\u001b[0m\u001b[0;34m)\u001b[0m \u001b[0;34m->\u001b[0m \u001b[0;32mNone\u001b[0m\u001b[0;34m:\u001b[0m\u001b[0;34m\u001b[0m\u001b[0;34m\u001b[0m\u001b[0m\n\u001b[1;32m    822\u001b[0m         \u001b[0mlabels\u001b[0m \u001b[0;34m=\u001b[0m \u001b[0mensure_index\u001b[0m\u001b[0;34m(\u001b[0m\u001b[0mlabels\u001b[0m\u001b[0;34m)\u001b[0m\u001b[0;34m\u001b[0m\u001b[0;34m\u001b[0m\u001b[0m\n\u001b[0;32m--> 823\u001b[0;31m         \u001b[0mself\u001b[0m\u001b[0;34m.\u001b[0m\u001b[0m_mgr\u001b[0m\u001b[0;34m.\u001b[0m\u001b[0mset_axis\u001b[0m\u001b[0;34m(\u001b[0m\u001b[0maxis\u001b[0m\u001b[0;34m,\u001b[0m \u001b[0mlabels\u001b[0m\u001b[0;34m)\u001b[0m\u001b[0;34m\u001b[0m\u001b[0;34m\u001b[0m\u001b[0m\n\u001b[0m\u001b[1;32m    824\u001b[0m         \u001b[0mself\u001b[0m\u001b[0;34m.\u001b[0m\u001b[0m_clear_item_cache\u001b[0m\u001b[0;34m(\u001b[0m\u001b[0;34m)\u001b[0m\u001b[0;34m\u001b[0m\u001b[0;34m\u001b[0m\u001b[0m\n\u001b[1;32m    825\u001b[0m \u001b[0;34m\u001b[0m\u001b[0m\n",
            "\u001b[0;32m/usr/local/lib/python3.10/dist-packages/pandas/core/internals/managers.py\u001b[0m in \u001b[0;36mset_axis\u001b[0;34m(self, axis, new_labels)\u001b[0m\n\u001b[1;32m    228\u001b[0m     \u001b[0;32mdef\u001b[0m \u001b[0mset_axis\u001b[0m\u001b[0;34m(\u001b[0m\u001b[0mself\u001b[0m\u001b[0;34m,\u001b[0m \u001b[0maxis\u001b[0m\u001b[0;34m:\u001b[0m \u001b[0mint\u001b[0m\u001b[0;34m,\u001b[0m \u001b[0mnew_labels\u001b[0m\u001b[0;34m:\u001b[0m \u001b[0mIndex\u001b[0m\u001b[0;34m)\u001b[0m \u001b[0;34m->\u001b[0m \u001b[0;32mNone\u001b[0m\u001b[0;34m:\u001b[0m\u001b[0;34m\u001b[0m\u001b[0;34m\u001b[0m\u001b[0m\n\u001b[1;32m    229\u001b[0m         \u001b[0;31m# Caller is responsible for ensuring we have an Index object.\u001b[0m\u001b[0;34m\u001b[0m\u001b[0;34m\u001b[0m\u001b[0m\n\u001b[0;32m--> 230\u001b[0;31m         \u001b[0mself\u001b[0m\u001b[0;34m.\u001b[0m\u001b[0m_validate_set_axis\u001b[0m\u001b[0;34m(\u001b[0m\u001b[0maxis\u001b[0m\u001b[0;34m,\u001b[0m \u001b[0mnew_labels\u001b[0m\u001b[0;34m)\u001b[0m\u001b[0;34m\u001b[0m\u001b[0;34m\u001b[0m\u001b[0m\n\u001b[0m\u001b[1;32m    231\u001b[0m         \u001b[0mself\u001b[0m\u001b[0;34m.\u001b[0m\u001b[0maxes\u001b[0m\u001b[0;34m[\u001b[0m\u001b[0maxis\u001b[0m\u001b[0;34m]\u001b[0m \u001b[0;34m=\u001b[0m \u001b[0mnew_labels\u001b[0m\u001b[0;34m\u001b[0m\u001b[0;34m\u001b[0m\u001b[0m\n\u001b[1;32m    232\u001b[0m \u001b[0;34m\u001b[0m\u001b[0m\n",
            "\u001b[0;32m/usr/local/lib/python3.10/dist-packages/pandas/core/internals/base.py\u001b[0m in \u001b[0;36m_validate_set_axis\u001b[0;34m(self, axis, new_labels)\u001b[0m\n\u001b[1;32m     68\u001b[0m \u001b[0;34m\u001b[0m\u001b[0m\n\u001b[1;32m     69\u001b[0m         \u001b[0;32melif\u001b[0m \u001b[0mnew_len\u001b[0m \u001b[0;34m!=\u001b[0m \u001b[0mold_len\u001b[0m\u001b[0;34m:\u001b[0m\u001b[0;34m\u001b[0m\u001b[0;34m\u001b[0m\u001b[0m\n\u001b[0;32m---> 70\u001b[0;31m             raise ValueError(\n\u001b[0m\u001b[1;32m     71\u001b[0m                 \u001b[0;34mf\"Length mismatch: Expected axis has {old_len} elements, new \"\u001b[0m\u001b[0;34m\u001b[0m\u001b[0;34m\u001b[0m\u001b[0m\n\u001b[1;32m     72\u001b[0m                 \u001b[0;34mf\"values have {new_len} elements\"\u001b[0m\u001b[0;34m\u001b[0m\u001b[0;34m\u001b[0m\u001b[0m\n",
            "\u001b[0;31mValueError\u001b[0m: Length mismatch: Expected axis has 11 elements, new values have 10 elements"
          ]
        }
      ],
      "source": [
        "table1.columns = ['PRB', 'UN', 'Maddison', 'HYDE', 'Tanton',\n",
        "                  'Biraben', 'McEvedy & Jones', 'Thomlinson', 'Durand', 'Clark']"
      ]
    },
    {
      "cell_type": "markdown",
      "metadata": {
        "id": "9mXfDCB-otkf"
      },
      "source": [
        "Some of the estimates are in a form Pandas doesn't recognize as numbers, but we can coerce them to be numeric."
      ]
    },
    {
      "cell_type": "code",
      "execution_count": null,
      "metadata": {
        "id": "YeXvNmz_otkf"
      },
      "outputs": [],
      "source": [
        "for col in table1.columns:\n",
        "    table1[col] = pd.to_numeric(table1[col], errors='coerce')"
      ]
    },
    {
      "cell_type": "markdown",
      "metadata": {
        "id": "wRwDk_Pmotkg"
      },
      "source": [
        "Here are the results.  Notice that we are working in millions now, not billions."
      ]
    },
    {
      "cell_type": "code",
      "execution_count": null,
      "metadata": {
        "scrolled": false,
        "id": "I4sidDoYotkg"
      },
      "outputs": [],
      "source": [
        "table1.plot()\n",
        "decorate(xlim=[-10000, 2000], xlabel='Year',\n",
        "         ylabel='World population (millions)',\n",
        "         title='Prehistoric population estimates')\n",
        "plt.legend(fontsize='small');"
      ]
    },
    {
      "cell_type": "markdown",
      "metadata": {
        "id": "ZwBzBmolotkg"
      },
      "source": [
        "We can use `xlim` to zoom in on everything after Year 0."
      ]
    },
    {
      "cell_type": "code",
      "execution_count": null,
      "metadata": {
        "id": "9SkDoXRpotkg"
      },
      "outputs": [],
      "source": [
        "table1.plot()\n",
        "decorate(xlim=[0, 2000], xlabel='Year',\n",
        "         ylabel='World population (millions)',\n",
        "         title='CE population estimates')\n",
        "plt.legend(fontsize='small');"
      ]
    },
    {
      "cell_type": "markdown",
      "metadata": {
        "id": "9YlrIowGotkh"
      },
      "source": [
        "See if you can find a model that fits these data well from Year 0 to 1950.\n",
        "\n",
        "How well does your best model predict actual population growth from 1950 to the present?"
      ]
    },
    {
      "cell_type": "code",
      "execution_count": null,
      "metadata": {
        "id": "SilT1ku0otkh"
      },
      "outputs": [],
      "source": [
        "# The function I found that best matches the data has the form\n",
        "# a + b / (c - x)\n",
        "#The model is generated by trial and error\n",
        "\n",
        "xs = linspace(100, 1950)\n",
        "ys = 100 + 220000 / (2050 - xs)\n",
        "table1.plot()\n",
        "plot(xs, ys, color='blue', label='model')\n",
        "\n",
        "decorate(xlim=[0, 2000], xlabel='Year',\n",
        "         ylabel='World population (millions)',\n",
        "         title='CE population estimates')\n",
        "plt.legend(fontsize='small');"
      ]
    },
    {
      "cell_type": "code",
      "execution_count": null,
      "metadata": {
        "id": "gVbCYnI9otkh"
      },
      "outputs": [],
      "source": [
        "plot(census, ':', label='US Census')\n",
        "plot(un, '--', label='UN DESA')\n",
        "\n",
        "xs = linspace(1950, 2020)\n",
        "ys = 100 + 220000 / (2050 - xs)\n",
        "plot(xs, ys/1000, color='gray', label='model')\n",
        "\n",
        "decorate(xlim=[1950, 2016], xlabel='Year',\n",
        "         ylabel='World population (billions)',\n",
        "         title='Prehistoric population estimates')\n",
        "\n",
        "#the model does not fit the data after 1950, it seems to underestimate"
      ]
    },
    {
      "cell_type": "code",
      "execution_count": null,
      "metadata": {
        "id": "S_6yZbTWotki"
      },
      "outputs": [],
      "source": []
    }
  ],
  "metadata": {
    "kernelspec": {
      "display_name": "Python 3",
      "language": "python",
      "name": "python3"
    },
    "language_info": {
      "codemirror_mode": {
        "name": "ipython",
        "version": 3
      },
      "file_extension": ".py",
      "mimetype": "text/x-python",
      "name": "python",
      "nbconvert_exporter": "python",
      "pygments_lexer": "ipython3",
      "version": "3.7.3"
    },
    "colab": {
      "provenance": []
    }
  },
  "nbformat": 4,
  "nbformat_minor": 0
}