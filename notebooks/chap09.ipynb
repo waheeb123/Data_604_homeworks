{
  "cells": [
    {
      "cell_type": "markdown",
      "metadata": {
        "id": "smq-WlbcCg-E"
      },
      "source": [
        "# Modeling and Simulation in Python\n",
        "Waheeb Algabri\n",
        "\n",
        "Chapter 9\n",
        "\n",
        "Copyright 2017 Allen Downey\n",
        "\n",
        "License: [Creative Commons Attribution 4.0 International](https://creativecommons.org/licenses/by/4.0)\n"
      ]
    },
    {
      "cell_type": "code",
      "execution_count": 47,
      "metadata": {
        "id": "avdP1_1TCh65"
      },
      "outputs": [],
      "source": [
        "try:\n",
        "    import pint\n",
        "except ImportError:\n",
        "    !pip install pint\n",
        "    import pint"
      ]
    },
    {
      "cell_type": "code",
      "execution_count": 48,
      "metadata": {
        "id": "MrSfx6JiCsck"
      },
      "outputs": [],
      "source": [
        "try:\n",
        "    from modsim import *\n",
        "except ImportError:\n",
        "    !pip install modsimpy\n",
        "    from modsim import *"
      ]
    },
    {
      "cell_type": "code",
      "execution_count": 49,
      "metadata": {
        "id": "Ddr73x3QCg-H"
      },
      "outputs": [],
      "source": [
        "# Configure Jupyter to display the assigned value after an assignment\n",
        "%config InteractiveShell.ast_node_interactivity='last_expr_or_assign'\n",
        "\n",
        "# import everything from SymPy.\n",
        "from sympy import *\n",
        "\n",
        "# Set up Jupyter notebook to display math.\n",
        "init_printing()"
      ]
    },
    {
      "cell_type": "markdown",
      "metadata": {
        "id": "axxW4gj9Cg-J"
      },
      "source": [
        "The following displays SymPy expressions and provides the option of showing results in LaTeX format."
      ]
    },
    {
      "cell_type": "code",
      "execution_count": 50,
      "metadata": {
        "id": "SnrSZsjKCg-J"
      },
      "outputs": [],
      "source": [
        "from sympy.printing import latex\n",
        "\n",
        "def show(expr, show_latex=False):\n",
        "    \"\"\"Display a SymPy expression.\n",
        "\n",
        "    expr: SymPy expression\n",
        "    show_latex: boolean\n",
        "    \"\"\"\n",
        "    if show_latex:\n",
        "        print(latex(expr))\n",
        "    return expr"
      ]
    },
    {
      "cell_type": "markdown",
      "metadata": {
        "id": "KYyhjb-6Cg-L"
      },
      "source": [
        "### Analysis with SymPy"
      ]
    },
    {
      "cell_type": "markdown",
      "metadata": {
        "id": "1UXi0aIyCg-L"
      },
      "source": [
        "Create a symbol for time."
      ]
    },
    {
      "cell_type": "code",
      "execution_count": 51,
      "metadata": {
        "colab": {
          "base_uri": "https://localhost:8080/",
          "height": 38
        },
        "id": "na-9-aF-Cg-M",
        "outputId": "789b4579-dfb4-4793-b69e-944ed42e187f"
      },
      "outputs": [
        {
          "output_type": "execute_result",
          "data": {
            "text/plain": [
              "t"
            ],
            "text/latex": "$\\displaystyle t$"
          },
          "metadata": {},
          "execution_count": 51
        }
      ],
      "source": [
        "t = symbols('t')"
      ]
    },
    {
      "cell_type": "markdown",
      "metadata": {
        "id": "L6Y6F1IZCg-M"
      },
      "source": [
        "If you combine symbols and numbers, you get symbolic expressions."
      ]
    },
    {
      "cell_type": "code",
      "execution_count": 52,
      "metadata": {
        "colab": {
          "base_uri": "https://localhost:8080/",
          "height": 38
        },
        "id": "JaKF0TLVCg-N",
        "outputId": "f89b547f-6703-41fd-b021-088eb2636556"
      },
      "outputs": [
        {
          "output_type": "execute_result",
          "data": {
            "text/plain": [
              "t + 1"
            ],
            "text/latex": "$\\displaystyle t + 1$"
          },
          "metadata": {},
          "execution_count": 52
        }
      ],
      "source": [
        "expr = t + 1"
      ]
    },
    {
      "cell_type": "markdown",
      "metadata": {
        "id": "qKX9liEeCg-O"
      },
      "source": [
        "The result is an `Add` object, which just represents the sum without trying to compute it."
      ]
    },
    {
      "cell_type": "code",
      "execution_count": 53,
      "metadata": {
        "colab": {
          "base_uri": "https://localhost:8080/"
        },
        "id": "q1n5vXrdCg-O",
        "outputId": "2efe5fe2-4a75-4d15-d9ba-e69d2c48dbc8"
      },
      "outputs": [
        {
          "output_type": "execute_result",
          "data": {
            "text/plain": [
              "sympy.core.add.Add"
            ]
          },
          "metadata": {},
          "execution_count": 53
        }
      ],
      "source": [
        "type(expr)"
      ]
    },
    {
      "cell_type": "markdown",
      "metadata": {
        "id": "oGrKkNBWCg-P"
      },
      "source": [
        "`subs` can be used to replace a symbol with a number, which allows the addition to proceed."
      ]
    },
    {
      "cell_type": "code",
      "execution_count": 54,
      "metadata": {
        "colab": {
          "base_uri": "https://localhost:8080/",
          "height": 37
        },
        "id": "ffYOGcbdCg-P",
        "outputId": "735a5ef9-352c-4063-f152-d5d9d000d270"
      },
      "outputs": [
        {
          "output_type": "execute_result",
          "data": {
            "text/plain": [
              "3"
            ],
            "text/latex": "$\\displaystyle 3$"
          },
          "metadata": {},
          "execution_count": 54
        }
      ],
      "source": [
        "expr.subs(t, 2)"
      ]
    },
    {
      "cell_type": "markdown",
      "metadata": {
        "id": "Xx4qjcDgCg-Q"
      },
      "source": [
        "`f` is a special class of symbol that represents a function."
      ]
    },
    {
      "cell_type": "code",
      "execution_count": 55,
      "metadata": {
        "colab": {
          "base_uri": "https://localhost:8080/"
        },
        "id": "Xg8ORs5VCg-Q",
        "outputId": "51f0acbe-a83e-4cf1-b72e-ad1911806cd7"
      },
      "outputs": [
        {
          "output_type": "execute_result",
          "data": {
            "text/plain": [
              "f"
            ]
          },
          "metadata": {},
          "execution_count": 55
        }
      ],
      "source": [
        "f = Function('f')"
      ]
    },
    {
      "cell_type": "markdown",
      "metadata": {
        "id": "SJObfzx2Cg-Q"
      },
      "source": [
        "The type of `f` is `UndefinedFunction`"
      ]
    },
    {
      "cell_type": "code",
      "execution_count": 56,
      "metadata": {
        "colab": {
          "base_uri": "https://localhost:8080/"
        },
        "id": "oQum_gfBCg-R",
        "outputId": "7812b002-4072-4efa-c8a1-8553fdd3c32f"
      },
      "outputs": [
        {
          "output_type": "execute_result",
          "data": {
            "text/plain": [
              "sympy.core.function.UndefinedFunction"
            ]
          },
          "metadata": {},
          "execution_count": 56
        }
      ],
      "source": [
        "type(f)"
      ]
    },
    {
      "cell_type": "markdown",
      "metadata": {
        "id": "A9clNHJ-Cg-S"
      },
      "source": [
        "SymPy understands that `f(t)` means `f` evaluated at `t`, but it doesn't try to evaluate it yet."
      ]
    },
    {
      "cell_type": "code",
      "execution_count": 57,
      "metadata": {
        "colab": {
          "base_uri": "https://localhost:8080/",
          "height": 38
        },
        "id": "6I9z9PBbCg-S",
        "outputId": "e94b87d4-2e09-4057-f4dd-cca9dce9a216"
      },
      "outputs": [
        {
          "output_type": "execute_result",
          "data": {
            "text/plain": [
              "f(t)"
            ],
            "text/latex": "$\\displaystyle f{\\left(t \\right)}$"
          },
          "metadata": {},
          "execution_count": 57
        }
      ],
      "source": [
        "f(t)"
      ]
    },
    {
      "cell_type": "markdown",
      "metadata": {
        "id": "VVrDNwJkCg-T"
      },
      "source": [
        "`diff` returns a `Derivative` object that represents the time derivative of `f`"
      ]
    },
    {
      "cell_type": "code",
      "execution_count": 58,
      "metadata": {
        "colab": {
          "base_uri": "https://localhost:8080/",
          "height": 52
        },
        "id": "q1bGxIOlCg-T",
        "outputId": "f7bbec22-a142-4b21-a072-87f2c2b3c8d4"
      },
      "outputs": [
        {
          "output_type": "execute_result",
          "data": {
            "text/plain": [
              "d       \n",
              "──(f(t))\n",
              "dt      "
            ],
            "text/latex": "$\\displaystyle \\frac{d}{d t} f{\\left(t \\right)}$"
          },
          "metadata": {},
          "execution_count": 58
        }
      ],
      "source": [
        "dfdt = diff(f(t), t)"
      ]
    },
    {
      "cell_type": "code",
      "execution_count": 59,
      "metadata": {
        "colab": {
          "base_uri": "https://localhost:8080/"
        },
        "id": "Ytp1wqrPCg-U",
        "outputId": "6e90d2e6-970e-46a4-ad9d-eabe8304a331"
      },
      "outputs": [
        {
          "output_type": "execute_result",
          "data": {
            "text/plain": [
              "sympy.core.function.Derivative"
            ]
          },
          "metadata": {},
          "execution_count": 59
        }
      ],
      "source": [
        "type(dfdt)"
      ]
    },
    {
      "cell_type": "markdown",
      "metadata": {
        "id": "QlqN8JsACg-U"
      },
      "source": [
        "We need a symbol for `alpha`"
      ]
    },
    {
      "cell_type": "code",
      "execution_count": 60,
      "metadata": {
        "colab": {
          "base_uri": "https://localhost:8080/",
          "height": 38
        },
        "id": "OmznM2QFCg-U",
        "outputId": "f0cf8283-899e-4432-95d3-e5ebe5b07fe1"
      },
      "outputs": [
        {
          "output_type": "execute_result",
          "data": {
            "text/plain": [
              "α"
            ],
            "text/latex": "$\\displaystyle \\alpha$"
          },
          "metadata": {},
          "execution_count": 60
        }
      ],
      "source": [
        "alpha = symbols('alpha')"
      ]
    },
    {
      "cell_type": "markdown",
      "metadata": {
        "id": "tPtbId2pCg-V"
      },
      "source": [
        "Now we can write the differential equation for proportional growth."
      ]
    },
    {
      "cell_type": "code",
      "execution_count": 61,
      "metadata": {
        "colab": {
          "base_uri": "https://localhost:8080/",
          "height": 52
        },
        "id": "AKaihYgKCg-V",
        "outputId": "1f3dbf50-9f68-4d94-fd89-775df4c8fcaa"
      },
      "outputs": [
        {
          "output_type": "execute_result",
          "data": {
            "text/plain": [
              "d                \n",
              "──(f(t)) = α⋅f(t)\n",
              "dt               "
            ],
            "text/latex": "$\\displaystyle \\frac{d}{d t} f{\\left(t \\right)} = \\alpha f{\\left(t \\right)}$"
          },
          "metadata": {},
          "execution_count": 61
        }
      ],
      "source": [
        "eq1 = Eq(dfdt, alpha*f(t))"
      ]
    },
    {
      "cell_type": "markdown",
      "metadata": {
        "id": "Mt2TwGPOCg-W"
      },
      "source": [
        "And use `dsolve` to solve it.  The result is the general solution."
      ]
    },
    {
      "cell_type": "code",
      "execution_count": 62,
      "metadata": {
        "colab": {
          "base_uri": "https://localhost:8080/",
          "height": 38
        },
        "id": "FLeytqwzCg-W",
        "outputId": "b6ba25e7-fede-4dcc-b8ae-f50c32f8ff09"
      },
      "outputs": [
        {
          "output_type": "execute_result",
          "data": {
            "text/plain": [
              "           α⋅t\n",
              "f(t) = C₁⋅ℯ   "
            ],
            "text/latex": "$\\displaystyle f{\\left(t \\right)} = C_{1} e^{\\alpha t}$"
          },
          "metadata": {},
          "execution_count": 62
        }
      ],
      "source": [
        "solution_eq = dsolve(eq1)"
      ]
    },
    {
      "cell_type": "markdown",
      "metadata": {
        "id": "5Oaex6EFCg-X"
      },
      "source": [
        "We can tell it's a general solution because it contains an unspecified constant, `C1`.\n",
        "\n",
        "In this example, finding the particular solution is easy: we just replace `C1` with `p_0`"
      ]
    },
    {
      "cell_type": "code",
      "execution_count": 63,
      "metadata": {
        "id": "t2bPwUalCg-X"
      },
      "outputs": [],
      "source": [
        "C1, p_0 = symbols('C1 p_0')"
      ]
    },
    {
      "cell_type": "code",
      "execution_count": 64,
      "metadata": {
        "colab": {
          "base_uri": "https://localhost:8080/",
          "height": 38
        },
        "id": "L8hRHM7gCg-X",
        "outputId": "de7844bf-7b0f-47a5-c1e9-788714f9af58"
      },
      "outputs": [
        {
          "output_type": "execute_result",
          "data": {
            "text/plain": [
              "           α⋅t\n",
              "f(t) = p₀⋅ℯ   "
            ],
            "text/latex": "$\\displaystyle f{\\left(t \\right)} = p_{0} e^{\\alpha t}$"
          },
          "metadata": {},
          "execution_count": 64
        }
      ],
      "source": [
        "particular = solution_eq.subs(C1, p_0)"
      ]
    },
    {
      "cell_type": "markdown",
      "metadata": {
        "id": "gOfrtCHZCg-Y"
      },
      "source": [
        "In the next example, we have to work a little harder to find the particular solution."
      ]
    },
    {
      "cell_type": "markdown",
      "metadata": {
        "id": "pdJCRUdHCg-Y"
      },
      "source": [
        "### Solving the quadratic growth equation\n",
        "\n",
        "We'll use the (r, K) parameterization, so we'll need two more symbols:"
      ]
    },
    {
      "cell_type": "code",
      "execution_count": 65,
      "metadata": {
        "id": "TI05l882Cg-Y"
      },
      "outputs": [],
      "source": [
        "r, K = symbols('r K')"
      ]
    },
    {
      "cell_type": "markdown",
      "metadata": {
        "id": "KvYCR2o8Cg-Z"
      },
      "source": [
        "Now we can write the differential equation."
      ]
    },
    {
      "cell_type": "code",
      "execution_count": 66,
      "metadata": {
        "colab": {
          "base_uri": "https://localhost:8080/",
          "height": 58
        },
        "id": "_GXEdnZ2Cg-Z",
        "outputId": "f5290144-315e-403d-9c7f-d641c5dc6955"
      },
      "outputs": [
        {
          "output_type": "execute_result",
          "data": {
            "text/plain": [
              "d            ⎛    f(t)⎞     \n",
              "──(f(t)) = r⋅⎜1 - ────⎟⋅f(t)\n",
              "dt           ⎝     K  ⎠     "
            ],
            "text/latex": "$\\displaystyle \\frac{d}{d t} f{\\left(t \\right)} = r \\left(1 - \\frac{f{\\left(t \\right)}}{K}\\right) f{\\left(t \\right)}$"
          },
          "metadata": {},
          "execution_count": 66
        }
      ],
      "source": [
        "eq2 = Eq(diff(f(t), t), r * f(t) * (1 - f(t)/K))"
      ]
    },
    {
      "cell_type": "markdown",
      "metadata": {
        "id": "US5JsAeOCg-a"
      },
      "source": [
        "And solve it."
      ]
    },
    {
      "cell_type": "code",
      "execution_count": 67,
      "metadata": {
        "colab": {
          "base_uri": "https://localhost:8080/",
          "height": 56
        },
        "id": "sWz4u-6vCg-a",
        "outputId": "e7218977-3a2d-4910-b96a-fed40ad13f16"
      },
      "outputs": [
        {
          "output_type": "execute_result",
          "data": {
            "text/plain": [
              "           C₁⋅K + r⋅t \n",
              "        K⋅ℯ           \n",
              "f(t) = ───────────────\n",
              "        C₁⋅K + r⋅t    \n",
              "       ℯ           - 1"
            ],
            "text/latex": "$\\displaystyle f{\\left(t \\right)} = \\frac{K e^{C_{1} K + r t}}{e^{C_{1} K + r t} - 1}$"
          },
          "metadata": {},
          "execution_count": 67
        }
      ],
      "source": [
        "solution_eq = dsolve(eq2)"
      ]
    },
    {
      "cell_type": "markdown",
      "metadata": {
        "id": "1RzbcbOACg-a"
      },
      "source": [
        "The result, `solution_eq`, contains `rhs`, which is the right-hand side of the solution."
      ]
    },
    {
      "cell_type": "code",
      "execution_count": 68,
      "metadata": {
        "colab": {
          "base_uri": "https://localhost:8080/",
          "height": 56
        },
        "id": "3esh-YdUCg-b",
        "outputId": "94aeb917-d42d-43a8-b0f5-2f1e4d777afd"
      },
      "outputs": [
        {
          "output_type": "execute_result",
          "data": {
            "text/plain": [
              "    C₁⋅K + r⋅t \n",
              " K⋅ℯ           \n",
              "───────────────\n",
              " C₁⋅K + r⋅t    \n",
              "ℯ           - 1"
            ],
            "text/latex": "$\\displaystyle \\frac{K e^{C_{1} K + r t}}{e^{C_{1} K + r t} - 1}$"
          },
          "metadata": {},
          "execution_count": 68
        }
      ],
      "source": [
        "general = solution_eq.rhs"
      ]
    },
    {
      "cell_type": "markdown",
      "metadata": {
        "id": "ZC5uhpM2Cg-b"
      },
      "source": [
        "We can evaluate the right-hand side at $t=0$"
      ]
    },
    {
      "cell_type": "code",
      "execution_count": 69,
      "metadata": {
        "colab": {
          "base_uri": "https://localhost:8080/",
          "height": 56
        },
        "id": "gLLo_F4eCg-c",
        "outputId": "86233338-12bb-4708-89c9-5ede1d025bf8"
      },
      "outputs": [
        {
          "output_type": "execute_result",
          "data": {
            "text/plain": [
              "    C₁⋅K \n",
              " K⋅ℯ     \n",
              "─────────\n",
              " C₁⋅K    \n",
              "ℯ     - 1"
            ],
            "text/latex": "$\\displaystyle \\frac{K e^{C_{1} K}}{e^{C_{1} K} - 1}$"
          },
          "metadata": {},
          "execution_count": 69
        }
      ],
      "source": [
        "at_0 = general.subs(t, 0)"
      ]
    },
    {
      "cell_type": "markdown",
      "metadata": {
        "id": "WjTFdCjnCg-c"
      },
      "source": [
        "Now we want to find the value of `C1` that makes `f(0) = p_0`.\n",
        "\n",
        "So we'll create the equation `at_0 = p_0` and solve for `C1`.  Because this is just an algebraic identity, not a differential equation, we use `solve`, not `dsolve`.\n",
        "\n",
        "The result from `solve` is a list of solutions.  In this case, [we have reason to expect only one solution](https://en.wikipedia.org/wiki/Picard%E2%80%93Lindel%C3%B6f_theorem), but we still get a list, so we have to use the bracket operator, `[0]`, to select the first one."
      ]
    },
    {
      "cell_type": "code",
      "execution_count": 70,
      "metadata": {
        "colab": {
          "base_uri": "https://localhost:8080/"
        },
        "id": "KHlmvtF6Cg-c",
        "outputId": "9fe00a9c-5dfd-4c53-b824-690a5b5d4a9b"
      },
      "outputs": [
        {
          "output_type": "execute_result",
          "data": {
            "text/plain": [
              "(list, 1)"
            ]
          },
          "metadata": {},
          "execution_count": 70
        }
      ],
      "source": [
        "solutions = solve(Eq(at_0, p_0), C1)\n",
        "type(solutions), len(solutions)"
      ]
    },
    {
      "cell_type": "code",
      "execution_count": 71,
      "metadata": {
        "colab": {
          "base_uri": "https://localhost:8080/",
          "height": 66
        },
        "id": "a2GdJpR3Cg-c",
        "outputId": "bec415e8-ec91-4ae4-882e-d8cbcdaeff41"
      },
      "outputs": [
        {
          "output_type": "execute_result",
          "data": {
            "text/plain": [
              "   ⎛ -p₀  ⎞\n",
              "log⎜──────⎟\n",
              "   ⎝K - p₀⎠\n",
              "───────────\n",
              "     K     "
            ],
            "text/latex": "$\\displaystyle \\frac{\\log{\\left(- \\frac{p_{0}}{K - p_{0}} \\right)}}{K}$"
          },
          "metadata": {},
          "execution_count": 71
        }
      ],
      "source": [
        "value_of_C1 = solutions[0]"
      ]
    },
    {
      "cell_type": "markdown",
      "metadata": {
        "id": "TxNkscCTCg-d"
      },
      "source": [
        "Now in the general solution, we want to replace `C1` with the value of `C1` we just figured out."
      ]
    },
    {
      "cell_type": "code",
      "execution_count": 72,
      "metadata": {
        "colab": {
          "base_uri": "https://localhost:8080/",
          "height": 71
        },
        "id": "PQvDYRXlCg-d",
        "outputId": "5caa2480-4ac1-42c7-c9cc-2f633b3f9b0c"
      },
      "outputs": [
        {
          "output_type": "execute_result",
          "data": {
            "text/plain": [
              "             r⋅t        \n",
              "      -K⋅p₀⋅ℯ           \n",
              "────────────────────────\n",
              "         ⎛      r⋅t    ⎞\n",
              "         ⎜  p₀⋅ℯ       ⎟\n",
              "(K - p₀)⋅⎜- ─────── - 1⎟\n",
              "         ⎝   K - p₀    ⎠"
            ],
            "text/latex": "$\\displaystyle - \\frac{K p_{0} e^{r t}}{\\left(K - p_{0}\\right) \\left(- \\frac{p_{0} e^{r t}}{K - p_{0}} - 1\\right)}$"
          },
          "metadata": {},
          "execution_count": 72
        }
      ],
      "source": [
        "particular = general.subs(C1, value_of_C1)"
      ]
    },
    {
      "cell_type": "markdown",
      "metadata": {
        "id": "5Ty--LS7Cg-d"
      },
      "source": [
        "The result is complicated, but SymPy provides a method that tries to simplify it."
      ]
    },
    {
      "cell_type": "code",
      "execution_count": 73,
      "metadata": {
        "colab": {
          "base_uri": "https://localhost:8080/",
          "height": 57
        },
        "id": "D0xGBC7jCg-d",
        "outputId": "7a3ca12f-ca5b-4e29-8eee-30606e909c75"
      },
      "outputs": [
        {
          "output_type": "execute_result",
          "data": {
            "text/plain": [
              "         r⋅t    \n",
              "   K⋅p₀⋅ℯ       \n",
              "────────────────\n",
              "        r⋅t     \n",
              "K + p₀⋅ℯ    - p₀"
            ],
            "text/latex": "$\\displaystyle \\frac{K p_{0} e^{r t}}{K + p_{0} e^{r t} - p_{0}}$"
          },
          "metadata": {},
          "execution_count": 73
        }
      ],
      "source": [
        "particular = simplify(particular)"
      ]
    },
    {
      "cell_type": "markdown",
      "metadata": {
        "id": "SqpNyThCCg-e"
      },
      "source": [
        "Often simplicity is in the eye of the beholder, but that's about as simple as this expression gets.\n",
        "\n",
        "Just to double-check, we can evaluate it at `t=0` and confirm that we get `p_0`"
      ]
    },
    {
      "cell_type": "code",
      "execution_count": 74,
      "metadata": {
        "colab": {
          "base_uri": "https://localhost:8080/",
          "height": 38
        },
        "id": "cbnDkfNyCg-e",
        "outputId": "1a3ca8ee-bae4-4585-bcbc-c52471933b56"
      },
      "outputs": [
        {
          "output_type": "execute_result",
          "data": {
            "text/plain": [
              "p₀"
            ],
            "text/latex": "$\\displaystyle p_{0}$"
          },
          "metadata": {},
          "execution_count": 74
        }
      ],
      "source": [
        "particular.subs(t, 0)"
      ]
    },
    {
      "cell_type": "markdown",
      "metadata": {
        "id": "A4bbMjMACg-e"
      },
      "source": [
        "This solution is called the [logistic function](https://en.wikipedia.org/wiki/Population_growth#Logistic_equation).\n",
        "\n",
        "In some places you'll see it written in a different form:\n",
        "\n",
        "$f(t) = \\frac{K}{1 + A e^{-rt}}$\n",
        "\n",
        "where $A = (K - p_0) / p_0$.\n",
        "\n",
        "We can use SymPy to confirm that these two forms are equivalent.  First we represent the alternative version of the logistic function:"
      ]
    },
    {
      "cell_type": "code",
      "execution_count": 75,
      "metadata": {
        "colab": {
          "base_uri": "https://localhost:8080/",
          "height": 55
        },
        "id": "5Y3ASRlOCg-e",
        "outputId": "0ea8a777-1db1-43ac-bc48-7e6f111db75b"
      },
      "outputs": [
        {
          "output_type": "execute_result",
          "data": {
            "text/plain": [
              "K - p₀\n",
              "──────\n",
              "  p₀  "
            ],
            "text/latex": "$\\displaystyle \\frac{K - p_{0}}{p_{0}}$"
          },
          "metadata": {},
          "execution_count": 75
        }
      ],
      "source": [
        "A = (K - p_0) / p_0"
      ]
    },
    {
      "cell_type": "code",
      "execution_count": 76,
      "metadata": {
        "colab": {
          "base_uri": "https://localhost:8080/",
          "height": 63
        },
        "id": "PabWrqYKCg-f",
        "outputId": "4af16759-43c2-4b6e-8300-5f3a3b7018c7"
      },
      "outputs": [
        {
          "output_type": "execute_result",
          "data": {
            "text/plain": [
              "        K         \n",
              "──────────────────\n",
              "              -r⋅t\n",
              "    (K - p₀)⋅ℯ    \n",
              "1 + ──────────────\n",
              "          p₀      "
            ],
            "text/latex": "$\\displaystyle \\frac{K}{1 + \\frac{\\left(K - p_{0}\\right) e^{- r t}}{p_{0}}}$"
          },
          "metadata": {},
          "execution_count": 76
        }
      ],
      "source": [
        "logistic = K / (1 + A * exp(-r*t))"
      ]
    },
    {
      "cell_type": "markdown",
      "metadata": {
        "id": "sXkUBj98Cg-f"
      },
      "source": [
        "To see whether two expressions are equivalent, we can check whether their difference simplifies to 0."
      ]
    },
    {
      "cell_type": "code",
      "execution_count": 77,
      "metadata": {
        "colab": {
          "base_uri": "https://localhost:8080/",
          "height": 37
        },
        "id": "2d4ydAyACg-f",
        "outputId": "fc3c6cc7-14c5-4e5b-e69d-2c363da3ae8b",
        "scrolled": true
      },
      "outputs": [
        {
          "output_type": "execute_result",
          "data": {
            "text/plain": [
              "0"
            ],
            "text/latex": "$\\displaystyle 0$"
          },
          "metadata": {},
          "execution_count": 77
        }
      ],
      "source": [
        "simplify(particular - logistic)"
      ]
    },
    {
      "cell_type": "markdown",
      "metadata": {
        "id": "mAf_5sBVCg-f"
      },
      "source": [
        "This test only works one way: if SymPy says the difference reduces to 0, the expressions are definitely equivalent (and not just numerically close).\n",
        "\n",
        "But if SymPy can't find a way to simplify the result to 0, that doesn't necessarily mean there isn't one.  Testing whether two expressions are equivalent is a surprisingly hard problem; in fact, there is no algorithm that can solve it in general."
      ]
    },
    {
      "cell_type": "markdown",
      "metadata": {
        "id": "t-IIvbiXCg-g"
      },
      "source": [
        "### Exercises\n",
        "\n",
        "**Exercise:** Solve the quadratic growth equation using the alternative parameterization\n",
        "\n",
        "$\\frac{df(t)}{dt} = \\alpha f(t) + \\beta f^2(t) $"
      ]
    },
    {
      "cell_type": "code",
      "execution_count": 78,
      "metadata": {
        "id": "w6rTh4RhCg-g"
      },
      "outputs": [],
      "source": [
        "# creating the symbols\n",
        "alpha, beta = symbols('alpha beta')"
      ]
    },
    {
      "cell_type": "code",
      "execution_count": 79,
      "metadata": {
        "colab": {
          "base_uri": "https://localhost:8080/",
          "height": 52
        },
        "id": "atQ8gEboCg-g",
        "outputId": "34c50413-8036-4f52-db8f-c724a32bd2b2"
      },
      "outputs": [
        {
          "output_type": "execute_result",
          "data": {
            "text/plain": [
              "d                      2   \n",
              "──(f(t)) = α⋅f(t) + β⋅f (t)\n",
              "dt                         "
            ],
            "text/latex": "$\\displaystyle \\frac{d}{d t} f{\\left(t \\right)} = \\alpha f{\\left(t \\right)} + \\beta f^{2}{\\left(t \\right)}$"
          },
          "metadata": {},
          "execution_count": 79
        }
      ],
      "source": [
        "# constructing equation\n",
        "eq3 = Eq(diff(f(t), t), alpha*f(t) + beta*f(t)**2)"
      ]
    },
    {
      "cell_type": "code",
      "execution_count": 80,
      "metadata": {
        "colab": {
          "base_uri": "https://localhost:8080/",
          "height": 62
        },
        "id": "S36JIFkwCg-h",
        "outputId": "f265fd9b-9587-42ed-ce4e-7c47ee69807d"
      },
      "outputs": [
        {
          "output_type": "execute_result",
          "data": {
            "text/plain": [
              "             α⋅(C₁ + t)   \n",
              "          α⋅ℯ             \n",
              "f(t) = ───────────────────\n",
              "         ⎛     α⋅(C₁ + t)⎞\n",
              "       β⋅⎝1 - ℯ          ⎠"
            ],
            "text/latex": "$\\displaystyle f{\\left(t \\right)} = \\frac{\\alpha e^{\\alpha \\left(C_{1} + t\\right)}}{\\beta \\left(1 - e^{\\alpha \\left(C_{1} + t\\right)}\\right)}$"
          },
          "metadata": {},
          "execution_count": 80
        }
      ],
      "source": [
        "# solving equation\n",
        "solution_eq = dsolve(eq3)"
      ]
    },
    {
      "cell_type": "code",
      "execution_count": 81,
      "metadata": {
        "colab": {
          "base_uri": "https://localhost:8080/",
          "height": 62
        },
        "id": "3cV-mM3kCg-h",
        "outputId": "e0343314-7e10-42f4-fafd-85239abd0fbc"
      },
      "outputs": [
        {
          "output_type": "execute_result",
          "data": {
            "text/plain": [
              "      α⋅(C₁ + t)   \n",
              "   α⋅ℯ             \n",
              "───────────────────\n",
              "  ⎛     α⋅(C₁ + t)⎞\n",
              "β⋅⎝1 - ℯ          ⎠"
            ],
            "text/latex": "$\\displaystyle \\frac{\\alpha e^{\\alpha \\left(C_{1} + t\\right)}}{\\beta \\left(1 - e^{\\alpha \\left(C_{1} + t\\right)}\\right)}$"
          },
          "metadata": {},
          "execution_count": 81
        }
      ],
      "source": [
        "# general solution\n",
        "general = solution_eq.rhs"
      ]
    },
    {
      "cell_type": "code",
      "execution_count": 82,
      "metadata": {
        "colab": {
          "base_uri": "https://localhost:8080/",
          "height": 59
        },
        "id": "2id2Xtd1Cg-i",
        "outputId": "78f594a3-83d6-4379-9813-123b29999cd7"
      },
      "outputs": [
        {
          "output_type": "execute_result",
          "data": {
            "text/plain": [
              "      C₁⋅α   \n",
              "   α⋅ℯ       \n",
              "─────────────\n",
              "  ⎛     C₁⋅α⎞\n",
              "β⋅⎝1 - ℯ    ⎠"
            ],
            "text/latex": "$\\displaystyle \\frac{\\alpha e^{C_{1} \\alpha}}{\\beta \\left(1 - e^{C_{1} \\alpha}\\right)}$"
          },
          "metadata": {},
          "execution_count": 82
        }
      ],
      "source": [
        "# Solution at t=0\n",
        "at_0 = general.subs(t, 0)"
      ]
    },
    {
      "cell_type": "code",
      "execution_count": 83,
      "metadata": {
        "colab": {
          "base_uri": "https://localhost:8080/",
          "height": 66
        },
        "id": "gRufbrAICg-i",
        "outputId": "deb8ab73-5736-479b-f867-0ef0ec041f19"
      },
      "outputs": [
        {
          "output_type": "execute_result",
          "data": {
            "text/plain": [
              "   ⎛  β⋅p₀  ⎞\n",
              "log⎜────────⎟\n",
              "   ⎝α + β⋅p₀⎠\n",
              "─────────────\n",
              "      α      "
            ],
            "text/latex": "$\\displaystyle \\frac{\\log{\\left(\\frac{\\beta p_{0}}{\\alpha + \\beta p_{0}} \\right)}}{\\alpha}$"
          },
          "metadata": {},
          "execution_count": 83
        }
      ],
      "source": [
        "# Finding value of C1\n",
        "solutions = solve(Eq(at_0, p_0), C1)\n",
        "value_of_C1 = solutions[0]"
      ]
    },
    {
      "cell_type": "code",
      "execution_count": 84,
      "metadata": {
        "colab": {
          "base_uri": "https://localhost:8080/",
          "height": 57
        },
        "id": "KMbVqzjDCg-i",
        "outputId": "933083c1-f828-41c9-bd81-01dc39d867e3"
      },
      "outputs": [
        {
          "output_type": "execute_result",
          "data": {
            "text/plain": [
              "           α⋅t      \n",
              "     α⋅p₀⋅ℯ         \n",
              "────────────────────\n",
              "          α⋅t       \n",
              "α - β⋅p₀⋅ℯ    + β⋅p₀"
            ],
            "text/latex": "$\\displaystyle \\frac{\\alpha p_{0} e^{\\alpha t}}{\\alpha - \\beta p_{0} e^{\\alpha t} + \\beta p_{0}}$"
          },
          "metadata": {},
          "execution_count": 84
        }
      ],
      "source": [
        "#evaluate at t=0 and confirm that we get p_0\n",
        "particular = general.subs(C1, value_of_C1)\n",
        "particular.simplify()"
      ]
    },
    {
      "cell_type": "markdown",
      "metadata": {
        "id": "4D_hqoecCg-i"
      },
      "source": [
        "**Exercise:**  Use [WolframAlpha](https://www.wolframalpha.com/) to solve the quadratic growth model, using either or both forms of parameterization:\n",
        "\n",
        "    df(t) / dt = alpha f(t) + beta f(t)^2\n",
        "\n",
        "or\n",
        "\n",
        "    df(t) / dt = r f(t) (1 - f(t)/K)\n",
        "\n",
        "Find the general solution and also the particular solution where `f(0) = p_0`."
      ]
    },
    {
      "cell_type": "markdown",
      "source": [],
      "metadata": {
        "id": "gdg8UgpYgrbN"
      }
    },
    {
      "cell_type": "markdown",
      "source": [
        "After Using WolframAlpha to solve the quadratic growth model I got the equation which shown below"
      ],
      "metadata": {
        "id": "THLz5Z9SgyGf"
      }
    },
    {
      "cell_type": "code",
      "source": [
        "from IPython.display import display, Markdown\n",
        "\n",
        "equation = r\"$f(t) = -\\frac{\\alpha e^{\\alpha c_1 + \\alpha t}}{\\beta e^{\\alpha c_1 + \\alpha t} - 1}$\"\n",
        "display(Markdown(equation))\n"
      ],
      "metadata": {
        "id": "PA_MamRNgnKT",
        "outputId": "a01ef20a-e123-468e-f59a-99e3bdadc128",
        "colab": {
          "base_uri": "https://localhost:8080/",
          "height": 54
        }
      },
      "execution_count": 90,
      "outputs": [
        {
          "output_type": "display_data",
          "data": {
            "text/plain": [
              "<IPython.core.display.Markdown object>"
            ],
            "text/markdown": "$f(t) = -\\frac{\\alpha e^{\\alpha c_1 + \\alpha t}}{\\beta e^{\\alpha c_1 + \\alpha t} - 1}$"
          },
          "metadata": {}
        }
      ]
    }
  ],
  "metadata": {
    "colab": {
      "provenance": []
    },
    "kernelspec": {
      "display_name": "Python 3 (ipykernel)",
      "language": "python",
      "name": "python3"
    },
    "language_info": {
      "codemirror_mode": {
        "name": "ipython",
        "version": 3
      },
      "file_extension": ".py",
      "mimetype": "text/x-python",
      "name": "python",
      "nbconvert_exporter": "python",
      "pygments_lexer": "ipython3",
      "version": "3.10.9"
    }
  },
  "nbformat": 4,
  "nbformat_minor": 0
}